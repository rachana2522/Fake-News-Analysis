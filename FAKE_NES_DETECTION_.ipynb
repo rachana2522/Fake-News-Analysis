{
  "nbformat": 4,
  "nbformat_minor": 0,
  "metadata": {
    "colab": {
      "provenance": []
    },
    "kernelspec": {
      "name": "python3",
      "display_name": "Python 3"
    },
    "language_info": {
      "name": "python"
    }
  },
  "cells": [
    {
      "cell_type": "code",
      "source": [
        "pip install jupyterlab"
      ],
      "metadata": {
        "colab": {
          "base_uri": "https://localhost:8080/"
        },
        "id": "6mZlM9rSast1",
        "outputId": "f6c3406f-bb18-4b26-9b63-d240b20a636b"
      },
      "execution_count": 202,
      "outputs": [
        {
          "output_type": "stream",
          "name": "stdout",
          "text": [
            "Looking in indexes: https://pypi.org/simple, https://us-python.pkg.dev/colab-wheels/public/simple/\n",
            "Requirement already satisfied: jupyterlab in /usr/local/lib/python3.7/dist-packages (3.5.0)\n",
            "Requirement already satisfied: jupyterlab-server~=2.10 in /usr/local/lib/python3.7/dist-packages (from jupyterlab) (2.16.3)\n",
            "Requirement already satisfied: ipython in /usr/local/lib/python3.7/dist-packages (from jupyterlab) (7.9.0)\n",
            "Requirement already satisfied: tornado>=6.1.0 in /usr/local/lib/python3.7/dist-packages (from jupyterlab) (6.2)\n",
            "Requirement already satisfied: notebook<7 in /usr/local/lib/python3.7/dist-packages (from jupyterlab) (6.5.2)\n",
            "Requirement already satisfied: jupyter-core in /usr/local/lib/python3.7/dist-packages (from jupyterlab) (4.11.2)\n",
            "Requirement already satisfied: tomli in /usr/local/lib/python3.7/dist-packages (from jupyterlab) (2.0.1)\n",
            "Requirement already satisfied: jinja2>=2.1 in /usr/local/lib/python3.7/dist-packages (from jupyterlab) (3.1.2)\n",
            "Requirement already satisfied: jupyter-server<3,>=1.16.0 in /usr/local/lib/python3.7/dist-packages (from jupyterlab) (1.23.3)\n",
            "Requirement already satisfied: nbclassic in /usr/local/lib/python3.7/dist-packages (from jupyterlab) (0.4.8)\n",
            "Requirement already satisfied: packaging in /usr/local/lib/python3.7/dist-packages (from jupyterlab) (21.3)\n",
            "Requirement already satisfied: MarkupSafe>=2.0 in /usr/local/lib/python3.7/dist-packages (from jinja2>=2.1->jupyterlab) (2.0.1)\n",
            "Requirement already satisfied: nbformat>=5.2.0 in /usr/local/lib/python3.7/dist-packages (from jupyter-server<3,>=1.16.0->jupyterlab) (5.7.0)\n",
            "Requirement already satisfied: anyio<4,>=3.1.0 in /usr/local/lib/python3.7/dist-packages (from jupyter-server<3,>=1.16.0->jupyterlab) (3.6.2)\n",
            "Requirement already satisfied: websocket-client in /usr/local/lib/python3.7/dist-packages (from jupyter-server<3,>=1.16.0->jupyterlab) (1.4.2)\n",
            "Requirement already satisfied: pyzmq>=17 in /usr/local/lib/python3.7/dist-packages (from jupyter-server<3,>=1.16.0->jupyterlab) (23.2.1)\n",
            "Requirement already satisfied: prometheus-client in /usr/local/lib/python3.7/dist-packages (from jupyter-server<3,>=1.16.0->jupyterlab) (0.15.0)\n",
            "Requirement already satisfied: nbconvert>=6.4.4 in /usr/local/lib/python3.7/dist-packages (from jupyter-server<3,>=1.16.0->jupyterlab) (7.2.5)\n",
            "Requirement already satisfied: jupyter-client>=6.1.12 in /usr/local/lib/python3.7/dist-packages (from jupyter-server<3,>=1.16.0->jupyterlab) (6.1.12)\n",
            "Requirement already satisfied: Send2Trash in /usr/local/lib/python3.7/dist-packages (from jupyter-server<3,>=1.16.0->jupyterlab) (1.8.0)\n",
            "Requirement already satisfied: argon2-cffi in /usr/local/lib/python3.7/dist-packages (from jupyter-server<3,>=1.16.0->jupyterlab) (21.3.0)\n",
            "Requirement already satisfied: terminado>=0.8.3 in /usr/local/lib/python3.7/dist-packages (from jupyter-server<3,>=1.16.0->jupyterlab) (0.13.3)\n",
            "Requirement already satisfied: traitlets>=5.1 in /usr/local/lib/python3.7/dist-packages (from jupyter-server<3,>=1.16.0->jupyterlab) (5.5.0)\n",
            "Requirement already satisfied: sniffio>=1.1 in /usr/local/lib/python3.7/dist-packages (from anyio<4,>=3.1.0->jupyter-server<3,>=1.16.0->jupyterlab) (1.3.0)\n",
            "Requirement already satisfied: typing-extensions in /usr/local/lib/python3.7/dist-packages (from anyio<4,>=3.1.0->jupyter-server<3,>=1.16.0->jupyterlab) (4.1.1)\n",
            "Requirement already satisfied: idna>=2.8 in /usr/local/lib/python3.7/dist-packages (from anyio<4,>=3.1.0->jupyter-server<3,>=1.16.0->jupyterlab) (2.10)\n",
            "Requirement already satisfied: python-dateutil>=2.1 in /usr/local/lib/python3.7/dist-packages (from jupyter-client>=6.1.12->jupyter-server<3,>=1.16.0->jupyterlab) (2.8.2)\n",
            "Requirement already satisfied: importlib-metadata>=4.8.3 in /usr/local/lib/python3.7/dist-packages (from jupyterlab-server~=2.10->jupyterlab) (4.13.0)\n",
            "Requirement already satisfied: jsonschema>=3.0.1 in /usr/local/lib/python3.7/dist-packages (from jupyterlab-server~=2.10->jupyterlab) (4.3.3)\n",
            "Requirement already satisfied: requests in /usr/local/lib/python3.7/dist-packages (from jupyterlab-server~=2.10->jupyterlab) (2.23.0)\n",
            "Requirement already satisfied: json5 in /usr/local/lib/python3.7/dist-packages (from jupyterlab-server~=2.10->jupyterlab) (0.9.10)\n",
            "Requirement already satisfied: babel in /usr/local/lib/python3.7/dist-packages (from jupyterlab-server~=2.10->jupyterlab) (2.11.0)\n",
            "Requirement already satisfied: zipp>=0.5 in /usr/local/lib/python3.7/dist-packages (from importlib-metadata>=4.8.3->jupyterlab-server~=2.10->jupyterlab) (3.10.0)\n",
            "Requirement already satisfied: attrs>=17.4.0 in /usr/local/lib/python3.7/dist-packages (from jsonschema>=3.0.1->jupyterlab-server~=2.10->jupyterlab) (22.1.0)\n",
            "Requirement already satisfied: importlib-resources>=1.4.0 in /usr/local/lib/python3.7/dist-packages (from jsonschema>=3.0.1->jupyterlab-server~=2.10->jupyterlab) (5.10.0)\n",
            "Requirement already satisfied: pyrsistent!=0.17.0,!=0.17.1,!=0.17.2,>=0.14.0 in /usr/local/lib/python3.7/dist-packages (from jsonschema>=3.0.1->jupyterlab-server~=2.10->jupyterlab) (0.19.2)\n",
            "Requirement already satisfied: bleach in /usr/local/lib/python3.7/dist-packages (from nbconvert>=6.4.4->jupyter-server<3,>=1.16.0->jupyterlab) (5.0.1)\n",
            "Requirement already satisfied: tinycss2 in /usr/local/lib/python3.7/dist-packages (from nbconvert>=6.4.4->jupyter-server<3,>=1.16.0->jupyterlab) (1.2.1)\n",
            "Requirement already satisfied: jupyterlab-pygments in /usr/local/lib/python3.7/dist-packages (from nbconvert>=6.4.4->jupyter-server<3,>=1.16.0->jupyterlab) (0.2.2)\n",
            "Requirement already satisfied: mistune<3,>=2.0.3 in /usr/local/lib/python3.7/dist-packages (from nbconvert>=6.4.4->jupyter-server<3,>=1.16.0->jupyterlab) (2.0.4)\n",
            "Requirement already satisfied: pandocfilters>=1.4.1 in /usr/local/lib/python3.7/dist-packages (from nbconvert>=6.4.4->jupyter-server<3,>=1.16.0->jupyterlab) (1.5.0)\n",
            "Requirement already satisfied: nbclient>=0.5.0 in /usr/local/lib/python3.7/dist-packages (from nbconvert>=6.4.4->jupyter-server<3,>=1.16.0->jupyterlab) (0.7.0)\n",
            "Requirement already satisfied: pygments>=2.4.1 in /usr/local/lib/python3.7/dist-packages (from nbconvert>=6.4.4->jupyter-server<3,>=1.16.0->jupyterlab) (2.6.1)\n",
            "Requirement already satisfied: beautifulsoup4 in /usr/local/lib/python3.7/dist-packages (from nbconvert>=6.4.4->jupyter-server<3,>=1.16.0->jupyterlab) (4.6.3)\n",
            "Requirement already satisfied: defusedxml in /usr/local/lib/python3.7/dist-packages (from nbconvert>=6.4.4->jupyter-server<3,>=1.16.0->jupyterlab) (0.7.1)\n",
            "Requirement already satisfied: nest-asyncio in /usr/local/lib/python3.7/dist-packages (from nbclient>=0.5.0->nbconvert>=6.4.4->jupyter-server<3,>=1.16.0->jupyterlab) (1.5.6)\n",
            "Requirement already satisfied: fastjsonschema in /usr/local/lib/python3.7/dist-packages (from nbformat>=5.2.0->jupyter-server<3,>=1.16.0->jupyterlab) (2.16.2)\n",
            "Requirement already satisfied: ipython-genutils in /usr/local/lib/python3.7/dist-packages (from notebook<7->jupyterlab) (0.2.0)\n",
            "Requirement already satisfied: ipykernel in /usr/local/lib/python3.7/dist-packages (from notebook<7->jupyterlab) (5.3.4)\n",
            "Requirement already satisfied: notebook-shim>=0.1.0 in /usr/local/lib/python3.7/dist-packages (from nbclassic->jupyterlab) (0.2.2)\n",
            "Requirement already satisfied: six>=1.5 in /usr/local/lib/python3.7/dist-packages (from python-dateutil>=2.1->jupyter-client>=6.1.12->jupyter-server<3,>=1.16.0->jupyterlab) (1.15.0)\n",
            "Requirement already satisfied: ptyprocess in /usr/local/lib/python3.7/dist-packages (from terminado>=0.8.3->jupyter-server<3,>=1.16.0->jupyterlab) (0.7.0)\n",
            "Requirement already satisfied: argon2-cffi-bindings in /usr/local/lib/python3.7/dist-packages (from argon2-cffi->jupyter-server<3,>=1.16.0->jupyterlab) (21.2.0)\n",
            "Requirement already satisfied: cffi>=1.0.1 in /usr/local/lib/python3.7/dist-packages (from argon2-cffi-bindings->argon2-cffi->jupyter-server<3,>=1.16.0->jupyterlab) (1.15.1)\n",
            "Requirement already satisfied: pycparser in /usr/local/lib/python3.7/dist-packages (from cffi>=1.0.1->argon2-cffi-bindings->argon2-cffi->jupyter-server<3,>=1.16.0->jupyterlab) (2.21)\n",
            "Requirement already satisfied: pytz>=2015.7 in /usr/local/lib/python3.7/dist-packages (from babel->jupyterlab-server~=2.10->jupyterlab) (2022.6)\n",
            "Requirement already satisfied: webencodings in /usr/local/lib/python3.7/dist-packages (from bleach->nbconvert>=6.4.4->jupyter-server<3,>=1.16.0->jupyterlab) (0.5.1)\n",
            "Requirement already satisfied: jedi>=0.10 in /usr/local/lib/python3.7/dist-packages (from ipython->jupyterlab) (0.18.2)\n",
            "Requirement already satisfied: pexpect in /usr/local/lib/python3.7/dist-packages (from ipython->jupyterlab) (4.8.0)\n",
            "Requirement already satisfied: decorator in /usr/local/lib/python3.7/dist-packages (from ipython->jupyterlab) (4.4.2)\n",
            "Requirement already satisfied: pickleshare in /usr/local/lib/python3.7/dist-packages (from ipython->jupyterlab) (0.7.5)\n",
            "Requirement already satisfied: prompt-toolkit<2.1.0,>=2.0.0 in /usr/local/lib/python3.7/dist-packages (from ipython->jupyterlab) (2.0.10)\n",
            "Requirement already satisfied: backcall in /usr/local/lib/python3.7/dist-packages (from ipython->jupyterlab) (0.2.0)\n",
            "Requirement already satisfied: setuptools>=18.5 in /usr/local/lib/python3.7/dist-packages (from ipython->jupyterlab) (57.4.0)\n",
            "Requirement already satisfied: parso<0.9.0,>=0.8.0 in /usr/local/lib/python3.7/dist-packages (from jedi>=0.10->ipython->jupyterlab) (0.8.3)\n",
            "Requirement already satisfied: wcwidth in /usr/local/lib/python3.7/dist-packages (from prompt-toolkit<2.1.0,>=2.0.0->ipython->jupyterlab) (0.2.5)\n",
            "Requirement already satisfied: pyparsing!=3.0.5,>=2.0.2 in /usr/local/lib/python3.7/dist-packages (from packaging->jupyterlab) (3.0.9)\n",
            "Requirement already satisfied: chardet<4,>=3.0.2 in /usr/local/lib/python3.7/dist-packages (from requests->jupyterlab-server~=2.10->jupyterlab) (3.0.4)\n",
            "Requirement already satisfied: certifi>=2017.4.17 in /usr/local/lib/python3.7/dist-packages (from requests->jupyterlab-server~=2.10->jupyterlab) (2022.9.24)\n",
            "Requirement already satisfied: urllib3!=1.25.0,!=1.25.1,<1.26,>=1.21.1 in /usr/local/lib/python3.7/dist-packages (from requests->jupyterlab-server~=2.10->jupyterlab) (1.24.3)\n"
          ]
        }
      ]
    },
    {
      "cell_type": "code",
      "source": [
        "pip install notebook"
      ],
      "metadata": {
        "colab": {
          "base_uri": "https://localhost:8080/"
        },
        "id": "20BBi4ULa4EA",
        "outputId": "ff9e4e23-4ae6-4de1-c5a2-e07aee45b045"
      },
      "execution_count": 203,
      "outputs": [
        {
          "output_type": "stream",
          "name": "stdout",
          "text": [
            "Looking in indexes: https://pypi.org/simple, https://us-python.pkg.dev/colab-wheels/public/simple/\n",
            "Requirement already satisfied: notebook in /usr/local/lib/python3.7/dist-packages (6.5.2)\n",
            "Requirement already satisfied: nest-asyncio>=1.5 in /usr/local/lib/python3.7/dist-packages (from notebook) (1.5.6)\n",
            "Requirement already satisfied: ipython-genutils in /usr/local/lib/python3.7/dist-packages (from notebook) (0.2.0)\n",
            "Requirement already satisfied: jinja2 in /usr/local/lib/python3.7/dist-packages (from notebook) (3.1.2)\n",
            "Requirement already satisfied: Send2Trash>=1.8.0 in /usr/local/lib/python3.7/dist-packages (from notebook) (1.8.0)\n",
            "Requirement already satisfied: terminado>=0.8.3 in /usr/local/lib/python3.7/dist-packages (from notebook) (0.13.3)\n",
            "Requirement already satisfied: nbclassic>=0.4.7 in /usr/local/lib/python3.7/dist-packages (from notebook) (0.4.8)\n",
            "Requirement already satisfied: prometheus-client in /usr/local/lib/python3.7/dist-packages (from notebook) (0.15.0)\n",
            "Requirement already satisfied: pyzmq>=17 in /usr/local/lib/python3.7/dist-packages (from notebook) (23.2.1)\n",
            "Requirement already satisfied: jupyter-client>=5.3.4 in /usr/local/lib/python3.7/dist-packages (from notebook) (6.1.12)\n",
            "Requirement already satisfied: tornado>=6.1 in /usr/local/lib/python3.7/dist-packages (from notebook) (6.2)\n",
            "Requirement already satisfied: jupyter-core>=4.6.1 in /usr/local/lib/python3.7/dist-packages (from notebook) (4.11.2)\n",
            "Requirement already satisfied: nbformat in /usr/local/lib/python3.7/dist-packages (from notebook) (5.7.0)\n",
            "Requirement already satisfied: nbconvert>=5 in /usr/local/lib/python3.7/dist-packages (from notebook) (7.2.5)\n",
            "Requirement already satisfied: ipykernel in /usr/local/lib/python3.7/dist-packages (from notebook) (5.3.4)\n",
            "Requirement already satisfied: traitlets>=4.2.1 in /usr/local/lib/python3.7/dist-packages (from notebook) (5.5.0)\n",
            "Requirement already satisfied: argon2-cffi in /usr/local/lib/python3.7/dist-packages (from notebook) (21.3.0)\n",
            "Requirement already satisfied: python-dateutil>=2.1 in /usr/local/lib/python3.7/dist-packages (from jupyter-client>=5.3.4->notebook) (2.8.2)\n",
            "Requirement already satisfied: jupyter-server>=1.8 in /usr/local/lib/python3.7/dist-packages (from nbclassic>=0.4.7->notebook) (1.23.3)\n",
            "Requirement already satisfied: notebook-shim>=0.1.0 in /usr/local/lib/python3.7/dist-packages (from nbclassic>=0.4.7->notebook) (0.2.2)\n",
            "Requirement already satisfied: packaging in /usr/local/lib/python3.7/dist-packages (from jupyter-server>=1.8->nbclassic>=0.4.7->notebook) (21.3)\n",
            "Requirement already satisfied: websocket-client in /usr/local/lib/python3.7/dist-packages (from jupyter-server>=1.8->nbclassic>=0.4.7->notebook) (1.4.2)\n",
            "Requirement already satisfied: anyio<4,>=3.1.0 in /usr/local/lib/python3.7/dist-packages (from jupyter-server>=1.8->nbclassic>=0.4.7->notebook) (3.6.2)\n",
            "Requirement already satisfied: sniffio>=1.1 in /usr/local/lib/python3.7/dist-packages (from anyio<4,>=3.1.0->jupyter-server>=1.8->nbclassic>=0.4.7->notebook) (1.3.0)\n",
            "Requirement already satisfied: typing-extensions in /usr/local/lib/python3.7/dist-packages (from anyio<4,>=3.1.0->jupyter-server>=1.8->nbclassic>=0.4.7->notebook) (4.1.1)\n",
            "Requirement already satisfied: idna>=2.8 in /usr/local/lib/python3.7/dist-packages (from anyio<4,>=3.1.0->jupyter-server>=1.8->nbclassic>=0.4.7->notebook) (2.10)\n",
            "Requirement already satisfied: mistune<3,>=2.0.3 in /usr/local/lib/python3.7/dist-packages (from nbconvert>=5->notebook) (2.0.4)\n",
            "Requirement already satisfied: pandocfilters>=1.4.1 in /usr/local/lib/python3.7/dist-packages (from nbconvert>=5->notebook) (1.5.0)\n",
            "Requirement already satisfied: pygments>=2.4.1 in /usr/local/lib/python3.7/dist-packages (from nbconvert>=5->notebook) (2.6.1)\n",
            "Requirement already satisfied: importlib-metadata>=3.6 in /usr/local/lib/python3.7/dist-packages (from nbconvert>=5->notebook) (4.13.0)\n",
            "Requirement already satisfied: beautifulsoup4 in /usr/local/lib/python3.7/dist-packages (from nbconvert>=5->notebook) (4.6.3)\n",
            "Requirement already satisfied: tinycss2 in /usr/local/lib/python3.7/dist-packages (from nbconvert>=5->notebook) (1.2.1)\n",
            "Requirement already satisfied: defusedxml in /usr/local/lib/python3.7/dist-packages (from nbconvert>=5->notebook) (0.7.1)\n",
            "Requirement already satisfied: markupsafe>=2.0 in /usr/local/lib/python3.7/dist-packages (from nbconvert>=5->notebook) (2.0.1)\n",
            "Requirement already satisfied: bleach in /usr/local/lib/python3.7/dist-packages (from nbconvert>=5->notebook) (5.0.1)\n",
            "Requirement already satisfied: jupyterlab-pygments in /usr/local/lib/python3.7/dist-packages (from nbconvert>=5->notebook) (0.2.2)\n",
            "Requirement already satisfied: nbclient>=0.5.0 in /usr/local/lib/python3.7/dist-packages (from nbconvert>=5->notebook) (0.7.0)\n",
            "Requirement already satisfied: zipp>=0.5 in /usr/local/lib/python3.7/dist-packages (from importlib-metadata>=3.6->nbconvert>=5->notebook) (3.10.0)\n",
            "Requirement already satisfied: fastjsonschema in /usr/local/lib/python3.7/dist-packages (from nbformat->notebook) (2.16.2)\n",
            "Requirement already satisfied: jsonschema>=2.6 in /usr/local/lib/python3.7/dist-packages (from nbformat->notebook) (4.3.3)\n",
            "Requirement already satisfied: pyrsistent!=0.17.0,!=0.17.1,!=0.17.2,>=0.14.0 in /usr/local/lib/python3.7/dist-packages (from jsonschema>=2.6->nbformat->notebook) (0.19.2)\n",
            "Requirement already satisfied: importlib-resources>=1.4.0 in /usr/local/lib/python3.7/dist-packages (from jsonschema>=2.6->nbformat->notebook) (5.10.0)\n",
            "Requirement already satisfied: attrs>=17.4.0 in /usr/local/lib/python3.7/dist-packages (from jsonschema>=2.6->nbformat->notebook) (22.1.0)\n",
            "Requirement already satisfied: six>=1.5 in /usr/local/lib/python3.7/dist-packages (from python-dateutil>=2.1->jupyter-client>=5.3.4->notebook) (1.15.0)\n",
            "Requirement already satisfied: ptyprocess in /usr/local/lib/python3.7/dist-packages (from terminado>=0.8.3->notebook) (0.7.0)\n",
            "Requirement already satisfied: argon2-cffi-bindings in /usr/local/lib/python3.7/dist-packages (from argon2-cffi->notebook) (21.2.0)\n",
            "Requirement already satisfied: cffi>=1.0.1 in /usr/local/lib/python3.7/dist-packages (from argon2-cffi-bindings->argon2-cffi->notebook) (1.15.1)\n",
            "Requirement already satisfied: pycparser in /usr/local/lib/python3.7/dist-packages (from cffi>=1.0.1->argon2-cffi-bindings->argon2-cffi->notebook) (2.21)\n",
            "Requirement already satisfied: webencodings in /usr/local/lib/python3.7/dist-packages (from bleach->nbconvert>=5->notebook) (0.5.1)\n",
            "Requirement already satisfied: ipython>=5.0.0 in /usr/local/lib/python3.7/dist-packages (from ipykernel->notebook) (7.9.0)\n",
            "Requirement already satisfied: pexpect in /usr/local/lib/python3.7/dist-packages (from ipython>=5.0.0->ipykernel->notebook) (4.8.0)\n",
            "Requirement already satisfied: pickleshare in /usr/local/lib/python3.7/dist-packages (from ipython>=5.0.0->ipykernel->notebook) (0.7.5)\n",
            "Requirement already satisfied: backcall in /usr/local/lib/python3.7/dist-packages (from ipython>=5.0.0->ipykernel->notebook) (0.2.0)\n",
            "Requirement already satisfied: decorator in /usr/local/lib/python3.7/dist-packages (from ipython>=5.0.0->ipykernel->notebook) (4.4.2)\n",
            "Requirement already satisfied: setuptools>=18.5 in /usr/local/lib/python3.7/dist-packages (from ipython>=5.0.0->ipykernel->notebook) (57.4.0)\n",
            "Requirement already satisfied: prompt-toolkit<2.1.0,>=2.0.0 in /usr/local/lib/python3.7/dist-packages (from ipython>=5.0.0->ipykernel->notebook) (2.0.10)\n",
            "Requirement already satisfied: jedi>=0.10 in /usr/local/lib/python3.7/dist-packages (from ipython>=5.0.0->ipykernel->notebook) (0.18.2)\n",
            "Requirement already satisfied: parso<0.9.0,>=0.8.0 in /usr/local/lib/python3.7/dist-packages (from jedi>=0.10->ipython>=5.0.0->ipykernel->notebook) (0.8.3)\n",
            "Requirement already satisfied: wcwidth in /usr/local/lib/python3.7/dist-packages (from prompt-toolkit<2.1.0,>=2.0.0->ipython>=5.0.0->ipykernel->notebook) (0.2.5)\n",
            "Requirement already satisfied: pyparsing!=3.0.5,>=2.0.2 in /usr/local/lib/python3.7/dist-packages (from packaging->jupyter-server>=1.8->nbclassic>=0.4.7->notebook) (3.0.9)\n"
          ]
        }
      ]
    },
    {
      "cell_type": "code",
      "source": [
        "pip install matplotlib-venn"
      ],
      "metadata": {
        "colab": {
          "base_uri": "https://localhost:8080/"
        },
        "id": "m8Sccv0YYoKe",
        "outputId": "2b043a70-d194-4fc9-a1f1-fb71cea99ecb"
      },
      "execution_count": 204,
      "outputs": [
        {
          "output_type": "stream",
          "name": "stdout",
          "text": [
            "Looking in indexes: https://pypi.org/simple, https://us-python.pkg.dev/colab-wheels/public/simple/\n",
            "Requirement already satisfied: matplotlib-venn in /usr/local/lib/python3.7/dist-packages (0.11.7)\n",
            "Requirement already satisfied: matplotlib in /usr/local/lib/python3.7/dist-packages (from matplotlib-venn) (3.2.2)\n",
            "Requirement already satisfied: scipy in /usr/local/lib/python3.7/dist-packages (from matplotlib-venn) (1.7.3)\n",
            "Requirement already satisfied: numpy in /usr/local/lib/python3.7/dist-packages (from matplotlib-venn) (1.21.6)\n",
            "Requirement already satisfied: python-dateutil>=2.1 in /usr/local/lib/python3.7/dist-packages (from matplotlib->matplotlib-venn) (2.8.2)\n",
            "Requirement already satisfied: cycler>=0.10 in /usr/local/lib/python3.7/dist-packages (from matplotlib->matplotlib-venn) (0.11.0)\n",
            "Requirement already satisfied: pyparsing!=2.0.4,!=2.1.2,!=2.1.6,>=2.0.1 in /usr/local/lib/python3.7/dist-packages (from matplotlib->matplotlib-venn) (3.0.9)\n",
            "Requirement already satisfied: kiwisolver>=1.0.1 in /usr/local/lib/python3.7/dist-packages (from matplotlib->matplotlib-venn) (1.4.4)\n",
            "Requirement already satisfied: typing-extensions in /usr/local/lib/python3.7/dist-packages (from kiwisolver>=1.0.1->matplotlib->matplotlib-venn) (4.1.1)\n",
            "Requirement already satisfied: six>=1.5 in /usr/local/lib/python3.7/dist-packages (from python-dateutil>=2.1->matplotlib->matplotlib-venn) (1.15.0)\n"
          ]
        }
      ]
    },
    {
      "cell_type": "code",
      "source": [
        "# https://pypi.python.org/pypi/libarchive\n",
        "!apt-get -qq install -y libarchive-dev && pip install -U libarchive\n",
        "import libarchive"
      ],
      "metadata": {
        "colab": {
          "base_uri": "https://localhost:8080/"
        },
        "id": "Z44G1x0WYxLz",
        "outputId": "3fc4dbb7-a35d-4a6e-a936-9f51bc24e984"
      },
      "execution_count": 205,
      "outputs": [
        {
          "output_type": "stream",
          "name": "stdout",
          "text": [
            "Looking in indexes: https://pypi.org/simple, https://us-python.pkg.dev/colab-wheels/public/simple/\n",
            "Requirement already satisfied: libarchive in /usr/local/lib/python3.7/dist-packages (0.4.7)\n",
            "Requirement already satisfied: nose in /usr/local/lib/python3.7/dist-packages (from libarchive) (1.3.7)\n"
          ]
        }
      ]
    },
    {
      "cell_type": "code",
      "source": [
        "# https://pypi.python.org/pypi/pydot\n",
        "!apt-get -qq install -y graphviz && pip install pydot\n",
        "import pydot"
      ],
      "metadata": {
        "colab": {
          "base_uri": "https://localhost:8080/"
        },
        "id": "SHcLKINGY1Js",
        "outputId": "884bad51-37ae-4433-c74e-dbfdba5f8884"
      },
      "execution_count": 206,
      "outputs": [
        {
          "output_type": "stream",
          "name": "stdout",
          "text": [
            "Looking in indexes: https://pypi.org/simple, https://us-python.pkg.dev/colab-wheels/public/simple/\n",
            "Requirement already satisfied: pydot in /usr/local/lib/python3.7/dist-packages (1.3.0)\n",
            "Requirement already satisfied: pyparsing>=2.1.4 in /usr/local/lib/python3.7/dist-packages (from pydot) (3.0.9)\n"
          ]
        }
      ]
    },
    {
      "cell_type": "code",
      "source": [
        "!pip install cartopy\n",
        "import cartopy"
      ],
      "metadata": {
        "colab": {
          "base_uri": "https://localhost:8080/"
        },
        "id": "raqYYvFIY5Ew",
        "outputId": "06bca0b4-0619-4d7e-dd02-cd6feb7e19f3"
      },
      "execution_count": 207,
      "outputs": [
        {
          "output_type": "stream",
          "name": "stdout",
          "text": [
            "Looking in indexes: https://pypi.org/simple, https://us-python.pkg.dev/colab-wheels/public/simple/\n",
            "Requirement already satisfied: cartopy in /usr/local/lib/python3.7/dist-packages (0.19.0.post1)\n",
            "Requirement already satisfied: pyshp>=2 in /usr/local/lib/python3.7/dist-packages (from cartopy) (2.3.1)\n",
            "Requirement already satisfied: shapely>=1.5.6 in /usr/local/lib/python3.7/dist-packages (from cartopy) (1.8.5.post1)\n",
            "Requirement already satisfied: numpy>=1.13.3 in /usr/local/lib/python3.7/dist-packages (from cartopy) (1.21.6)\n"
          ]
        }
      ]
    },
    {
      "cell_type": "code",
      "source": [
        "!pip install colorama \n",
        "import colorama"
      ],
      "metadata": {
        "colab": {
          "base_uri": "https://localhost:8080/"
        },
        "id": "7vroonSaZ_Fr",
        "outputId": "18faf882-33d8-4741-df53-8fa37edcc4c7"
      },
      "execution_count": 208,
      "outputs": [
        {
          "output_type": "stream",
          "name": "stdout",
          "text": [
            "Looking in indexes: https://pypi.org/simple, https://us-python.pkg.dev/colab-wheels/public/simple/\n",
            "Requirement already satisfied: colorama in /usr/local/lib/python3.7/dist-packages (0.4.6)\n"
          ]
        }
      ]
    },
    {
      "cell_type": "code",
      "execution_count": 209,
      "metadata": {
        "id": "1DphczVQRHXf"
      },
      "outputs": [],
      "source": [
        "import pandas as pd\n",
        "import matplotlib.pyplot as plt\n",
        "import cufflinks as cf\n",
        "import plotly\n",
        "import plotly.express as px\n",
        "import seaborn as sns\n",
        "\n",
        "from IPython.core.display import HTML\n",
        "from wordcloud import WordCloud\n",
        "from sklearn.feature_extraction.text import TfidfVectorizer\n",
        "from sklearn.model_selection import train_test_split\n",
        "from sklearn import metrics\n",
        "from sklearn.ensemble import RandomForestClassifier, AdaBoostClassifier\n",
        "from sklearn.tree import DecisionTreeClassifier\n",
        "from datetime import datetime\n",
        "from sklearn.feature_extraction.text import CountVectorizer\n",
        "from pandas import DataFrame\n",
        "from collections import OrderedDict \n",
        "from colorama import Fore, Back, Style\n",
        "y_ = Fore.YELLOW\n",
        "r_ = Fore.RED\n",
        "g_ = Fore.GREEN\n",
        "b_ = Fore.BLUE\n",
        "m_ = Fore.MAGENTA\n",
        "sr_ = Style.RESET_ALL"
      ]
    },
    {
      "cell_type": "markdown",
      "source": [
        "# New Section"
      ],
      "metadata": {
        "id": "yFUdo65QSR94"
      }
    },
    {
      "cell_type": "code",
      "source": [
        "df = pd.read_csv(r'/content/drive/MyDrive/news_articles.csv/news_articles.csv', encoding=\"latin\", index_col=0)\n",
        "df = df.dropna()\n",
        "df.count()"
      ],
      "metadata": {
        "id": "MhJaT6OORxgG",
        "colab": {
          "base_uri": "https://localhost:8080/"
        },
        "outputId": "75b44b54-2a3d-4ba2-c05e-8fd0e91393de"
      },
      "execution_count": 210,
      "outputs": [
        {
          "output_type": "execute_result",
          "data": {
            "text/plain": [
              "published                  2045\n",
              "title                      2045\n",
              "text                       2045\n",
              "language                   2045\n",
              "site_url                   2045\n",
              "main_img_url               2045\n",
              "type                       2045\n",
              "label                      2045\n",
              "title_without_stopwords    2045\n",
              "text_without_stopwords     2045\n",
              "hasImage                   2045\n",
              "dtype: int64"
            ]
          },
          "metadata": {},
          "execution_count": 210
        }
      ]
    },
    {
      "cell_type": "code",
      "source": [
        "df.head(5)"
      ],
      "metadata": {
        "id": "df6RZYC2Rxir",
        "colab": {
          "base_uri": "https://localhost:8080/",
          "height": 698
        },
        "outputId": "f2ecbfca-64e4-4ea6-c129-ed098156ab4c"
      },
      "execution_count": 211,
      "outputs": [
        {
          "output_type": "execute_result",
          "data": {
            "text/plain": [
              "                                          published  \\\n",
              "author                                                \n",
              "Barracuda Brigade     2016-10-26T21:41:00.000+03:00   \n",
              "reasoning with facts  2016-10-29T08:47:11.259+03:00   \n",
              "Barracuda Brigade     2016-10-31T01:41:49.479+02:00   \n",
              "Fed Up                2016-11-01T05:22:00.000+02:00   \n",
              "Fed Up                2016-11-01T21:56:00.000+02:00   \n",
              "\n",
              "                                                                  title  \\\n",
              "author                                                                    \n",
              "Barracuda Brigade     muslims busted they stole millions in govt ben...   \n",
              "reasoning with facts  re why did attorney general loretta lynch plea...   \n",
              "Barracuda Brigade     breaking weiner cooperating with fbi on hillar...   \n",
              "Fed Up                pin drop speech by father of daughter kidnappe...   \n",
              "Fed Up                fantastic trumps  point plan to reform healthc...   \n",
              "\n",
              "                                                                   text  \\\n",
              "author                                                                    \n",
              "Barracuda Brigade     print they should pay all the back all the mon...   \n",
              "reasoning with facts  why did attorney general loretta lynch plead t...   \n",
              "Barracuda Brigade     red state  \\nfox news sunday reported this mor...   \n",
              "Fed Up                email kayla mueller was a prisoner and torture...   \n",
              "Fed Up                email healthcare reform to make america great ...   \n",
              "\n",
              "                     language             site_url  \\\n",
              "author                                               \n",
              "Barracuda Brigade     english  100percentfedup.com   \n",
              "reasoning with facts  english  100percentfedup.com   \n",
              "Barracuda Brigade     english  100percentfedup.com   \n",
              "Fed Up                english  100percentfedup.com   \n",
              "Fed Up                english  100percentfedup.com   \n",
              "\n",
              "                                                           main_img_url  type  \\\n",
              "author                                                                          \n",
              "Barracuda Brigade     http://bb4sp.com/wp-content/uploads/2016/10/Fu...  bias   \n",
              "reasoning with facts  http://bb4sp.com/wp-content/uploads/2016/10/Fu...  bias   \n",
              "Barracuda Brigade     http://bb4sp.com/wp-content/uploads/2016/10/Fu...  bias   \n",
              "Fed Up                http://100percentfedup.com/wp-content/uploads/...  bias   \n",
              "Fed Up                http://100percentfedup.com/wp-content/uploads/...  bias   \n",
              "\n",
              "                     label                            title_without_stopwords  \\\n",
              "author                                                                          \n",
              "Barracuda Brigade     Real        muslims busted stole millions govt benefits   \n",
              "reasoning with facts  Real         attorney general loretta lynch plead fifth   \n",
              "Barracuda Brigade     Real  breaking weiner cooperating fbi hillary email ...   \n",
              "Fed Up                Real  pin drop speech father daughter kidnapped kill...   \n",
              "Fed Up                Real  fantastic trumps point plan reform healthcare ...   \n",
              "\n",
              "                                                 text_without_stopwords  \\\n",
              "author                                                                    \n",
              "Barracuda Brigade     print pay back money plus interest entire fami...   \n",
              "reasoning with facts  attorney general loretta lynch plead fifth bar...   \n",
              "Barracuda Brigade     red state fox news sunday reported morning ant...   \n",
              "Fed Up                email kayla mueller prisoner tortured isis cha...   \n",
              "Fed Up                email healthcare reform make america great sin...   \n",
              "\n",
              "                      hasImage  \n",
              "author                          \n",
              "Barracuda Brigade          1.0  \n",
              "reasoning with facts       1.0  \n",
              "Barracuda Brigade          1.0  \n",
              "Fed Up                     1.0  \n",
              "Fed Up                     1.0  "
            ],
            "text/html": [
              "\n",
              "  <div id=\"df-fd2dbeb1-f81b-43f5-b5b7-9de469a3e14c\">\n",
              "    <div class=\"colab-df-container\">\n",
              "      <div>\n",
              "<style scoped>\n",
              "    .dataframe tbody tr th:only-of-type {\n",
              "        vertical-align: middle;\n",
              "    }\n",
              "\n",
              "    .dataframe tbody tr th {\n",
              "        vertical-align: top;\n",
              "    }\n",
              "\n",
              "    .dataframe thead th {\n",
              "        text-align: right;\n",
              "    }\n",
              "</style>\n",
              "<table border=\"1\" class=\"dataframe\">\n",
              "  <thead>\n",
              "    <tr style=\"text-align: right;\">\n",
              "      <th></th>\n",
              "      <th>published</th>\n",
              "      <th>title</th>\n",
              "      <th>text</th>\n",
              "      <th>language</th>\n",
              "      <th>site_url</th>\n",
              "      <th>main_img_url</th>\n",
              "      <th>type</th>\n",
              "      <th>label</th>\n",
              "      <th>title_without_stopwords</th>\n",
              "      <th>text_without_stopwords</th>\n",
              "      <th>hasImage</th>\n",
              "    </tr>\n",
              "    <tr>\n",
              "      <th>author</th>\n",
              "      <th></th>\n",
              "      <th></th>\n",
              "      <th></th>\n",
              "      <th></th>\n",
              "      <th></th>\n",
              "      <th></th>\n",
              "      <th></th>\n",
              "      <th></th>\n",
              "      <th></th>\n",
              "      <th></th>\n",
              "      <th></th>\n",
              "    </tr>\n",
              "  </thead>\n",
              "  <tbody>\n",
              "    <tr>\n",
              "      <th>Barracuda Brigade</th>\n",
              "      <td>2016-10-26T21:41:00.000+03:00</td>\n",
              "      <td>muslims busted they stole millions in govt ben...</td>\n",
              "      <td>print they should pay all the back all the mon...</td>\n",
              "      <td>english</td>\n",
              "      <td>100percentfedup.com</td>\n",
              "      <td>http://bb4sp.com/wp-content/uploads/2016/10/Fu...</td>\n",
              "      <td>bias</td>\n",
              "      <td>Real</td>\n",
              "      <td>muslims busted stole millions govt benefits</td>\n",
              "      <td>print pay back money plus interest entire fami...</td>\n",
              "      <td>1.0</td>\n",
              "    </tr>\n",
              "    <tr>\n",
              "      <th>reasoning with facts</th>\n",
              "      <td>2016-10-29T08:47:11.259+03:00</td>\n",
              "      <td>re why did attorney general loretta lynch plea...</td>\n",
              "      <td>why did attorney general loretta lynch plead t...</td>\n",
              "      <td>english</td>\n",
              "      <td>100percentfedup.com</td>\n",
              "      <td>http://bb4sp.com/wp-content/uploads/2016/10/Fu...</td>\n",
              "      <td>bias</td>\n",
              "      <td>Real</td>\n",
              "      <td>attorney general loretta lynch plead fifth</td>\n",
              "      <td>attorney general loretta lynch plead fifth bar...</td>\n",
              "      <td>1.0</td>\n",
              "    </tr>\n",
              "    <tr>\n",
              "      <th>Barracuda Brigade</th>\n",
              "      <td>2016-10-31T01:41:49.479+02:00</td>\n",
              "      <td>breaking weiner cooperating with fbi on hillar...</td>\n",
              "      <td>red state  \\nfox news sunday reported this mor...</td>\n",
              "      <td>english</td>\n",
              "      <td>100percentfedup.com</td>\n",
              "      <td>http://bb4sp.com/wp-content/uploads/2016/10/Fu...</td>\n",
              "      <td>bias</td>\n",
              "      <td>Real</td>\n",
              "      <td>breaking weiner cooperating fbi hillary email ...</td>\n",
              "      <td>red state fox news sunday reported morning ant...</td>\n",
              "      <td>1.0</td>\n",
              "    </tr>\n",
              "    <tr>\n",
              "      <th>Fed Up</th>\n",
              "      <td>2016-11-01T05:22:00.000+02:00</td>\n",
              "      <td>pin drop speech by father of daughter kidnappe...</td>\n",
              "      <td>email kayla mueller was a prisoner and torture...</td>\n",
              "      <td>english</td>\n",
              "      <td>100percentfedup.com</td>\n",
              "      <td>http://100percentfedup.com/wp-content/uploads/...</td>\n",
              "      <td>bias</td>\n",
              "      <td>Real</td>\n",
              "      <td>pin drop speech father daughter kidnapped kill...</td>\n",
              "      <td>email kayla mueller prisoner tortured isis cha...</td>\n",
              "      <td>1.0</td>\n",
              "    </tr>\n",
              "    <tr>\n",
              "      <th>Fed Up</th>\n",
              "      <td>2016-11-01T21:56:00.000+02:00</td>\n",
              "      <td>fantastic trumps  point plan to reform healthc...</td>\n",
              "      <td>email healthcare reform to make america great ...</td>\n",
              "      <td>english</td>\n",
              "      <td>100percentfedup.com</td>\n",
              "      <td>http://100percentfedup.com/wp-content/uploads/...</td>\n",
              "      <td>bias</td>\n",
              "      <td>Real</td>\n",
              "      <td>fantastic trumps point plan reform healthcare ...</td>\n",
              "      <td>email healthcare reform make america great sin...</td>\n",
              "      <td>1.0</td>\n",
              "    </tr>\n",
              "  </tbody>\n",
              "</table>\n",
              "</div>\n",
              "      <button class=\"colab-df-convert\" onclick=\"convertToInteractive('df-fd2dbeb1-f81b-43f5-b5b7-9de469a3e14c')\"\n",
              "              title=\"Convert this dataframe to an interactive table.\"\n",
              "              style=\"display:none;\">\n",
              "        \n",
              "  <svg xmlns=\"http://www.w3.org/2000/svg\" height=\"24px\"viewBox=\"0 0 24 24\"\n",
              "       width=\"24px\">\n",
              "    <path d=\"M0 0h24v24H0V0z\" fill=\"none\"/>\n",
              "    <path d=\"M18.56 5.44l.94 2.06.94-2.06 2.06-.94-2.06-.94-.94-2.06-.94 2.06-2.06.94zm-11 1L8.5 8.5l.94-2.06 2.06-.94-2.06-.94L8.5 2.5l-.94 2.06-2.06.94zm10 10l.94 2.06.94-2.06 2.06-.94-2.06-.94-.94-2.06-.94 2.06-2.06.94z\"/><path d=\"M17.41 7.96l-1.37-1.37c-.4-.4-.92-.59-1.43-.59-.52 0-1.04.2-1.43.59L10.3 9.45l-7.72 7.72c-.78.78-.78 2.05 0 2.83L4 21.41c.39.39.9.59 1.41.59.51 0 1.02-.2 1.41-.59l7.78-7.78 2.81-2.81c.8-.78.8-2.07 0-2.86zM5.41 20L4 18.59l7.72-7.72 1.47 1.35L5.41 20z\"/>\n",
              "  </svg>\n",
              "      </button>\n",
              "      \n",
              "  <style>\n",
              "    .colab-df-container {\n",
              "      display:flex;\n",
              "      flex-wrap:wrap;\n",
              "      gap: 12px;\n",
              "    }\n",
              "\n",
              "    .colab-df-convert {\n",
              "      background-color: #E8F0FE;\n",
              "      border: none;\n",
              "      border-radius: 50%;\n",
              "      cursor: pointer;\n",
              "      display: none;\n",
              "      fill: #1967D2;\n",
              "      height: 32px;\n",
              "      padding: 0 0 0 0;\n",
              "      width: 32px;\n",
              "    }\n",
              "\n",
              "    .colab-df-convert:hover {\n",
              "      background-color: #E2EBFA;\n",
              "      box-shadow: 0px 1px 2px rgba(60, 64, 67, 0.3), 0px 1px 3px 1px rgba(60, 64, 67, 0.15);\n",
              "      fill: #174EA6;\n",
              "    }\n",
              "\n",
              "    [theme=dark] .colab-df-convert {\n",
              "      background-color: #3B4455;\n",
              "      fill: #D2E3FC;\n",
              "    }\n",
              "\n",
              "    [theme=dark] .colab-df-convert:hover {\n",
              "      background-color: #434B5C;\n",
              "      box-shadow: 0px 1px 3px 1px rgba(0, 0, 0, 0.15);\n",
              "      filter: drop-shadow(0px 1px 2px rgba(0, 0, 0, 0.3));\n",
              "      fill: #FFFFFF;\n",
              "    }\n",
              "  </style>\n",
              "\n",
              "      <script>\n",
              "        const buttonEl =\n",
              "          document.querySelector('#df-fd2dbeb1-f81b-43f5-b5b7-9de469a3e14c button.colab-df-convert');\n",
              "        buttonEl.style.display =\n",
              "          google.colab.kernel.accessAllowed ? 'block' : 'none';\n",
              "\n",
              "        async function convertToInteractive(key) {\n",
              "          const element = document.querySelector('#df-fd2dbeb1-f81b-43f5-b5b7-9de469a3e14c');\n",
              "          const dataTable =\n",
              "            await google.colab.kernel.invokeFunction('convertToInteractive',\n",
              "                                                     [key], {});\n",
              "          if (!dataTable) return;\n",
              "\n",
              "          const docLinkHtml = 'Like what you see? Visit the ' +\n",
              "            '<a target=\"_blank\" href=https://colab.research.google.com/notebooks/data_table.ipynb>data table notebook</a>'\n",
              "            + ' to learn more about interactive tables.';\n",
              "          element.innerHTML = '';\n",
              "          dataTable['output_type'] = 'display_data';\n",
              "          await google.colab.output.renderOutput(dataTable, element);\n",
              "          const docLink = document.createElement('div');\n",
              "          docLink.innerHTML = docLinkHtml;\n",
              "          element.appendChild(docLink);\n",
              "        }\n",
              "      </script>\n",
              "    </div>\n",
              "  </div>\n",
              "  "
            ]
          },
          "metadata": {},
          "execution_count": 211
        }
      ]
    },
    {
      "cell_type": "code",
      "source": [
        "df['type'].unique()"
      ],
      "metadata": {
        "id": "R9Q01RuIRxld",
        "colab": {
          "base_uri": "https://localhost:8080/"
        },
        "outputId": "61f40afd-80c1-41ba-fc85-7c73d17b795d"
      },
      "execution_count": 212,
      "outputs": [
        {
          "output_type": "execute_result",
          "data": {
            "text/plain": [
              "array(['bias', 'conspiracy', 'fake', 'bs', 'satire', 'hate', 'junksci',\n",
              "       'state'], dtype=object)"
            ]
          },
          "metadata": {},
          "execution_count": 212
        }
      ]
    },
    {
      "cell_type": "code",
      "source": [
        "cf.go_offline()\n",
        "cf.set_config_file(offline=False, world_readable=True)"
      ],
      "metadata": {
        "id": "dYfSHV6sRxn_",
        "colab": {
          "base_uri": "https://localhost:8080/",
          "height": 17
        },
        "outputId": "67857993-9388-4929-c06d-d074a0bc18d2"
      },
      "execution_count": 213,
      "outputs": [
        {
          "output_type": "display_data",
          "data": {
            "text/html": [
              "        <script type=\"text/javascript\">\n",
              "        window.PlotlyConfig = {MathJaxConfig: 'local'};\n",
              "        if (window.MathJax) {MathJax.Hub.Config({SVG: {font: \"STIX-Web\"}});}\n",
              "        if (typeof require !== 'undefined') {\n",
              "        require.undef(\"plotly\");\n",
              "        requirejs.config({\n",
              "            paths: {\n",
              "                'plotly': ['https://cdn.plot.ly/plotly-2.8.3.min']\n",
              "            }\n",
              "        });\n",
              "        require(['plotly'], function(Plotly) {\n",
              "            window._Plotly = Plotly;\n",
              "        });\n",
              "        }\n",
              "        </script>\n",
              "        "
            ]
          },
          "metadata": {}
        }
      ]
    },
    {
      "cell_type": "markdown",
      "source": [
        "Distrubution of types of articles"
      ],
      "metadata": {
        "id": "HFnLeov0S6r4"
      }
    },
    {
      "cell_type": "code",
      "source": [
        "df['type'].value_counts().plot.pie(figsize = (8,8), startangle = 75)\n",
        "plt.title('Types of articles', fontsize = 20)\n",
        "plt.axis('off')\n",
        "plt.show()"
      ],
      "metadata": {
        "id": "fBEad3r6RxrU",
        "colab": {
          "base_uri": "https://localhost:8080/",
          "height": 487
        },
        "outputId": "dac8235c-f3a9-4d4b-e786-431826712d6b"
      },
      "execution_count": 214,
      "outputs": [
        {
          "output_type": "display_data",
          "data": {
            "text/plain": [
              "<Figure size 576x576 with 1 Axes>"
            ],
            "image/png": "[encoded data removed]"
          },
          "metadata": {}
        }
      ]
    },
    {
      "cell_type": "markdown",
      "source": [
        "Unigrams and bigrams"
      ],
      "metadata": {
        "id": "NfG1UPmVTBkK"
      }
    },
    {
      "cell_type": "code",
      "source": [
        "def get_top_n_words(corpus, n=None):\n",
        "    vec = CountVectorizer().fit(corpus)\n",
        "    bag_of_words = vec.transform(corpus)\n",
        "    sum_words = bag_of_words.sum(axis=0) \n",
        "    words_freq = [(word, sum_words[0, idx]) for word, idx in     vec.vocabulary_.items()]\n",
        "    words_freq =sorted(words_freq, key = lambda x: x[1], reverse=True)\n",
        "    return words_freq[:n]\n",
        "\n",
        "def get_top_n_bigram(corpus, n=None):\n",
        "    vec = CountVectorizer(ngram_range=(2, 2)).fit(corpus)\n",
        "    bag_of_words = vec.transform(corpus)\n",
        "    sum_words = bag_of_words.sum(axis=0) \n",
        "    words_freq = [(word, sum_words[0, idx]) for word, idx in vec.vocabulary_.items()]\n",
        "    words_freq =sorted(words_freq, key = lambda x: x[1], reverse=True)\n",
        "    return words_freq[:n]\n",
        "\n",
        "\n",
        "def get_top_n_trigram(corpus, n=None):\n",
        "    vec = CountVectorizer(ngram_range=(3, 3)).fit(corpus)\n",
        "    bag_of_words = vec.transform(corpus)\n",
        "    sum_words = bag_of_words.sum(axis=0) \n",
        "    words_freq = [(word, sum_words[0, idx]) for word, idx in vec.vocabulary_.items()]\n",
        "    words_freq =sorted(words_freq, key = lambda x: x[1], reverse=True)\n",
        "    return words_freq[:n]"
      ],
      "metadata": {
        "id": "j62gMOSHRxs-"
      },
      "execution_count": 215,
      "outputs": []
    },
    {
      "cell_type": "code",
      "source": [
        "common_words = get_top_n_words(df['text_without_stopwords'], 20)\n",
        "df2 = DataFrame (common_words,columns=['word','count'])\n",
        "df2.groupby('word').sum()['count'].sort_values(ascending=False).iplot(\n",
        "    kind='bar', yTitle='Count', linecolor='black', title='Top 20 unigrams used in articles',color='blue')"
      ],
      "metadata": {
        "id": "vGOgTHn6RxvU",
        "colab": {
          "base_uri": "https://localhost:8080/",
          "height": 542
        },
        "outputId": "26438876-7cf0-4960-b783-b549a96fdc60"
      },
      "execution_count": 216,
      "outputs": [
        {
          "output_type": "display_data",
          "data": {
            "application/vnd.plotly.v1+json": {
              "data": [
                {
                  "marker": {
                    "color": "rgba(55, 128, 191, 0.6)",
                    "line": {
                      "color": "rgba(55, 128, 191, 1.0)",
                      "width": 1
                    }
                  },
                  "name": "count",
                  "orientation": "v",
                  "text": "",
                  "x": [
                    "trump",
                    "clinton",
                    "one",
                    "us",
                    "said",
                    "people",
                    "would",
                    "hillary",
                    "also",
                    "like",
                    "election",
                    "new",
                    "time",
                    "even",
                    "state",
                    "president",
                    "get",
                    "could",
                    "campaign",
                    "many"
                  ],
                  "y": [
                    3382,
                    3052,
                    2368,
                    2354,
                    2322,
                    2267,
                    2212,
                    2047,
                    1727,
                    1672,
                    1453,
                    1444,
                    1380,
                    1362,
                    1239,
                    1192,
                    1147,
                    1147,
                    1135,
                    1092
                  ],
                  "type": "bar"
                }
              ],
              "layout": {
                "legend": {
                  "bgcolor": "#F5F6F9",
                  "font": {
                    "color": "#4D5663"
                  }
                },
                "paper_bgcolor": "#F5F6F9",
                "plot_bgcolor": "#F5F6F9",
                "template": {
                  "data": {
                    "barpolar": [
                      {
                        "marker": {
                          "line": {
                            "color": "#E5ECF6",
                            "width": 0.5
                          },
                          "pattern": {
                            "fillmode": "overlay",
                            "size": 10,
                            "solidity": 0.2
                          }
                        },
                        "type": "barpolar"
                      }
                    ],
                    "bar": [
                      {
                        "error_x": {
                          "color": "#2a3f5f"
                        },
                        "error_y": {
                          "color": "#2a3f5f"
                        },
                        "marker": {
                          "line": {
                            "color": "#E5ECF6",
                            "width": 0.5
                          },
                          "pattern": {
                            "fillmode": "overlay",
                            "size": 10,
                            "solidity": 0.2
                          }
                        },
                        "type": "bar"
                      }
                    ],
                    "carpet": [
                      {
                        "aaxis": {
                          "endlinecolor": "#2a3f5f",
                          "gridcolor": "white",
                          "linecolor": "white",
                          "minorgridcolor": "white",
                          "startlinecolor": "#2a3f5f"
                        },
                        "baxis": {
                          "endlinecolor": "#2a3f5f",
                          "gridcolor": "white",
                          "linecolor": "white",
                          "minorgridcolor": "white",
                          "startlinecolor": "#2a3f5f"
                        },
                        "type": "carpet"
                      }
                    ],
                    "choropleth": [
                      {
                        "colorbar": {
                          "outlinewidth": 0,
                          "ticks": ""
                        },
                        "type": "choropleth"
                      }
                    ],
                    "contourcarpet": [
                      {
                        "colorbar": {
                          "outlinewidth": 0,
                          "ticks": ""
                        },
                        "type": "contourcarpet"
                      }
                    ],
                    "contour": [
                      {
                        "colorbar": {
                          "outlinewidth": 0,
                          "ticks": ""
                        },
                        "colorscale": [
                          [
                            0,
                            "#0d0887"
                          ],
                          [
                            0.1111111111111111,
                            "#46039f"
                          ],
                          [
                            0.2222222222222222,
                            "#7201a8"
                          ],
                          [
                            0.3333333333333333,
                            "#9c179e"
                          ],
                          [
                            0.4444444444444444,
                            "#bd3786"
                          ],
                          [
                            0.5555555555555556,
                            "#d8576b"
                          ],
                          [
                            0.6666666666666666,
                            "#ed7953"
                          ],
                          [
                            0.7777777777777778,
                            "#fb9f3a"
                          ],
                          [
                            0.8888888888888888,
                            "#fdca26"
                          ],
                          [
                            1,
                            "#f0f921"
                          ]
                        ],
                        "type": "contour"
                      }
                    ],
                    "heatmapgl": [
                      {
                        "colorbar": {
                          "outlinewidth": 0,
                          "ticks": ""
                        },
                        "colorscale": [
                          [
                            0,
                            "#0d0887"
                          ],
                          [
                            0.1111111111111111,
                            "#46039f"
                          ],
                          [
                            0.2222222222222222,
                            "#7201a8"
                          ],
                          [
                            0.3333333333333333,
                            "#9c179e"
                          ],
                          [
                            0.4444444444444444,
                            "#bd3786"
                          ],
                          [
                            0.5555555555555556,
                            "#d8576b"
                          ],
                          [
                            0.6666666666666666,
                            "#ed7953"
                          ],
                          [
                            0.7777777777777778,
                            "#fb9f3a"
                          ],
                          [
                            0.8888888888888888,
                            "#fdca26"
                          ],
                          [
                            1,
                            "#f0f921"
                          ]
                        ],
                        "type": "heatmapgl"
                      }
                    ],
                    "heatmap": [
                      {
                        "colorbar": {
                          "outlinewidth": 0,
                          "ticks": ""
                        },
                        "colorscale": [
                          [
                            0,
                            "#0d0887"
                          ],
                          [
                            0.1111111111111111,
                            "#46039f"
                          ],
                          [
                            0.2222222222222222,
                            "#7201a8"
                          ],
                          [
                            0.3333333333333333,
                            "#9c179e"
                          ],
                          [
                            0.4444444444444444,
                            "#bd3786"
                          ],
                          [
                            0.5555555555555556,
                            "#d8576b"
                          ],
                          [
                            0.6666666666666666,
                            "#ed7953"
                          ],
                          [
                            0.7777777777777778,
                            "#fb9f3a"
                          ],
                          [
                            0.8888888888888888,
                            "#fdca26"
                          ],
                          [
                            1,
                            "#f0f921"
                          ]
                        ],
                        "type": "heatmap"
                      }
                    ],
                    "histogram2dcontour": [
                      {
                        "colorbar": {
                          "outlinewidth": 0,
                          "ticks": ""
                        },
                        "colorscale": [
                          [
                            0,
                            "#0d0887"
                          ],
                          [
                            0.1111111111111111,
                            "#46039f"
                          ],
                          [
                            0.2222222222222222,
                            "#7201a8"
                          ],
                          [
                            0.3333333333333333,
                            "#9c179e"
                          ],
                          [
                            0.4444444444444444,
                            "#bd3786"
                          ],
                          [
                            0.5555555555555556,
                            "#d8576b"
                          ],
                          [
                            0.6666666666666666,
                            "#ed7953"
                          ],
                          [
                            0.7777777777777778,
                            "#fb9f3a"
                          ],
                          [
                            0.8888888888888888,
                            "#fdca26"
                          ],
                          [
                            1,
                            "#f0f921"
                          ]
                        ],
                        "type": "histogram2dcontour"
                      }
                    ],
                    "histogram2d": [
                      {
                        "colorbar": {
                          "outlinewidth": 0,
                          "ticks": ""
                        },
                        "colorscale": [
                          [
                            0,
                            "#0d0887"
                          ],
                          [
                            0.1111111111111111,
                            "#46039f"
                          ],
                          [
                            0.2222222222222222,
                            "#7201a8"
                          ],
                          [
                            0.3333333333333333,
                            "#9c179e"
                          ],
                          [
                            0.4444444444444444,
                            "#bd3786"
                          ],
                          [
                            0.5555555555555556,
                            "#d8576b"
                          ],
                          [
                            0.6666666666666666,
                            "#ed7953"
                          ],
                          [
                            0.7777777777777778,
                            "#fb9f3a"
                          ],
                          [
                            0.8888888888888888,
                            "#fdca26"
                          ],
                          [
                            1,
                            "#f0f921"
                          ]
                        ],
                        "type": "histogram2d"
                      }
                    ],
                    "histogram": [
                      {
                        "marker": {
                          "pattern": {
                            "fillmode": "overlay",
                            "size": 10,
                            "solidity": 0.2
                          }
                        },
                        "type": "histogram"
                      }
                    ],
                    "mesh3d": [
                      {
                        "colorbar": {
                          "outlinewidth": 0,
                          "ticks": ""
                        },
                        "type": "mesh3d"
                      }
                    ],
                    "parcoords": [
                      {
                        "line": {
                          "colorbar": {
                            "outlinewidth": 0,
                            "ticks": ""
                          }
                        },
                        "type": "parcoords"
                      }
                    ],
                    "pie": [
                      {
                        "automargin": true,
                        "type": "pie"
                      }
                    ],
                    "scatter3d": [
                      {
                        "line": {
                          "colorbar": {
                            "outlinewidth": 0,
                            "ticks": ""
                          }
                        },
                        "marker": {
                          "colorbar": {
                            "outlinewidth": 0,
                            "ticks": ""
                          }
                        },
                        "type": "scatter3d"
                      }
                    ],
                    "scattercarpet": [
                      {
                        "marker": {
                          "colorbar": {
                            "outlinewidth": 0,
                            "ticks": ""
                          }
                        },
                        "type": "scattercarpet"
                      }
                    ],
                    "scattergeo": [
                      {
                        "marker": {
                          "colorbar": {
                            "outlinewidth": 0,
                            "ticks": ""
                          }
                        },
                        "type": "scattergeo"
                      }
                    ],
                    "scattergl": [
                      {
                        "marker": {
                          "colorbar": {
                            "outlinewidth": 0,
                            "ticks": ""
                          }
                        },
                        "type": "scattergl"
                      }
                    ],
                    "scattermapbox": [
                      {
                        "marker": {
                          "colorbar": {
                            "outlinewidth": 0,
                            "ticks": ""
                          }
                        },
                        "type": "scattermapbox"
                      }
                    ],
                    "scatterpolargl": [
                      {
                        "marker": {
                          "colorbar": {
                            "outlinewidth": 0,
                            "ticks": ""
                          }
                        },
                        "type": "scatterpolargl"
                      }
                    ],
                    "scatterpolar": [
                      {
                        "marker": {
                          "colorbar": {
                            "outlinewidth": 0,
                            "ticks": ""
                          }
                        },
                        "type": "scatterpolar"
                      }
                    ],
                    "scatter": [
                      {
                        "marker": {
                          "colorbar": {
                            "outlinewidth": 0,
                            "ticks": ""
                          }
                        },
                        "type": "scatter"
                      }
                    ],
                    "scatterternary": [
                      {
                        "marker": {
                          "colorbar": {
                            "outlinewidth": 0,
                            "ticks": ""
                          }
                        },
                        "type": "scatterternary"
                      }
                    ],
                    "surface": [
                      {
                        "colorbar": {
                          "outlinewidth": 0,
                          "ticks": ""
                        },
                        "colorscale": [
                          [
                            0,
                            "#0d0887"
                          ],
                          [
                            0.1111111111111111,
                            "#46039f"
                          ],
                          [
                            0.2222222222222222,
                            "#7201a8"
                          ],
                          [
                            0.3333333333333333,
                            "#9c179e"
                          ],
                          [
                            0.4444444444444444,
                            "#bd3786"
                          ],
                          [
                            0.5555555555555556,
                            "#d8576b"
                          ],
                          [
                            0.6666666666666666,
                            "#ed7953"
                          ],
                          [
                            0.7777777777777778,
                            "#fb9f3a"
                          ],
                          [
                            0.8888888888888888,
                            "#fdca26"
                          ],
                          [
                            1,
                            "#f0f921"
                          ]
                        ],
                        "type": "surface"
                      }
                    ],
                    "table": [
                      {
                        "cells": {
                          "fill": {
                            "color": "#EBF0F8"
                          },
                          "line": {
                            "color": "white"
                          }
                        },
                        "header": {
                          "fill": {
                            "color": "#C8D4E3"
                          },
                          "line": {
                            "color": "white"
                          }
                        },
                        "type": "table"
                      }
                    ]
                  },
                  "layout": {
                    "annotationdefaults": {
                      "arrowcolor": "#2a3f5f",
                      "arrowhead": 0,
                      "arrowwidth": 1
                    },
                    "autotypenumbers": "strict",
                    "coloraxis": {
                      "colorbar": {
                        "outlinewidth": 0,
                        "ticks": ""
                      }
                    },
                    "colorscale": {
                      "diverging": [
                        [
                          0,
                          "#8e0152"
                        ],
                        [
                          0.1,
                          "#c51b7d"
                        ],
                        [
                          0.2,
                          "#de77ae"
                        ],
                        [
                          0.3,
                          "#f1b6da"
                        ],
                        [
                          0.4,
                          "#fde0ef"
                        ],
                        [
                          0.5,
                          "#f7f7f7"
                        ],
                        [
                          0.6,
                          "#e6f5d0"
                        ],
                        [
                          0.7,
                          "#b8e186"
                        ],
                        [
                          0.8,
                          "#7fbc41"
                        ],
                        [
                          0.9,
                          "#4d9221"
                        ],
                        [
                          1,
                          "#276419"
                        ]
                      ],
                      "sequential": [
                        [
                          0,
                          "#0d0887"
                        ],
                        [
                          0.1111111111111111,
                          "#46039f"
                        ],
                        [
                          0.2222222222222222,
                          "#7201a8"
                        ],
                        [
                          0.3333333333333333,
                          "#9c179e"
                        ],
                        [
                          0.4444444444444444,
                          "#bd3786"
                        ],
                        [
                          0.5555555555555556,
                          "#d8576b"
                        ],
                        [
                          0.6666666666666666,
                          "#ed7953"
                        ],
                        [
                          0.7777777777777778,
                          "#fb9f3a"
                        ],
                        [
                          0.8888888888888888,
                          "#fdca26"
                        ],
                        [
                          1,
                          "#f0f921"
                        ]
                      ],
                      "sequentialminus": [
                        [
                          0,
                          "#0d0887"
                        ],
                        [
                          0.1111111111111111,
                          "#46039f"
                        ],
                        [
                          0.2222222222222222,
                          "#7201a8"
                        ],
                        [
                          0.3333333333333333,
                          "#9c179e"
                        ],
                        [
                          0.4444444444444444,
                          "#bd3786"
                        ],
                        [
                          0.5555555555555556,
                          "#d8576b"
                        ],
                        [
                          0.6666666666666666,
                          "#ed7953"
                        ],
                        [
                          0.7777777777777778,
                          "#fb9f3a"
                        ],
                        [
                          0.8888888888888888,
                          "#fdca26"
                        ],
                        [
                          1,
                          "#f0f921"
                        ]
                      ]
                    },
                    "colorway": [
                      "#636efa",
                      "#EF553B",
                      "#00cc96",
                      "#ab63fa",
                      "#FFA15A",
                      "#19d3f3",
                      "#FF6692",
                      "#B6E880",
                      "#FF97FF",
                      "#FECB52"
                    ],
                    "font": {
                      "color": "#2a3f5f"
                    },
                    "geo": {
                      "bgcolor": "white",
                      "lakecolor": "white",
                      "landcolor": "#E5ECF6",
                      "showlakes": true,
                      "showland": true,
                      "subunitcolor": "white"
                    },
                    "hoverlabel": {
                      "align": "left"
                    },
                    "hovermode": "closest",
                    "mapbox": {
                      "style": "light"
                    },
                    "paper_bgcolor": "white",
                    "plot_bgcolor": "#E5ECF6",
                    "polar": {
                      "angularaxis": {
                        "gridcolor": "white",
                        "linecolor": "white",
                        "ticks": ""
                      },
                      "bgcolor": "#E5ECF6",
                      "radialaxis": {
                        "gridcolor": "white",
                        "linecolor": "white",
                        "ticks": ""
                      }
                    },
                    "scene": {
                      "xaxis": {
                        "backgroundcolor": "#E5ECF6",
                        "gridcolor": "white",
                        "gridwidth": 2,
                        "linecolor": "white",
                        "showbackground": true,
                        "ticks": "",
                        "zerolinecolor": "white"
                      },
                      "yaxis": {
                        "backgroundcolor": "#E5ECF6",
                        "gridcolor": "white",
                        "gridwidth": 2,
                        "linecolor": "white",
                        "showbackground": true,
                        "ticks": "",
                        "zerolinecolor": "white"
                      },
                      "zaxis": {
                        "backgroundcolor": "#E5ECF6",
                        "gridcolor": "white",
                        "gridwidth": 2,
                        "linecolor": "white",
                        "showbackground": true,
                        "ticks": "",
                        "zerolinecolor": "white"
                      }
                    },
                    "shapedefaults": {
                      "line": {
                        "color": "#2a3f5f"
                      }
                    },
                    "ternary": {
                      "aaxis": {
                        "gridcolor": "white",
                        "linecolor": "white",
                        "ticks": ""
                      },
                      "baxis": {
                        "gridcolor": "white",
                        "linecolor": "white",
                        "ticks": ""
                      },
                      "bgcolor": "#E5ECF6",
                      "caxis": {
                        "gridcolor": "white",
                        "linecolor": "white",
                        "ticks": ""
                      }
                    },
                    "title": {
                      "x": 0.05
                    },
                    "xaxis": {
                      "automargin": true,
                      "gridcolor": "white",
                      "linecolor": "white",
                      "ticks": "",
                      "title": {
                        "standoff": 15
                      },
                      "zerolinecolor": "white",
                      "zerolinewidth": 2
                    },
                    "yaxis": {
                      "automargin": true,
                      "gridcolor": "white",
                      "linecolor": "white",
                      "ticks": "",
                      "title": {
                        "standoff": 15
                      },
                      "zerolinecolor": "white",
                      "zerolinewidth": 2
                    }
                  }
                },
                "title": {
                  "font": {
                    "color": "#4D5663"
                  },
                  "text": "Top 20 unigrams used in articles"
                },
                "xaxis": {
                  "gridcolor": "#E1E5ED",
                  "linecolor": "black",
                  "showgrid": true,
                  "tickfont": {
                    "color": "#4D5663"
                  },
                  "title": {
                    "font": {
                      "color": "#4D5663"
                    },
                    "text": ""
                  },
                  "zerolinecolor": "#E1E5ED"
                },
                "yaxis": {
                  "gridcolor": "#E1E5ED",
                  "linecolor": "black",
                  "showgrid": true,
                  "tickfont": {
                    "color": "#4D5663"
                  },
                  "title": {
                    "font": {
                      "color": "#4D5663"
                    },
                    "text": "Count"
                  },
                  "zerolinecolor": "#E1E5ED"
                }
              },
              "config": {
                "showLink": true,
                "linkText": "Export to plot.ly",
                "plotlyServerURL": "https://plot.ly"
              }
            },
            "text/html": [
              "<div>                            <div id=\"52afe833-21e1-4a8b-a09d-d83f22b78245\" class=\"plotly-graph-div\" style=\"height:525px; width:100%;\"></div>            <script type=\"text/javascript\">                require([\"plotly\"], function(Plotly) {                    window.PLOTLYENV=window.PLOTLYENV || {};\n",
              "                    window.PLOTLYENV.BASE_URL='https://plot.ly';                                    if (document.getElementById(\"52afe833-21e1-4a8b-a09d-d83f22b78245\")) {                    Plotly.newPlot(                        \"52afe833-21e1-4a8b-a09d-d83f22b78245\",                        [{\"marker\":{\"color\":\"rgba(55, 128, 191, 0.6)\",\"line\":{\"color\":\"rgba(55, 128, 191, 1.0)\",\"width\":1}},\"name\":\"count\",\"orientation\":\"v\",\"text\":\"\",\"x\":[\"trump\",\"clinton\",\"one\",\"us\",\"said\",\"people\",\"would\",\"hillary\",\"also\",\"like\",\"election\",\"new\",\"time\",\"even\",\"state\",\"president\",\"get\",\"could\",\"campaign\",\"many\"],\"y\":[3382,3052,2368,2354,2322,2267,2212,2047,1727,1672,1453,1444,1380,1362,1239,1192,1147,1147,1135,1092],\"type\":\"bar\"}],                        {\"legend\":{\"bgcolor\":\"#F5F6F9\",\"font\":{\"color\":\"#4D5663\"}},\"paper_bgcolor\":\"#F5F6F9\",\"plot_bgcolor\":\"#F5F6F9\",\"template\":{\"data\":{\"barpolar\":[{\"marker\":{\"line\":{\"color\":\"#E5ECF6\",\"width\":0.5},\"pattern\":{\"fillmode\":\"overlay\",\"size\":10,\"solidity\":0.2}},\"type\":\"barpolar\"}],\"bar\":[{\"error_x\":{\"color\":\"#2a3f5f\"},\"error_y\":{\"color\":\"#2a3f5f\"},\"marker\":{\"line\":{\"color\":\"#E5ECF6\",\"width\":0.5},\"pattern\":{\"fillmode\":\"overlay\",\"size\":10,\"solidity\":0.2}},\"type\":\"bar\"}],\"carpet\":[{\"aaxis\":{\"endlinecolor\":\"#2a3f5f\",\"gridcolor\":\"white\",\"linecolor\":\"white\",\"minorgridcolor\":\"white\",\"startlinecolor\":\"#2a3f5f\"},\"baxis\":{\"endlinecolor\":\"#2a3f5f\",\"gridcolor\":\"white\",\"linecolor\":\"white\",\"minorgridcolor\":\"white\",\"startlinecolor\":\"#2a3f5f\"},\"type\":\"carpet\"}],\"choropleth\":[{\"colorbar\":{\"outlinewidth\":0,\"ticks\":\"\"},\"type\":\"choropleth\"}],\"contourcarpet\":[{\"colorbar\":{\"outlinewidth\":0,\"ticks\":\"\"},\"type\":\"contourcarpet\"}],\"contour\":[{\"colorbar\":{\"outlinewidth\":0,\"ticks\":\"\"},\"colorscale\":[[0.0,\"#0d0887\"],[0.1111111111111111,\"#46039f\"],[0.2222222222222222,\"#7201a8\"],[0.3333333333333333,\"#9c179e\"],[0.4444444444444444,\"#bd3786\"],[0.5555555555555556,\"#d8576b\"],[0.6666666666666666,\"#ed7953\"],[0.7777777777777778,\"#fb9f3a\"],[0.8888888888888888,\"#fdca26\"],[1.0,\"#f0f921\"]],\"type\":\"contour\"}],\"heatmapgl\":[{\"colorbar\":{\"outlinewidth\":0,\"ticks\":\"\"},\"colorscale\":[[0.0,\"#0d0887\"],[0.1111111111111111,\"#46039f\"],[0.2222222222222222,\"#7201a8\"],[0.3333333333333333,\"#9c179e\"],[0.4444444444444444,\"#bd3786\"],[0.5555555555555556,\"#d8576b\"],[0.6666666666666666,\"#ed7953\"],[0.7777777777777778,\"#fb9f3a\"],[0.8888888888888888,\"#fdca26\"],[1.0,\"#f0f921\"]],\"type\":\"heatmapgl\"}],\"heatmap\":[{\"colorbar\":{\"outlinewidth\":0,\"ticks\":\"\"},\"colorscale\":[[0.0,\"#0d0887\"],[0.1111111111111111,\"#46039f\"],[0.2222222222222222,\"#7201a8\"],[0.3333333333333333,\"#9c179e\"],[0.4444444444444444,\"#bd3786\"],[0.5555555555555556,\"#d8576b\"],[0.6666666666666666,\"#ed7953\"],[0.7777777777777778,\"#fb9f3a\"],[0.8888888888888888,\"#fdca26\"],[1.0,\"#f0f921\"]],\"type\":\"heatmap\"}],\"histogram2dcontour\":[{\"colorbar\":{\"outlinewidth\":0,\"ticks\":\"\"},\"colorscale\":[[0.0,\"#0d0887\"],[0.1111111111111111,\"#46039f\"],[0.2222222222222222,\"#7201a8\"],[0.3333333333333333,\"#9c179e\"],[0.4444444444444444,\"#bd3786\"],[0.5555555555555556,\"#d8576b\"],[0.6666666666666666,\"#ed7953\"],[0.7777777777777778,\"#fb9f3a\"],[0.8888888888888888,\"#fdca26\"],[1.0,\"#f0f921\"]],\"type\":\"histogram2dcontour\"}],\"histogram2d\":[{\"colorbar\":{\"outlinewidth\":0,\"ticks\":\"\"},\"colorscale\":[[0.0,\"#0d0887\"],[0.1111111111111111,\"#46039f\"],[0.2222222222222222,\"#7201a8\"],[0.3333333333333333,\"#9c179e\"],[0.4444444444444444,\"#bd3786\"],[0.5555555555555556,\"#d8576b\"],[0.6666666666666666,\"#ed7953\"],[0.7777777777777778,\"#fb9f3a\"],[0.8888888888888888,\"#fdca26\"],[1.0,\"#f0f921\"]],\"type\":\"histogram2d\"}],\"histogram\":[{\"marker\":{\"pattern\":{\"fillmode\":\"overlay\",\"size\":10,\"solidity\":0.2}},\"type\":\"histogram\"}],\"mesh3d\":[{\"colorbar\":{\"outlinewidth\":0,\"ticks\":\"\"},\"type\":\"mesh3d\"}],\"parcoords\":[{\"line\":{\"colorbar\":{\"outlinewidth\":0,\"ticks\":\"\"}},\"type\":\"parcoords\"}],\"pie\":[{\"automargin\":true,\"type\":\"pie\"}],\"scatter3d\":[{\"line\":{\"colorbar\":{\"outlinewidth\":0,\"ticks\":\"\"}},\"marker\":{\"colorbar\":{\"outlinewidth\":0,\"ticks\":\"\"}},\"type\":\"scatter3d\"}],\"scattercarpet\":[{\"marker\":{\"colorbar\":{\"outlinewidth\":0,\"ticks\":\"\"}},\"type\":\"scattercarpet\"}],\"scattergeo\":[{\"marker\":{\"colorbar\":{\"outlinewidth\":0,\"ticks\":\"\"}},\"type\":\"scattergeo\"}],\"scattergl\":[{\"marker\":{\"colorbar\":{\"outlinewidth\":0,\"ticks\":\"\"}},\"type\":\"scattergl\"}],\"scattermapbox\":[{\"marker\":{\"colorbar\":{\"outlinewidth\":0,\"ticks\":\"\"}},\"type\":\"scattermapbox\"}],\"scatterpolargl\":[{\"marker\":{\"colorbar\":{\"outlinewidth\":0,\"ticks\":\"\"}},\"type\":\"scatterpolargl\"}],\"scatterpolar\":[{\"marker\":{\"colorbar\":{\"outlinewidth\":0,\"ticks\":\"\"}},\"type\":\"scatterpolar\"}],\"scatter\":[{\"marker\":{\"colorbar\":{\"outlinewidth\":0,\"ticks\":\"\"}},\"type\":\"scatter\"}],\"scatterternary\":[{\"marker\":{\"colorbar\":{\"outlinewidth\":0,\"ticks\":\"\"}},\"type\":\"scatterternary\"}],\"surface\":[{\"colorbar\":{\"outlinewidth\":0,\"ticks\":\"\"},\"colorscale\":[[0.0,\"#0d0887\"],[0.1111111111111111,\"#46039f\"],[0.2222222222222222,\"#7201a8\"],[0.3333333333333333,\"#9c179e\"],[0.4444444444444444,\"#bd3786\"],[0.5555555555555556,\"#d8576b\"],[0.6666666666666666,\"#ed7953\"],[0.7777777777777778,\"#fb9f3a\"],[0.8888888888888888,\"#fdca26\"],[1.0,\"#f0f921\"]],\"type\":\"surface\"}],\"table\":[{\"cells\":{\"fill\":{\"color\":\"#EBF0F8\"},\"line\":{\"color\":\"white\"}},\"header\":{\"fill\":{\"color\":\"#C8D4E3\"},\"line\":{\"color\":\"white\"}},\"type\":\"table\"}]},\"layout\":{\"annotationdefaults\":{\"arrowcolor\":\"#2a3f5f\",\"arrowhead\":0,\"arrowwidth\":1},\"autotypenumbers\":\"strict\",\"coloraxis\":{\"colorbar\":{\"outlinewidth\":0,\"ticks\":\"\"}},\"colorscale\":{\"diverging\":[[0,\"#8e0152\"],[0.1,\"#c51b7d\"],[0.2,\"#de77ae\"],[0.3,\"#f1b6da\"],[0.4,\"#fde0ef\"],[0.5,\"#f7f7f7\"],[0.6,\"#e6f5d0\"],[0.7,\"#b8e186\"],[0.8,\"#7fbc41\"],[0.9,\"#4d9221\"],[1,\"#276419\"]],\"sequential\":[[0.0,\"#0d0887\"],[0.1111111111111111,\"#46039f\"],[0.2222222222222222,\"#7201a8\"],[0.3333333333333333,\"#9c179e\"],[0.4444444444444444,\"#bd3786\"],[0.5555555555555556,\"#d8576b\"],[0.6666666666666666,\"#ed7953\"],[0.7777777777777778,\"#fb9f3a\"],[0.8888888888888888,\"#fdca26\"],[1.0,\"#f0f921\"]],\"sequentialminus\":[[0.0,\"#0d0887\"],[0.1111111111111111,\"#46039f\"],[0.2222222222222222,\"#7201a8\"],[0.3333333333333333,\"#9c179e\"],[0.4444444444444444,\"#bd3786\"],[0.5555555555555556,\"#d8576b\"],[0.6666666666666666,\"#ed7953\"],[0.7777777777777778,\"#fb9f3a\"],[0.8888888888888888,\"#fdca26\"],[1.0,\"#f0f921\"]]},\"colorway\":[\"#636efa\",\"#EF553B\",\"#00cc96\",\"#ab63fa\",\"#FFA15A\",\"#19d3f3\",\"#FF6692\",\"#B6E880\",\"#FF97FF\",\"#FECB52\"],\"font\":{\"color\":\"#2a3f5f\"},\"geo\":{\"bgcolor\":\"white\",\"lakecolor\":\"white\",\"landcolor\":\"#E5ECF6\",\"showlakes\":true,\"showland\":true,\"subunitcolor\":\"white\"},\"hoverlabel\":{\"align\":\"left\"},\"hovermode\":\"closest\",\"mapbox\":{\"style\":\"light\"},\"paper_bgcolor\":\"white\",\"plot_bgcolor\":\"#E5ECF6\",\"polar\":{\"angularaxis\":{\"gridcolor\":\"white\",\"linecolor\":\"white\",\"ticks\":\"\"},\"bgcolor\":\"#E5ECF6\",\"radialaxis\":{\"gridcolor\":\"white\",\"linecolor\":\"white\",\"ticks\":\"\"}},\"scene\":{\"xaxis\":{\"backgroundcolor\":\"#E5ECF6\",\"gridcolor\":\"white\",\"gridwidth\":2,\"linecolor\":\"white\",\"showbackground\":true,\"ticks\":\"\",\"zerolinecolor\":\"white\"},\"yaxis\":{\"backgroundcolor\":\"#E5ECF6\",\"gridcolor\":\"white\",\"gridwidth\":2,\"linecolor\":\"white\",\"showbackground\":true,\"ticks\":\"\",\"zerolinecolor\":\"white\"},\"zaxis\":{\"backgroundcolor\":\"#E5ECF6\",\"gridcolor\":\"white\",\"gridwidth\":2,\"linecolor\":\"white\",\"showbackground\":true,\"ticks\":\"\",\"zerolinecolor\":\"white\"}},\"shapedefaults\":{\"line\":{\"color\":\"#2a3f5f\"}},\"ternary\":{\"aaxis\":{\"gridcolor\":\"white\",\"linecolor\":\"white\",\"ticks\":\"\"},\"baxis\":{\"gridcolor\":\"white\",\"linecolor\":\"white\",\"ticks\":\"\"},\"bgcolor\":\"#E5ECF6\",\"caxis\":{\"gridcolor\":\"white\",\"linecolor\":\"white\",\"ticks\":\"\"}},\"title\":{\"x\":0.05},\"xaxis\":{\"automargin\":true,\"gridcolor\":\"white\",\"linecolor\":\"white\",\"ticks\":\"\",\"title\":{\"standoff\":15},\"zerolinecolor\":\"white\",\"zerolinewidth\":2},\"yaxis\":{\"automargin\":true,\"gridcolor\":\"white\",\"linecolor\":\"white\",\"ticks\":\"\",\"title\":{\"standoff\":15},\"zerolinecolor\":\"white\",\"zerolinewidth\":2}}},\"title\":{\"font\":{\"color\":\"#4D5663\"},\"text\":\"Top 20 unigrams used in articles\"},\"xaxis\":{\"gridcolor\":\"#E1E5ED\",\"linecolor\":\"black\",\"showgrid\":true,\"tickfont\":{\"color\":\"#4D5663\"},\"title\":{\"font\":{\"color\":\"#4D5663\"},\"text\":\"\"},\"zerolinecolor\":\"#E1E5ED\"},\"yaxis\":{\"gridcolor\":\"#E1E5ED\",\"linecolor\":\"black\",\"showgrid\":true,\"tickfont\":{\"color\":\"#4D5663\"},\"title\":{\"font\":{\"color\":\"#4D5663\"},\"text\":\"Count\"},\"zerolinecolor\":\"#E1E5ED\"}},                        {\"showLink\": true, \"linkText\": \"Export to plot.ly\", \"plotlyServerURL\": \"https://plot.ly\", \"responsive\": true}                    ).then(function(){\n",
              "                            \n",
              "var gd = document.getElementById('52afe833-21e1-4a8b-a09d-d83f22b78245');\n",
              "var x = new MutationObserver(function (mutations, observer) {{\n",
              "        var display = window.getComputedStyle(gd).display;\n",
              "        if (!display || display === 'none') {{\n",
              "            console.log([gd, 'removed!']);\n",
              "            Plotly.purge(gd);\n",
              "            observer.disconnect();\n",
              "        }}\n",
              "}});\n",
              "\n",
              "// Listen for the removal of the full notebook cells\n",
              "var notebookContainer = gd.closest('#notebook-container');\n",
              "if (notebookContainer) {{\n",
              "    x.observe(notebookContainer, {childList: true});\n",
              "}}\n",
              "\n",
              "// Listen for the clearing of the current output cell\n",
              "var outputEl = gd.closest('.output');\n",
              "if (outputEl) {{\n",
              "    x.observe(outputEl, {childList: true});\n",
              "}}\n",
              "\n",
              "                        })                };                });            </script>        </div>"
            ]
          },
          "metadata": {}
        }
      ]
    },
    {
      "cell_type": "code",
      "source": [
        "common_words = get_top_n_bigram(df['text_without_stopwords'], 20)\n",
        "df3 = pd.DataFrame(common_words, columns = ['words' ,'count'])\n",
        "df3.groupby('words').sum()['count'].sort_values(ascending=False).iplot(\n",
        "    kind='bar', yTitle='Count', linecolor='black', title='Top 20 bigrams used in articles', color='blue')"
      ],
      "metadata": {
        "id": "Nb1XegAwRxx-",
        "colab": {
          "base_uri": "https://localhost:8080/",
          "height": 542
        },
        "outputId": "3a921f89-d37f-4b5d-8a41-bfa872441328"
      },
      "execution_count": 217,
      "outputs": [
        {
          "output_type": "display_data",
          "data": {
            "application/vnd.plotly.v1+json": {
              "data": [
                {
                  "marker": {
                    "color": "rgba(55, 128, 191, 0.6)",
                    "line": {
                      "color": "rgba(55, 128, 191, 1.0)",
                      "width": 1
                    }
                  },
                  "name": "count",
                  "orientation": "v",
                  "text": "",
                  "x": [
                    "hillary clinton",
                    "donald trump",
                    "united states",
                    "new york",
                    "white house",
                    "clinton campaign",
                    "hillary clintons",
                    "brain force",
                    "bill clinton",
                    "clinton foundation",
                    "secretary state",
                    "presidential election",
                    "fbi director",
                    "barack obama",
                    "mainstream media",
                    "alex jones",
                    "attorney general",
                    "election day",
                    "donald trumps",
                    "democratic party"
                  ],
                  "y": [
                    1073,
                    885,
                    499,
                    335,
                    324,
                    248,
                    230,
                    209,
                    205,
                    185,
                    182,
                    149,
                    147,
                    142,
                    139,
                    136,
                    132,
                    132,
                    131,
                    129
                  ],
                  "type": "bar"
                }
              ],
              "layout": {
                "legend": {
                  "bgcolor": "#F5F6F9",
                  "font": {
                    "color": "#4D5663"
                  }
                },
                "paper_bgcolor": "#F5F6F9",
                "plot_bgcolor": "#F5F6F9",
                "template": {
                  "data": {
                    "barpolar": [
                      {
                        "marker": {
                          "line": {
                            "color": "#E5ECF6",
                            "width": 0.5
                          },
                          "pattern": {
                            "fillmode": "overlay",
                            "size": 10,
                            "solidity": 0.2
                          }
                        },
                        "type": "barpolar"
                      }
                    ],
                    "bar": [
                      {
                        "error_x": {
                          "color": "#2a3f5f"
                        },
                        "error_y": {
                          "color": "#2a3f5f"
                        },
                        "marker": {
                          "line": {
                            "color": "#E5ECF6",
                            "width": 0.5
                          },
                          "pattern": {
                            "fillmode": "overlay",
                            "size": 10,
                            "solidity": 0.2
                          }
                        },
                        "type": "bar"
                      }
                    ],
                    "carpet": [
                      {
                        "aaxis": {
                          "endlinecolor": "#2a3f5f",
                          "gridcolor": "white",
                          "linecolor": "white",
                          "minorgridcolor": "white",
                          "startlinecolor": "#2a3f5f"
                        },
                        "baxis": {
                          "endlinecolor": "#2a3f5f",
                          "gridcolor": "white",
                          "linecolor": "white",
                          "minorgridcolor": "white",
                          "startlinecolor": "#2a3f5f"
                        },
                        "type": "carpet"
                      }
                    ],
                    "choropleth": [
                      {
                        "colorbar": {
                          "outlinewidth": 0,
                          "ticks": ""
                        },
                        "type": "choropleth"
                      }
                    ],
                    "contourcarpet": [
                      {
                        "colorbar": {
                          "outlinewidth": 0,
                          "ticks": ""
                        },
                        "type": "contourcarpet"
                      }
                    ],
                    "contour": [
                      {
                        "colorbar": {
                          "outlinewidth": 0,
                          "ticks": ""
                        },
                        "colorscale": [
                          [
                            0,
                            "#0d0887"
                          ],
                          [
                            0.1111111111111111,
                            "#46039f"
                          ],
                          [
                            0.2222222222222222,
                            "#7201a8"
                          ],
                          [
                            0.3333333333333333,
                            "#9c179e"
                          ],
                          [
                            0.4444444444444444,
                            "#bd3786"
                          ],
                          [
                            0.5555555555555556,
                            "#d8576b"
                          ],
                          [
                            0.6666666666666666,
                            "#ed7953"
                          ],
                          [
                            0.7777777777777778,
                            "#fb9f3a"
                          ],
                          [
                            0.8888888888888888,
                            "#fdca26"
                          ],
                          [
                            1,
                            "#f0f921"
                          ]
                        ],
                        "type": "contour"
                      }
                    ],
                    "heatmapgl": [
                      {
                        "colorbar": {
                          "outlinewidth": 0,
                          "ticks": ""
                        },
                        "colorscale": [
                          [
                            0,
                            "#0d0887"
                          ],
                          [
                            0.1111111111111111,
                            "#46039f"
                          ],
                          [
                            0.2222222222222222,
                            "#7201a8"
                          ],
                          [
                            0.3333333333333333,
                            "#9c179e"
                          ],
                          [
                            0.4444444444444444,
                            "#bd3786"
                          ],
                          [
                            0.5555555555555556,
                            "#d8576b"
                          ],
                          [
                            0.6666666666666666,
                            "#ed7953"
                          ],
                          [
                            0.7777777777777778,
                            "#fb9f3a"
                          ],
                          [
                            0.8888888888888888,
                            "#fdca26"
                          ],
                          [
                            1,
                            "#f0f921"
                          ]
                        ],
                        "type": "heatmapgl"
                      }
                    ],
                    "heatmap": [
                      {
                        "colorbar": {
                          "outlinewidth": 0,
                          "ticks": ""
                        },
                        "colorscale": [
                          [
                            0,
                            "#0d0887"
                          ],
                          [
                            0.1111111111111111,
                            "#46039f"
                          ],
                          [
                            0.2222222222222222,
                            "#7201a8"
                          ],
                          [
                            0.3333333333333333,
                            "#9c179e"
                          ],
                          [
                            0.4444444444444444,
                            "#bd3786"
                          ],
                          [
                            0.5555555555555556,
                            "#d8576b"
                          ],
                          [
                            0.6666666666666666,
                            "#ed7953"
                          ],
                          [
                            0.7777777777777778,
                            "#fb9f3a"
                          ],
                          [
                            0.8888888888888888,
                            "#fdca26"
                          ],
                          [
                            1,
                            "#f0f921"
                          ]
                        ],
                        "type": "heatmap"
                      }
                    ],
                    "histogram2dcontour": [
                      {
                        "colorbar": {
                          "outlinewidth": 0,
                          "ticks": ""
                        },
                        "colorscale": [
                          [
                            0,
                            "#0d0887"
                          ],
                          [
                            0.1111111111111111,
                            "#46039f"
                          ],
                          [
                            0.2222222222222222,
                            "#7201a8"
                          ],
                          [
                            0.3333333333333333,
                            "#9c179e"
                          ],
                          [
                            0.4444444444444444,
                            "#bd3786"
                          ],
                          [
                            0.5555555555555556,
                            "#d8576b"
                          ],
                          [
                            0.6666666666666666,
                            "#ed7953"
                          ],
                          [
                            0.7777777777777778,
                            "#fb9f3a"
                          ],
                          [
                            0.8888888888888888,
                            "#fdca26"
                          ],
                          [
                            1,
                            "#f0f921"
                          ]
                        ],
                        "type": "histogram2dcontour"
                      }
                    ],
                    "histogram2d": [
                      {
                        "colorbar": {
                          "outlinewidth": 0,
                          "ticks": ""
                        },
                        "colorscale": [
                          [
                            0,
                            "#0d0887"
                          ],
                          [
                            0.1111111111111111,
                            "#46039f"
                          ],
                          [
                            0.2222222222222222,
                            "#7201a8"
                          ],
                          [
                            0.3333333333333333,
                            "#9c179e"
                          ],
                          [
                            0.4444444444444444,
                            "#bd3786"
                          ],
                          [
                            0.5555555555555556,
                            "#d8576b"
                          ],
                          [
                            0.6666666666666666,
                            "#ed7953"
                          ],
                          [
                            0.7777777777777778,
                            "#fb9f3a"
                          ],
                          [
                            0.8888888888888888,
                            "#fdca26"
                          ],
                          [
                            1,
                            "#f0f921"
                          ]
                        ],
                        "type": "histogram2d"
                      }
                    ],
                    "histogram": [
                      {
                        "marker": {
                          "pattern": {
                            "fillmode": "overlay",
                            "size": 10,
                            "solidity": 0.2
                          }
                        },
                        "type": "histogram"
                      }
                    ],
                    "mesh3d": [
                      {
                        "colorbar": {
                          "outlinewidth": 0,
                          "ticks": ""
                        },
                        "type": "mesh3d"
                      }
                    ],
                    "parcoords": [
                      {
                        "line": {
                          "colorbar": {
                            "outlinewidth": 0,
                            "ticks": ""
                          }
                        },
                        "type": "parcoords"
                      }
                    ],
                    "pie": [
                      {
                        "automargin": true,
                        "type": "pie"
                      }
                    ],
                    "scatter3d": [
                      {
                        "line": {
                          "colorbar": {
                            "outlinewidth": 0,
                            "ticks": ""
                          }
                        },
                        "marker": {
                          "colorbar": {
                            "outlinewidth": 0,
                            "ticks": ""
                          }
                        },
                        "type": "scatter3d"
                      }
                    ],
                    "scattercarpet": [
                      {
                        "marker": {
                          "colorbar": {
                            "outlinewidth": 0,
                            "ticks": ""
                          }
                        },
                        "type": "scattercarpet"
                      }
                    ],
                    "scattergeo": [
                      {
                        "marker": {
                          "colorbar": {
                            "outlinewidth": 0,
                            "ticks": ""
                          }
                        },
                        "type": "scattergeo"
                      }
                    ],
                    "scattergl": [
                      {
                        "marker": {
                          "colorbar": {
                            "outlinewidth": 0,
                            "ticks": ""
                          }
                        },
                        "type": "scattergl"
                      }
                    ],
                    "scattermapbox": [
                      {
                        "marker": {
                          "colorbar": {
                            "outlinewidth": 0,
                            "ticks": ""
                          }
                        },
                        "type": "scattermapbox"
                      }
                    ],
                    "scatterpolargl": [
                      {
                        "marker": {
                          "colorbar": {
                            "outlinewidth": 0,
                            "ticks": ""
                          }
                        },
                        "type": "scatterpolargl"
                      }
                    ],
                    "scatterpolar": [
                      {
                        "marker": {
                          "colorbar": {
                            "outlinewidth": 0,
                            "ticks": ""
                          }
                        },
                        "type": "scatterpolar"
                      }
                    ],
                    "scatter": [
                      {
                        "marker": {
                          "colorbar": {
                            "outlinewidth": 0,
                            "ticks": ""
                          }
                        },
                        "type": "scatter"
                      }
                    ],
                    "scatterternary": [
                      {
                        "marker": {
                          "colorbar": {
                            "outlinewidth": 0,
                            "ticks": ""
                          }
                        },
                        "type": "scatterternary"
                      }
                    ],
                    "surface": [
                      {
                        "colorbar": {
                          "outlinewidth": 0,
                          "ticks": ""
                        },
                        "colorscale": [
                          [
                            0,
                            "#0d0887"
                          ],
                          [
                            0.1111111111111111,
                            "#46039f"
                          ],
                          [
                            0.2222222222222222,
                            "#7201a8"
                          ],
                          [
                            0.3333333333333333,
                            "#9c179e"
                          ],
                          [
                            0.4444444444444444,
                            "#bd3786"
                          ],
                          [
                            0.5555555555555556,
                            "#d8576b"
                          ],
                          [
                            0.6666666666666666,
                            "#ed7953"
                          ],
                          [
                            0.7777777777777778,
                            "#fb9f3a"
                          ],
                          [
                            0.8888888888888888,
                            "#fdca26"
                          ],
                          [
                            1,
                            "#f0f921"
                          ]
                        ],
                        "type": "surface"
                      }
                    ],
                    "table": [
                      {
                        "cells": {
                          "fill": {
                            "color": "#EBF0F8"
                          },
                          "line": {
                            "color": "white"
                          }
                        },
                        "header": {
                          "fill": {
                            "color": "#C8D4E3"
                          },
                          "line": {
                            "color": "white"
                          }
                        },
                        "type": "table"
                      }
                    ]
                  },
                  "layout": {
                    "annotationdefaults": {
                      "arrowcolor": "#2a3f5f",
                      "arrowhead": 0,
                      "arrowwidth": 1
                    },
                    "autotypenumbers": "strict",
                    "coloraxis": {
                      "colorbar": {
                        "outlinewidth": 0,
                        "ticks": ""
                      }
                    },
                    "colorscale": {
                      "diverging": [
                        [
                          0,
                          "#8e0152"
                        ],
                        [
                          0.1,
                          "#c51b7d"
                        ],
                        [
                          0.2,
                          "#de77ae"
                        ],
                        [
                          0.3,
                          "#f1b6da"
                        ],
                        [
                          0.4,
                          "#fde0ef"
                        ],
                        [
                          0.5,
                          "#f7f7f7"
                        ],
                        [
                          0.6,
                          "#e6f5d0"
                        ],
                        [
                          0.7,
                          "#b8e186"
                        ],
                        [
                          0.8,
                          "#7fbc41"
                        ],
                        [
                          0.9,
                          "#4d9221"
                        ],
                        [
                          1,
                          "#276419"
                        ]
                      ],
                      "sequential": [
                        [
                          0,
                          "#0d0887"
                        ],
                        [
                          0.1111111111111111,
                          "#46039f"
                        ],
                        [
                          0.2222222222222222,
                          "#7201a8"
                        ],
                        [
                          0.3333333333333333,
                          "#9c179e"
                        ],
                        [
                          0.4444444444444444,
                          "#bd3786"
                        ],
                        [
                          0.5555555555555556,
                          "#d8576b"
                        ],
                        [
                          0.6666666666666666,
                          "#ed7953"
                        ],
                        [
                          0.7777777777777778,
                          "#fb9f3a"
                        ],
                        [
                          0.8888888888888888,
                          "#fdca26"
                        ],
                        [
                          1,
                          "#f0f921"
                        ]
                      ],
                      "sequentialminus": [
                        [
                          0,
                          "#0d0887"
                        ],
                        [
                          0.1111111111111111,
                          "#46039f"
                        ],
                        [
                          0.2222222222222222,
                          "#7201a8"
                        ],
                        [
                          0.3333333333333333,
                          "#9c179e"
                        ],
                        [
                          0.4444444444444444,
                          "#bd3786"
                        ],
                        [
                          0.5555555555555556,
                          "#d8576b"
                        ],
                        [
                          0.6666666666666666,
                          "#ed7953"
                        ],
                        [
                          0.7777777777777778,
                          "#fb9f3a"
                        ],
                        [
                          0.8888888888888888,
                          "#fdca26"
                        ],
                        [
                          1,
                          "#f0f921"
                        ]
                      ]
                    },
                    "colorway": [
                      "#636efa",
                      "#EF553B",
                      "#00cc96",
                      "#ab63fa",
                      "#FFA15A",
                      "#19d3f3",
                      "#FF6692",
                      "#B6E880",
                      "#FF97FF",
                      "#FECB52"
                    ],
                    "font": {
                      "color": "#2a3f5f"
                    },
                    "geo": {
                      "bgcolor": "white",
                      "lakecolor": "white",
                      "landcolor": "#E5ECF6",
                      "showlakes": true,
                      "showland": true,
                      "subunitcolor": "white"
                    },
                    "hoverlabel": {
                      "align": "left"
                    },
                    "hovermode": "closest",
                    "mapbox": {
                      "style": "light"
                    },
                    "paper_bgcolor": "white",
                    "plot_bgcolor": "#E5ECF6",
                    "polar": {
                      "angularaxis": {
                        "gridcolor": "white",
                        "linecolor": "white",
                        "ticks": ""
                      },
                      "bgcolor": "#E5ECF6",
                      "radialaxis": {
                        "gridcolor": "white",
                        "linecolor": "white",
                        "ticks": ""
                      }
                    },
                    "scene": {
                      "xaxis": {
                        "backgroundcolor": "#E5ECF6",
                        "gridcolor": "white",
                        "gridwidth": 2,
                        "linecolor": "white",
                        "showbackground": true,
                        "ticks": "",
                        "zerolinecolor": "white"
                      },
                      "yaxis": {
                        "backgroundcolor": "#E5ECF6",
                        "gridcolor": "white",
                        "gridwidth": 2,
                        "linecolor": "white",
                        "showbackground": true,
                        "ticks": "",
                        "zerolinecolor": "white"
                      },
                      "zaxis": {
                        "backgroundcolor": "#E5ECF6",
                        "gridcolor": "white",
                        "gridwidth": 2,
                        "linecolor": "white",
                        "showbackground": true,
                        "ticks": "",
                        "zerolinecolor": "white"
                      }
                    },
                    "shapedefaults": {
                      "line": {
                        "color": "#2a3f5f"
                      }
                    },
                    "ternary": {
                      "aaxis": {
                        "gridcolor": "white",
                        "linecolor": "white",
                        "ticks": ""
                      },
                      "baxis": {
                        "gridcolor": "white",
                        "linecolor": "white",
                        "ticks": ""
                      },
                      "bgcolor": "#E5ECF6",
                      "caxis": {
                        "gridcolor": "white",
                        "linecolor": "white",
                        "ticks": ""
                      }
                    },
                    "title": {
                      "x": 0.05
                    },
                    "xaxis": {
                      "automargin": true,
                      "gridcolor": "white",
                      "linecolor": "white",
                      "ticks": "",
                      "title": {
                        "standoff": 15
                      },
                      "zerolinecolor": "white",
                      "zerolinewidth": 2
                    },
                    "yaxis": {
                      "automargin": true,
                      "gridcolor": "white",
                      "linecolor": "white",
                      "ticks": "",
                      "title": {
                        "standoff": 15
                      },
                      "zerolinecolor": "white",
                      "zerolinewidth": 2
                    }
                  }
                },
                "title": {
                  "font": {
                    "color": "#4D5663"
                  },
                  "text": "Top 20 bigrams used in articles"
                },
                "xaxis": {
                  "gridcolor": "#E1E5ED",
                  "linecolor": "black",
                  "showgrid": true,
                  "tickfont": {
                    "color": "#4D5663"
                  },
                  "title": {
                    "font": {
                      "color": "#4D5663"
                    },
                    "text": ""
                  },
                  "zerolinecolor": "#E1E5ED"
                },
                "yaxis": {
                  "gridcolor": "#E1E5ED",
                  "linecolor": "black",
                  "showgrid": true,
                  "tickfont": {
                    "color": "#4D5663"
                  },
                  "title": {
                    "font": {
                      "color": "#4D5663"
                    },
                    "text": "Count"
                  },
                  "zerolinecolor": "#E1E5ED"
                }
              },
              "config": {
                "showLink": true,
                "linkText": "Export to plot.ly",
                "plotlyServerURL": "https://plot.ly"
              }
            },
            "text/html": [
              "<div>                            <div id=\"10405b09-b1b2-43f6-ae6a-426c9bd4a8e9\" class=\"plotly-graph-div\" style=\"height:525px; width:100%;\"></div>            <script type=\"text/javascript\">                require([\"plotly\"], function(Plotly) {                    window.PLOTLYENV=window.PLOTLYENV || {};\n",
              "                    window.PLOTLYENV.BASE_URL='https://plot.ly';                                    if (document.getElementById(\"10405b09-b1b2-43f6-ae6a-426c9bd4a8e9\")) {                    Plotly.newPlot(                        \"10405b09-b1b2-43f6-ae6a-426c9bd4a8e9\",                        [{\"marker\":{\"color\":\"rgba(55, 128, 191, 0.6)\",\"line\":{\"color\":\"rgba(55, 128, 191, 1.0)\",\"width\":1}},\"name\":\"count\",\"orientation\":\"v\",\"text\":\"\",\"x\":[\"hillary clinton\",\"donald trump\",\"united states\",\"new york\",\"white house\",\"clinton campaign\",\"hillary clintons\",\"brain force\",\"bill clinton\",\"clinton foundation\",\"secretary state\",\"presidential election\",\"fbi director\",\"barack obama\",\"mainstream media\",\"alex jones\",\"attorney general\",\"election day\",\"donald trumps\",\"democratic party\"],\"y\":[1073,885,499,335,324,248,230,209,205,185,182,149,147,142,139,136,132,132,131,129],\"type\":\"bar\"}],                        {\"legend\":{\"bgcolor\":\"#F5F6F9\",\"font\":{\"color\":\"#4D5663\"}},\"paper_bgcolor\":\"#F5F6F9\",\"plot_bgcolor\":\"#F5F6F9\",\"template\":{\"data\":{\"barpolar\":[{\"marker\":{\"line\":{\"color\":\"#E5ECF6\",\"width\":0.5},\"pattern\":{\"fillmode\":\"overlay\",\"size\":10,\"solidity\":0.2}},\"type\":\"barpolar\"}],\"bar\":[{\"error_x\":{\"color\":\"#2a3f5f\"},\"error_y\":{\"color\":\"#2a3f5f\"},\"marker\":{\"line\":{\"color\":\"#E5ECF6\",\"width\":0.5},\"pattern\":{\"fillmode\":\"overlay\",\"size\":10,\"solidity\":0.2}},\"type\":\"bar\"}],\"carpet\":[{\"aaxis\":{\"endlinecolor\":\"#2a3f5f\",\"gridcolor\":\"white\",\"linecolor\":\"white\",\"minorgridcolor\":\"white\",\"startlinecolor\":\"#2a3f5f\"},\"baxis\":{\"endlinecolor\":\"#2a3f5f\",\"gridcolor\":\"white\",\"linecolor\":\"white\",\"minorgridcolor\":\"white\",\"startlinecolor\":\"#2a3f5f\"},\"type\":\"carpet\"}],\"choropleth\":[{\"colorbar\":{\"outlinewidth\":0,\"ticks\":\"\"},\"type\":\"choropleth\"}],\"contourcarpet\":[{\"colorbar\":{\"outlinewidth\":0,\"ticks\":\"\"},\"type\":\"contourcarpet\"}],\"contour\":[{\"colorbar\":{\"outlinewidth\":0,\"ticks\":\"\"},\"colorscale\":[[0.0,\"#0d0887\"],[0.1111111111111111,\"#46039f\"],[0.2222222222222222,\"#7201a8\"],[0.3333333333333333,\"#9c179e\"],[0.4444444444444444,\"#bd3786\"],[0.5555555555555556,\"#d8576b\"],[0.6666666666666666,\"#ed7953\"],[0.7777777777777778,\"#fb9f3a\"],[0.8888888888888888,\"#fdca26\"],[1.0,\"#f0f921\"]],\"type\":\"contour\"}],\"heatmapgl\":[{\"colorbar\":{\"outlinewidth\":0,\"ticks\":\"\"},\"colorscale\":[[0.0,\"#0d0887\"],[0.1111111111111111,\"#46039f\"],[0.2222222222222222,\"#7201a8\"],[0.3333333333333333,\"#9c179e\"],[0.4444444444444444,\"#bd3786\"],[0.5555555555555556,\"#d8576b\"],[0.6666666666666666,\"#ed7953\"],[0.7777777777777778,\"#fb9f3a\"],[0.8888888888888888,\"#fdca26\"],[1.0,\"#f0f921\"]],\"type\":\"heatmapgl\"}],\"heatmap\":[{\"colorbar\":{\"outlinewidth\":0,\"ticks\":\"\"},\"colorscale\":[[0.0,\"#0d0887\"],[0.1111111111111111,\"#46039f\"],[0.2222222222222222,\"#7201a8\"],[0.3333333333333333,\"#9c179e\"],[0.4444444444444444,\"#bd3786\"],[0.5555555555555556,\"#d8576b\"],[0.6666666666666666,\"#ed7953\"],[0.7777777777777778,\"#fb9f3a\"],[0.8888888888888888,\"#fdca26\"],[1.0,\"#f0f921\"]],\"type\":\"heatmap\"}],\"histogram2dcontour\":[{\"colorbar\":{\"outlinewidth\":0,\"ticks\":\"\"},\"colorscale\":[[0.0,\"#0d0887\"],[0.1111111111111111,\"#46039f\"],[0.2222222222222222,\"#7201a8\"],[0.3333333333333333,\"#9c179e\"],[0.4444444444444444,\"#bd3786\"],[0.5555555555555556,\"#d8576b\"],[0.6666666666666666,\"#ed7953\"],[0.7777777777777778,\"#fb9f3a\"],[0.8888888888888888,\"#fdca26\"],[1.0,\"#f0f921\"]],\"type\":\"histogram2dcontour\"}],\"histogram2d\":[{\"colorbar\":{\"outlinewidth\":0,\"ticks\":\"\"},\"colorscale\":[[0.0,\"#0d0887\"],[0.1111111111111111,\"#46039f\"],[0.2222222222222222,\"#7201a8\"],[0.3333333333333333,\"#9c179e\"],[0.4444444444444444,\"#bd3786\"],[0.5555555555555556,\"#d8576b\"],[0.6666666666666666,\"#ed7953\"],[0.7777777777777778,\"#fb9f3a\"],[0.8888888888888888,\"#fdca26\"],[1.0,\"#f0f921\"]],\"type\":\"histogram2d\"}],\"histogram\":[{\"marker\":{\"pattern\":{\"fillmode\":\"overlay\",\"size\":10,\"solidity\":0.2}},\"type\":\"histogram\"}],\"mesh3d\":[{\"colorbar\":{\"outlinewidth\":0,\"ticks\":\"\"},\"type\":\"mesh3d\"}],\"parcoords\":[{\"line\":{\"colorbar\":{\"outlinewidth\":0,\"ticks\":\"\"}},\"type\":\"parcoords\"}],\"pie\":[{\"automargin\":true,\"type\":\"pie\"}],\"scatter3d\":[{\"line\":{\"colorbar\":{\"outlinewidth\":0,\"ticks\":\"\"}},\"marker\":{\"colorbar\":{\"outlinewidth\":0,\"ticks\":\"\"}},\"type\":\"scatter3d\"}],\"scattercarpet\":[{\"marker\":{\"colorbar\":{\"outlinewidth\":0,\"ticks\":\"\"}},\"type\":\"scattercarpet\"}],\"scattergeo\":[{\"marker\":{\"colorbar\":{\"outlinewidth\":0,\"ticks\":\"\"}},\"type\":\"scattergeo\"}],\"scattergl\":[{\"marker\":{\"colorbar\":{\"outlinewidth\":0,\"ticks\":\"\"}},\"type\":\"scattergl\"}],\"scattermapbox\":[{\"marker\":{\"colorbar\":{\"outlinewidth\":0,\"ticks\":\"\"}},\"type\":\"scattermapbox\"}],\"scatterpolargl\":[{\"marker\":{\"colorbar\":{\"outlinewidth\":0,\"ticks\":\"\"}},\"type\":\"scatterpolargl\"}],\"scatterpolar\":[{\"marker\":{\"colorbar\":{\"outlinewidth\":0,\"ticks\":\"\"}},\"type\":\"scatterpolar\"}],\"scatter\":[{\"marker\":{\"colorbar\":{\"outlinewidth\":0,\"ticks\":\"\"}},\"type\":\"scatter\"}],\"scatterternary\":[{\"marker\":{\"colorbar\":{\"outlinewidth\":0,\"ticks\":\"\"}},\"type\":\"scatterternary\"}],\"surface\":[{\"colorbar\":{\"outlinewidth\":0,\"ticks\":\"\"},\"colorscale\":[[0.0,\"#0d0887\"],[0.1111111111111111,\"#46039f\"],[0.2222222222222222,\"#7201a8\"],[0.3333333333333333,\"#9c179e\"],[0.4444444444444444,\"#bd3786\"],[0.5555555555555556,\"#d8576b\"],[0.6666666666666666,\"#ed7953\"],[0.7777777777777778,\"#fb9f3a\"],[0.8888888888888888,\"#fdca26\"],[1.0,\"#f0f921\"]],\"type\":\"surface\"}],\"table\":[{\"cells\":{\"fill\":{\"color\":\"#EBF0F8\"},\"line\":{\"color\":\"white\"}},\"header\":{\"fill\":{\"color\":\"#C8D4E3\"},\"line\":{\"color\":\"white\"}},\"type\":\"table\"}]},\"layout\":{\"annotationdefaults\":{\"arrowcolor\":\"#2a3f5f\",\"arrowhead\":0,\"arrowwidth\":1},\"autotypenumbers\":\"strict\",\"coloraxis\":{\"colorbar\":{\"outlinewidth\":0,\"ticks\":\"\"}},\"colorscale\":{\"diverging\":[[0,\"#8e0152\"],[0.1,\"#c51b7d\"],[0.2,\"#de77ae\"],[0.3,\"#f1b6da\"],[0.4,\"#fde0ef\"],[0.5,\"#f7f7f7\"],[0.6,\"#e6f5d0\"],[0.7,\"#b8e186\"],[0.8,\"#7fbc41\"],[0.9,\"#4d9221\"],[1,\"#276419\"]],\"sequential\":[[0.0,\"#0d0887\"],[0.1111111111111111,\"#46039f\"],[0.2222222222222222,\"#7201a8\"],[0.3333333333333333,\"#9c179e\"],[0.4444444444444444,\"#bd3786\"],[0.5555555555555556,\"#d8576b\"],[0.6666666666666666,\"#ed7953\"],[0.7777777777777778,\"#fb9f3a\"],[0.8888888888888888,\"#fdca26\"],[1.0,\"#f0f921\"]],\"sequentialminus\":[[0.0,\"#0d0887\"],[0.1111111111111111,\"#46039f\"],[0.2222222222222222,\"#7201a8\"],[0.3333333333333333,\"#9c179e\"],[0.4444444444444444,\"#bd3786\"],[0.5555555555555556,\"#d8576b\"],[0.6666666666666666,\"#ed7953\"],[0.7777777777777778,\"#fb9f3a\"],[0.8888888888888888,\"#fdca26\"],[1.0,\"#f0f921\"]]},\"colorway\":[\"#636efa\",\"#EF553B\",\"#00cc96\",\"#ab63fa\",\"#FFA15A\",\"#19d3f3\",\"#FF6692\",\"#B6E880\",\"#FF97FF\",\"#FECB52\"],\"font\":{\"color\":\"#2a3f5f\"},\"geo\":{\"bgcolor\":\"white\",\"lakecolor\":\"white\",\"landcolor\":\"#E5ECF6\",\"showlakes\":true,\"showland\":true,\"subunitcolor\":\"white\"},\"hoverlabel\":{\"align\":\"left\"},\"hovermode\":\"closest\",\"mapbox\":{\"style\":\"light\"},\"paper_bgcolor\":\"white\",\"plot_bgcolor\":\"#E5ECF6\",\"polar\":{\"angularaxis\":{\"gridcolor\":\"white\",\"linecolor\":\"white\",\"ticks\":\"\"},\"bgcolor\":\"#E5ECF6\",\"radialaxis\":{\"gridcolor\":\"white\",\"linecolor\":\"white\",\"ticks\":\"\"}},\"scene\":{\"xaxis\":{\"backgroundcolor\":\"#E5ECF6\",\"gridcolor\":\"white\",\"gridwidth\":2,\"linecolor\":\"white\",\"showbackground\":true,\"ticks\":\"\",\"zerolinecolor\":\"white\"},\"yaxis\":{\"backgroundcolor\":\"#E5ECF6\",\"gridcolor\":\"white\",\"gridwidth\":2,\"linecolor\":\"white\",\"showbackground\":true,\"ticks\":\"\",\"zerolinecolor\":\"white\"},\"zaxis\":{\"backgroundcolor\":\"#E5ECF6\",\"gridcolor\":\"white\",\"gridwidth\":2,\"linecolor\":\"white\",\"showbackground\":true,\"ticks\":\"\",\"zerolinecolor\":\"white\"}},\"shapedefaults\":{\"line\":{\"color\":\"#2a3f5f\"}},\"ternary\":{\"aaxis\":{\"gridcolor\":\"white\",\"linecolor\":\"white\",\"ticks\":\"\"},\"baxis\":{\"gridcolor\":\"white\",\"linecolor\":\"white\",\"ticks\":\"\"},\"bgcolor\":\"#E5ECF6\",\"caxis\":{\"gridcolor\":\"white\",\"linecolor\":\"white\",\"ticks\":\"\"}},\"title\":{\"x\":0.05},\"xaxis\":{\"automargin\":true,\"gridcolor\":\"white\",\"linecolor\":\"white\",\"ticks\":\"\",\"title\":{\"standoff\":15},\"zerolinecolor\":\"white\",\"zerolinewidth\":2},\"yaxis\":{\"automargin\":true,\"gridcolor\":\"white\",\"linecolor\":\"white\",\"ticks\":\"\",\"title\":{\"standoff\":15},\"zerolinecolor\":\"white\",\"zerolinewidth\":2}}},\"title\":{\"font\":{\"color\":\"#4D5663\"},\"text\":\"Top 20 bigrams used in articles\"},\"xaxis\":{\"gridcolor\":\"#E1E5ED\",\"linecolor\":\"black\",\"showgrid\":true,\"tickfont\":{\"color\":\"#4D5663\"},\"title\":{\"font\":{\"color\":\"#4D5663\"},\"text\":\"\"},\"zerolinecolor\":\"#E1E5ED\"},\"yaxis\":{\"gridcolor\":\"#E1E5ED\",\"linecolor\":\"black\",\"showgrid\":true,\"tickfont\":{\"color\":\"#4D5663\"},\"title\":{\"font\":{\"color\":\"#4D5663\"},\"text\":\"Count\"},\"zerolinecolor\":\"#E1E5ED\"}},                        {\"showLink\": true, \"linkText\": \"Export to plot.ly\", \"plotlyServerURL\": \"https://plot.ly\", \"responsive\": true}                    ).then(function(){\n",
              "                            \n",
              "var gd = document.getElementById('10405b09-b1b2-43f6-ae6a-426c9bd4a8e9');\n",
              "var x = new MutationObserver(function (mutations, observer) {{\n",
              "        var display = window.getComputedStyle(gd).display;\n",
              "        if (!display || display === 'none') {{\n",
              "            console.log([gd, 'removed!']);\n",
              "            Plotly.purge(gd);\n",
              "            observer.disconnect();\n",
              "        }}\n",
              "}});\n",
              "\n",
              "// Listen for the removal of the full notebook cells\n",
              "var notebookContainer = gd.closest('#notebook-container');\n",
              "if (notebookContainer) {{\n",
              "    x.observe(notebookContainer, {childList: true});\n",
              "}}\n",
              "\n",
              "// Listen for the clearing of the current output cell\n",
              "var outputEl = gd.closest('.output');\n",
              "if (outputEl) {{\n",
              "    x.observe(outputEl, {childList: true});\n",
              "}}\n",
              "\n",
              "                        })                };                });            </script>        </div>"
            ]
          },
          "metadata": {}
        }
      ]
    },
    {
      "cell_type": "markdown",
      "source": [
        "WordCloud of articles"
      ],
      "metadata": {
        "id": "KEDgyg_ITNIl"
      }
    },
    {
      "cell_type": "code",
      "source": [
        "wc = WordCloud(background_color=\"black\", max_words=100,\n",
        "               max_font_size=256,\n",
        "               random_state=42, width=1000, height=1000)\n",
        "wc.generate(' '.join(df['text_without_stopwords']))\n",
        "plt.imshow(wc, interpolation=\"bilinear\")\n",
        "plt.axis('off')\n",
        "plt.show()"
      ],
      "metadata": {
        "id": "__2TBSBNRx05",
        "colab": {
          "base_uri": "https://localhost:8080/",
          "height": 248
        },
        "outputId": "a08a6de1-7aa3-4381-b784-fdd9f546ae0a"
      },
      "execution_count": 218,
      "outputs": [
        {
          "output_type": "display_data",
          "data": {
            "text/plain": [
              "<Figure size 432x288 with 1 Axes>"
            ],
            "image/png": "[encoded data removed]"
          },
          "metadata": {
            "needs_background": "light"
          }
        }
      ]
    },
    {
      "cell_type": "markdown",
      "source": [
        "Articles including images vs Label"
      ],
      "metadata": {
        "id": "wEsIssF0TR00"
      }
    },
    {
      "cell_type": "code",
      "source": [
        "fig = px.bar(df, x='hasImage', y='label',title='Articles including images vs Label')\n",
        "fig.show()"
      ],
      "metadata": {
        "id": "8_CjqaToRx3o",
        "colab": {
          "base_uri": "https://localhost:8080/",
          "height": 542
        },
        "outputId": "bb3fe2bc-f94a-4123-a332-2e7f5e63102e"
      },
      "execution_count": 219,
      "outputs": [
        {
          "output_type": "display_data",
          "data": {
            "application/vnd.plotly.v1+json": {
              "data": [
                {
                  "alignmentgroup": "True",
                  "hovertemplate": "hasImage=%{x}<br>label=%{y}<extra></extra>",
                  "legendgroup": "",
                  "marker": {
                    "color": "#636efa",
                    "pattern": {
                      "shape": ""
                    }
                  },
                  "name": "",
                  "offsetgroup": "",
                  "orientation": "h",
                  "showlegend": false,
                  "textposition": "auto",
                  "x": [
                    1,
                    1,
                    1,
                    1,
                    1,
                    1,
                    1,
                    1,
                    1,
                    1,
                    1,
                    1,
                    1,
                    1,
                    1,
                    1,
                    1,
                    1,
                    1,
                    1,
                    1,
                    1,
                    1,
                    1,
                    1,
                    1,
                    1,
                    1,
                    1,
                    1,
                    1,
                    1,
                    1,
                    1,
                    1,
                    1,
                    1,
                    1,
                    1,
                    1,
                    1,
                    1,
                    1,
                    1,
                    1,
                    1,
                    1,
                    1,
                    1,
                    1,
                    1,
                    1,
                    1,
                    1,
                    1,
                    1,
                    1,
                    1,
                    1,
                    0,
                    0,
                    0,
                    0,
                    0,
                    0,
                    0,
                    0,
                    0,
                    0,
                    0,
                    0,
                    0,
                    0,
                    0,
                    0,
                    0,
                    0,
                    0,
                    0,
                    0,
                    0,
                    0,
                    0,
                    0,
                    0,
                    0,
                    0,
                    0,
                    0,
                    0,
                    0,
                    0,
                    0,
                    0,
                    0,
                    0,
                    0,
                    0,
                    0,
                    0,
                    0,
                    0,
                    0,
                    0,
                    0,
                    0,
                    0,
                    0,
                    0,
                    0,
                    0,
                    0,
                    0,
                    0,
                    0,
                    0,
                    0,
                    0,
                    0,
                    0,
                    0,
                    0,
                    0,
                    0,
                    0,
                    0,
                    0,
                    0,
                    0,
                    0,
                    0,
                    0,
                    0,
                    0,
                    0,
                    0,
                    0,
                    0,
                    0,
                    0,
                    0,
                    1,
                    1,
                    1,
                    1,
                    1,
                    1,
                    1,
                    1,
                    1,
                    1,
                    1,
                    1,
                    1,
                    1,
                    1,
                    1,
                    1,
                    1,
                    1,
                    1,
                    1,
                    1,
                    1,
                    1,
                    1,
                    1,
                    1,
                    1,
                    1,
                    1,
                    1,
                    1,
                    1,
                    1,
                    1,
                    1,
                    1,
                    1,
                    1,
                    1,
                    1,
                    1,
                    1,
                    1,
                    1,
                    1,
                    1,
                    1,
                    1,
                    1,
                    1,
                    1,
                    1,
                    0,
                    0,
                    0,
                    1,
                    1,
                    0,
                    0,
                    0,
                    0,
                    0,
                    0,
                    0,
                    0,
                    0,
                    1,
                    0,
                    0,
                    0,
                    0,
                    0,
                    0,
                    0,
                    0,
                    0,
                    0,
                    0,
                    0,
                    0,
                    1,
                    0,
                    0,
                    0,
                    0,
                    0,
                    0,
                    0,
                    0,
                    0,
                    0,
                    0,
                    0,
                    0,
                    0,
                    0,
                    1,
                    0,
                    0,
                    0,
                    0,
                    1,
                    0,
                    0,
                    0,
                    0,
                    0,
                    0,
                    0,
                    0,
                    1,
                    0,
                    0,
                    0,
                    0,
                    0,
                    0,
                    0,
                    0,
                    0,
                    0,
                    0,
                    0,
                    0,
                    1,
                    1,
                    0,
                    0,
                    0,
                    1,
                    0,
                    0,
                    0,
                    0,
                    0,
                    0,
                    0,
                    0,
                    0,
                    0,
                    0,
                    0,
                    0,
                    0,
                    0,
                    0,
                    0,
                    0,
                    0,
                    0,
                    0,
                    0,
                    0,
                    1,
                    1,
                    0,
                    0,
                    0,
                    1,
                    1,
                    1,
                    0,
                    1,
                    1,
                    1,
                    1,
                    1,
                    1,
                    1,
                    1,
                    0,
                    0,
                    1,
                    1,
                    1,
                    1,
                    1,
                    1,
                    1,
                    1,
                    1,
                    1,
                    1,
                    1,
                    1,
                    1,
                    1,
                    1,
                    1,
                    1,
                    1,
                    1,
                    1,
                    1,
                    1,
                    1,
                    1,
                    1,
                    1,
                    1,
                    1,
                    1,
                    1,
                    1,
                    1,
                    1,
                    1,
                    1,
                    1,
                    1,
                    1,
                    1,
                    1,
                    1,
                    1,
                    1,
                    1,
                    1,
                    1,
                    1,
                    1,
                    1,
                    1,
                    1,
                    1,
                    1,
                    1,
                    1,
                    1,
                    1,
                    1,
                    1,
                    1,
                    1,
                    1,
                    1,
                    1,
                    1,
                    1,
                    1,
                    1,
                    1,
                    1,
                    1,
                    1,
                    1,
                    1,
                    1,
                    1,
                    1,
                    1,
                    1,
                    0,
                    1,
                    1,
                    1,
                    1,
                    1,
                    1,
                    1,
                    1,
                    1,
                    1,
                    1,
                    1,
                    1,
                    1,
                    1,
                    1,
                    1,
                    1,
                    1,
                    1,
                    1,
                    1,
                    1,
                    1,
                    1,
                    1,
                    1,
                    1,
                    1,
                    1,
                    1,
                    1,
                    1,
                    1,
                    1,
                    1,
                    1,
                    1,
                    1,
                    1,
                    1,
                    1,
                    1,
                    1,
                    1,
                    1,
                    1,
                    1,
                    1,
                    1,
                    1,
                    1,
                    1,
                    1,
                    1,
                    1,
                    1,
                    1,
                    1,
                    1,
                    1,
                    1,
                    1,
                    1,
                    1,
                    1,
                    1,
                    1,
                    1,
                    1,
                    1,
                    1,
                    1,
                    1,
                    1,
                    1,
                    1,
                    1,
                    1,
                    1,
                    1,
                    1,
                    1,
                    1,
                    1,
                    1,
                    1,
                    1,
                    1,
                    1,
                    1,
                    1,
                    1,
                    1,
                    1,
                    1,
                    1,
                    1,
                    1,
                    1,
                    1,
                    1,
                    1,
                    1,
                    1,
                    1,
                    1,
                    1,
                    1,
                    1,
                    1,
                    1,
                    1,
                    1,
                    1,
                    1,
                    1,
                    1,
                    1,
                    1,
                    1,
                    1,
                    1,
                    1,
                    1,
                    1,
                    1,
                    1,
                    1,
                    1,
                    1,
                    1,
                    1,
                    1,
                    1,
                    1,
                    1,
                    1,
                    1,
                    1,
                    1,
                    1,
                    1,
                    1,
                    1,
                    1,
                    1,
                    1,
                    1,
                    1,
                    1,
                    1,
                    1,
                    1,
                    1,
                    1,
                    1,
                    1,
                    1,
                    1,
                    1,
                    1,
                    1,
                    1,
                    1,
                    1,
                    1,
                    1,
                    1,
                    1,
                    1,
                    1,
                    1,
                    1,
                    1,
                    1,
                    1,
                    1,
                    1,
                    1,
                    1,
                    1,
                    1,
                    1,
                    1,
                    1,
                    1,
                    1,
                    1,
                    1,
                    1,
                    1,
                    1,
                    1,
                    1,
                    1,
                    1,
                    1,
                    1,
                    1,
                    1,
                    1,
                    1,
                    1,
                    1,
                    1,
                    1,
                    1,
                    1,
                    1,
                    1,
                    1,
                    1,
                    1,
                    1,
                    1,
                    1,
                    1,
                    1,
                    1,
                    1,
                    1,
                    1,
                    1,
                    1,
                    1,
                    1,
                    1,
                    1,
                    1,
                    1,
                    1,
                    1,
                    1,
                    1,
                    1,
                    1,
                    1,
                    1,
                    1,
                    1,
                    1,
                    1,
                    1,
                    1,
                    1,
                    1,
                    1,
                    1,
                    1,
                    1,
                    1,
                    1,
                    1,
                    1,
                    1,
                    1,
                    1,
                    1,
                    1,
                    1,
                    1,
                    1,
                    1,
                    1,
                    1,
                    1,
                    1,
                    1,
                    1,
                    1,
                    1,
                    1,
                    1,
                    1,
                    1,
                    1,
                    1,
                    1,
                    1,
                    1,
                    1,
                    1,
                    1,
                    1,
                    1,
                    1,
                    1,
                    1,
                    1,
                    1,
                    1,
                    1,
                    1,
                    0,
                    0,
                    0,
                    0,
                    0,
                    0,
                    0,
                    0,
                    0,
                    0,
                    0,
                    0,
                    0,
                    0,
                    0,
                    0,
                    0,
                    0,
                    0,
                    0,
                    0,
                    0,
                    0,
                    0,
                    0,
                    0,
                    0,
                    0,
                    1,
                    1,
                    1,
                    1,
                    1,
                    1,
                    1,
                    1,
                    1,
                    1,
                    1,
                    1,
                    1,
                    1,
                    1,
                    1,
                    1,
                    1,
                    1,
                    1,
                    1,
                    1,
                    1,
                    1,
                    1,
                    1,
                    1,
                    1,
                    1,
                    1,
                    1,
                    1,
                    1,
                    1,
                    1,
                    1,
                    1,
                    1,
                    1,
                    1,
                    1,
                    1,
                    1,
                    1,
                    1,
                    1,
                    1,
                    1,
                    1,
                    1,
                    1,
                    1,
                    1,
                    1,
                    1,
                    1,
                    1,
                    1,
                    1,
                    1,
                    1,
                    1,
                    1,
                    1,
                    1,
                    1,
                    1,
                    1,
                    1,
                    1,
                    1,
                    1,
                    1,
                    1,
                    1,
                    1,
                    1,
                    1,
                    1,
                    1,
                    1,
                    1,
                    1,
                    1,
                    1,
                    1,
                    1,
                    0,
                    0,
                    0,
                    0,
                    0,
                    0,
                    0,
                    0,
                    0,
                    1,
                    1,
                    1,
                    1,
                    1,
                    1,
                    1,
                    1,
                    1,
                    1,
                    1,
                    1,
                    1,
                    1,
                    1,
                    1,
                    1,
                    1,
                    1,
                    1,
                    1,
                    1,
                    1,
                    1,
                    1,
                    1,
                    1,
                    1,
                    1,
                    1,
                    1,
                    1,
                    1,
                    1,
                    1,
                    1,
                    1,
                    1,
                    1,
                    1,
                    1,
                    1,
                    1,
                    1,
                    1,
                    1,
                    1,
                    1,
                    1,
                    1,
                    1,
                    1,
                    1,
                    1,
                    1,
                    1,
                    1,
                    1,
                    1,
                    1,
                    1,
                    1,
                    1,
                    1,
                    1,
                    1,
                    1,
                    1,
                    1,
                    1,
                    1,
                    1,
                    1,
                    1,
                    1,
                    1,
                    1,
                    1,
                    1,
                    1,
                    1,
                    1,
                    1,
                    1,
                    1,
                    1,
                    1,
                    1,
                    1,
                    1,
                    1,
                    1,
                    1,
                    1,
                    1,
                    1,
                    1,
                    1,
                    1,
                    1,
                    1,
                    1,
                    1,
                    1,
                    1,
                    1,
                    1,
                    1,
                    1,
                    1,
                    1,
                    1,
                    1,
                    1,
                    1,
                    1,
                    1,
                    1,
                    1,
                    1,
                    1,
                    1,
                    1,
                    1,
                    1,
                    1,
                    1,
                    1,
                    1,
                    1,
                    1,
                    1,
                    1,
                    1,
                    1,
                    1,
                    1,
                    1,
                    1,
                    1,
                    1,
                    1,
                    1,
                    1,
                    1,
                    1,
                    1,
                    1,
                    1,
                    1,
                    1,
                    1,
                    1,
                    1,
                    1,
                    1,
                    1,
                    1,
                    1,
                    1,
                    1,
                    1,
                    1,
                    1,
                    1,
                    1,
                    1,
                    1,
                    1,
                    1,
                    1,
                    1,
                    1,
                    1,
                    1,
                    1,
                    1,
                    1,
                    1,
                    1,
                    1,
                    1,
                    1,
                    1,
                    1,
                    1,
                    1,
                    1,
                    1,
                    1,
                    1,
                    1,
                    1,
                    1,
                    1,
                    1,
                    1,
                    1,
                    1,
                    1,
                    1,
                    1,
                    1,
                    1,
                    1,
                    1,
                    1,
                    1,
                    1,
                    1,
                    1,
                    1,
                    1,
                    1,
                    1,
                    1,
                    1,
                    1,
                    1,
                    1,
                    1,
                    1,
                    1,
                    1,
                    1,
                    1,
                    1,
                    1,
                    1,
                    1,
                    1,
                    1,
                    1,
                    1,
                    1,
                    1,
                    1,
                    1,
                    1,
                    1,
                    1,
                    1,
                    1,
                    1,
                    1,
                    1,
                    1,
                    1,
                    1,
                    1,
                    1,
                    1,
                    1,
                    1,
                    1,
                    1,
                    1,
                    1,
                    1,
                    1,
                    1,
                    1,
                    1,
                    1,
                    1,
                    1,
                    1,
                    1,
                    1,
                    1,
                    1,
                    1,
                    1,
                    1,
                    1,
                    1,
                    1,
                    1,
                    1,
                    1,
                    1,
                    1,
                    1,
                    1,
                    1,
                    1,
                    1,
                    1,
                    1,
                    1,
                    1,
                    1,
                    1,
                    1,
                    1,
                    1,
                    1,
                    1,
                    1,
                    1,
                    1,
                    1,
                    1,
                    1,
                    1,
                    1,
                    1,
                    1,
                    1,
                    1,
                    1,
                    1,
                    1,
                    1,
                    1,
                    1,
                    1,
                    1,
                    1,
                    1,
                    1,
                    1,
                    0,
                    0,
                    0,
                    0,
                    0,
                    1,
                    1,
                    1,
                    1,
                    1,
                    1,
                    1,
                    1,
                    1,
                    1,
                    1,
                    1,
                    1,
                    1,
                    1,
                    1,
                    1,
                    1,
                    1,
                    1,
                    1,
                    1,
                    1,
                    1,
                    1,
                    1,
                    1,
                    1,
                    1,
                    1,
                    1,
                    1,
                    1,
                    1,
                    1,
                    1,
                    1,
                    1,
                    1,
                    1,
                    1,
                    1,
                    1,
                    1,
                    1,
                    1,
                    1,
                    1,
                    1,
                    1,
                    1,
                    1,
                    1,
                    1,
                    1,
                    1,
                    1,
                    1,
                    1,
                    1,
                    1,
                    1,
                    1,
                    1,
                    1,
                    1,
                    1,
                    1,
                    1,
                    1,
                    1,
                    1,
                    1,
                    1,
                    1,
                    1,
                    1,
                    1,
                    1,
                    1,
                    1,
                    1,
                    1,
                    1,
                    1,
                    1,
                    1,
                    1,
                    1,
                    1,
                    1,
                    1,
                    1,
                    1,
                    1,
                    1,
                    1,
                    1,
                    1,
                    1,
                    1,
                    0,
                    0,
                    0,
                    0,
                    0,
                    0,
                    0,
                    0,
                    0,
                    0,
                    0,
                    0,
                    0,
                    0,
                    0,
                    0,
                    0,
                    0,
                    0,
                    0,
                    0,
                    0,
                    0,
                    0,
                    0,
                    0,
                    0,
                    0,
                    0,
                    0,
                    0,
                    0,
                    0,
                    0,
                    0,
                    0,
                    0,
                    0,
                    0,
                    0,
                    0,
                    0,
                    0,
                    0,
                    0,
                    0,
                    0,
                    1,
                    1,
                    1,
                    1,
                    1,
                    1,
                    1,
                    1,
                    1,
                    1,
                    1,
                    1,
                    1,
                    1,
                    1,
                    1,
                    1,
                    1,
                    1,
                    1,
                    1,
                    1,
                    1,
                    1,
                    1,
                    1,
                    1,
                    1,
                    1,
                    1,
                    1,
                    1,
                    1,
                    1,
                    1,
                    1,
                    1,
                    1,
                    1,
                    1,
                    1,
                    1,
                    1,
                    1,
                    1,
                    1,
                    1,
                    1,
                    1,
                    1,
                    1,
                    1,
                    1,
                    1,
                    1,
                    1,
                    1,
                    1,
                    1,
                    1,
                    1,
                    1,
                    1,
                    1,
                    1,
                    1,
                    1,
                    1,
                    1,
                    1,
                    1,
                    1,
                    1,
                    1,
                    1,
                    1,
                    1,
                    1,
                    1,
                    1,
                    1,
                    1,
                    1,
                    1,
                    1,
                    1,
                    1,
                    1,
                    1,
                    1,
                    1,
                    1,
                    1,
                    1,
                    1,
                    1,
                    1,
                    1,
                    1,
                    1,
                    1,
                    1,
                    1,
                    1,
                    1,
                    1,
                    1,
                    1,
                    1,
                    1,
                    1,
                    1,
                    1,
                    1,
                    1,
                    1,
                    1,
                    1,
                    1,
                    1,
                    1,
                    1,
                    1,
                    1,
                    1,
                    1,
                    1,
                    1,
                    1,
                    1,
                    1,
                    1,
                    1,
                    1,
                    1,
                    1,
                    1,
                    1,
                    1,
                    1,
                    1,
                    1,
                    1,
                    1,
                    1,
                    1,
                    1,
                    1,
                    1,
                    1,
                    1,
                    1,
                    1,
                    1,
                    1,
                    1,
                    1,
                    1,
                    1,
                    1,
                    1,
                    1,
                    1,
                    1,
                    1,
                    1,
                    1,
                    1,
                    1,
                    1,
                    1,
                    1,
                    1,
                    1,
                    1,
                    1,
                    1,
                    1,
                    1,
                    1,
                    1,
                    1,
                    1,
                    1,
                    1,
                    1,
                    1,
                    1,
                    1,
                    1,
                    1,
                    1,
                    1,
                    1,
                    1,
                    1,
                    1,
                    1,
                    1,
                    1,
                    1,
                    1,
                    1,
                    1,
                    1,
                    1,
                    1,
                    1,
                    1,
                    1,
                    1,
                    1,
                    1,
                    1,
                    1,
                    1,
                    1,
                    1,
                    1,
                    1,
                    1,
                    1,
                    1,
                    1,
                    1,
                    1,
                    1,
                    1,
                    1,
                    1,
                    1,
                    1,
                    1,
                    1,
                    1,
                    1,
                    1,
                    1,
                    1,
                    1,
                    1,
                    1,
                    1,
                    1,
                    1,
                    1,
                    1,
                    1,
                    1,
                    1,
                    1,
                    1,
                    1,
                    1,
                    1,
                    1,
                    1,
                    1,
                    1,
                    1,
                    1,
                    1,
                    1,
                    1,
                    1,
                    1,
                    1,
                    1,
                    1,
                    1,
                    1,
                    1,
                    1,
                    1,
                    1,
                    1,
                    1,
                    1,
                    1,
                    1,
                    1,
                    1,
                    1,
                    1,
                    1,
                    1,
                    1,
                    1,
                    1,
                    1,
                    1,
                    1,
                    1,
                    1,
                    1,
                    1,
                    1,
                    1,
                    1,
                    1,
                    1,
                    1,
                    1,
                    1,
                    1,
                    1,
                    1,
                    1,
                    1,
                    1,
                    1,
                    1,
                    1,
                    1,
                    1,
                    1,
                    1,
                    1,
                    1,
                    1,
                    1,
                    1,
                    1,
                    1,
                    1,
                    1,
                    1,
                    0,
                    0,
                    0,
                    1,
                    1,
                    1,
                    1,
                    1,
                    1,
                    1,
                    1,
                    1,
                    1,
                    1,
                    1,
                    1,
                    1,
                    1,
                    1,
                    1,
                    0,
                    1,
                    0,
                    1,
                    0,
                    0,
                    0,
                    0,
                    0,
                    0,
                    0,
                    0,
                    0,
                    0,
                    0,
                    0,
                    0,
                    0,
                    0,
                    0,
                    0,
                    0,
                    1,
                    0,
                    1,
                    1,
                    1,
                    1,
                    1,
                    0,
                    1,
                    1,
                    1,
                    1,
                    1,
                    1,
                    1,
                    1,
                    1,
                    1,
                    0,
                    1,
                    0,
                    0,
                    0,
                    1,
                    1,
                    1,
                    1,
                    1,
                    1,
                    1,
                    0,
                    0,
                    0,
                    0,
                    0,
                    0,
                    0,
                    0,
                    0,
                    0,
                    0,
                    0,
                    0,
                    0,
                    0,
                    0,
                    0,
                    0,
                    0,
                    0,
                    0,
                    1,
                    1,
                    1,
                    1,
                    1,
                    0,
                    0,
                    1,
                    0,
                    1,
                    0,
                    0,
                    0,
                    0,
                    0,
                    0,
                    0,
                    0,
                    0,
                    0,
                    0,
                    0,
                    0,
                    0,
                    0,
                    0,
                    0,
                    0,
                    0,
                    0,
                    0,
                    0,
                    0,
                    0,
                    0,
                    0,
                    0,
                    0,
                    0,
                    0,
                    0,
                    0,
                    0,
                    0,
                    0,
                    0,
                    0,
                    0,
                    0,
                    0,
                    0,
                    0,
                    0,
                    0,
                    0,
                    0,
                    0,
                    0,
                    0,
                    0,
                    0,
                    0,
                    0,
                    0,
                    0,
                    0,
                    0,
                    0,
                    0,
                    0,
                    0,
                    0,
                    0,
                    0,
                    0,
                    0,
                    0,
                    0,
                    0,
                    0,
                    0,
                    0,
                    0,
                    0,
                    0,
                    0,
                    0,
                    0,
                    0,
                    0,
                    0,
                    0,
                    0,
                    0,
                    0,
                    0,
                    0,
                    0,
                    0,
                    0,
                    0,
                    0,
                    0,
                    0,
                    0,
                    0,
                    0,
                    0,
                    0,
                    0,
                    1,
                    1,
                    1,
                    1,
                    1,
                    1,
                    1,
                    1,
                    1,
                    1,
                    1,
                    0,
                    0,
                    1,
                    0,
                    0,
                    0,
                    0,
                    1,
                    1,
                    1,
                    1,
                    1,
                    1,
                    1,
                    1,
                    1,
                    1,
                    1,
                    1,
                    1,
                    1,
                    1,
                    1,
                    1,
                    1,
                    1,
                    1,
                    1,
                    1,
                    1,
                    1,
                    1,
                    1,
                    1,
                    0,
                    1,
                    0,
                    0,
                    0,
                    0,
                    1,
                    1,
                    0,
                    0,
                    0,
                    0,
                    1,
                    1,
                    0,
                    0,
                    0,
                    1,
                    1,
                    1,
                    1,
                    1,
                    1,
                    1,
                    1,
                    1,
                    1,
                    1,
                    1,
                    1,
                    1,
                    1,
                    1,
                    1,
                    1,
                    1,
                    1,
                    1,
                    1,
                    1,
                    1,
                    1,
                    1,
                    1,
                    1,
                    1,
                    1,
                    1,
                    1,
                    1,
                    1,
                    1,
                    1,
                    1,
                    1,
                    1,
                    1,
                    1,
                    1,
                    1,
                    1,
                    1,
                    1,
                    1,
                    1,
                    1,
                    1,
                    1,
                    1,
                    1,
                    1,
                    1,
                    1,
                    1,
                    1,
                    1,
                    1,
                    1,
                    1,
                    1,
                    1,
                    1,
                    1,
                    1,
                    1,
                    1,
                    1,
                    1,
                    1,
                    1,
                    1,
                    1,
                    1,
                    1,
                    1,
                    1,
                    1,
                    1,
                    1,
                    1,
                    1,
                    1,
                    1,
                    1,
                    1,
                    1,
                    1,
                    1,
                    1,
                    1,
                    1,
                    1,
                    1,
                    1,
                    1,
                    1,
                    1,
                    0,
                    0,
                    0,
                    0,
                    1,
                    0,
                    0,
                    1,
                    1,
                    0,
                    1,
                    1,
                    1,
                    1,
                    1,
                    1,
                    1,
                    1,
                    1,
                    1,
                    1,
                    0,
                    1,
                    1,
                    1,
                    1,
                    1,
                    1,
                    1,
                    1,
                    0,
                    1,
                    1,
                    1,
                    1,
                    1,
                    1,
                    1,
                    1,
                    1,
                    1,
                    1,
                    1,
                    0,
                    0,
                    0,
                    0,
                    0,
                    0,
                    0,
                    1,
                    0,
                    1,
                    1,
                    0,
                    0,
                    0,
                    0,
                    0,
                    0,
                    0,
                    1,
                    1,
                    1,
                    0
                  ],
                  "xaxis": "x",
                  "y": [
                    "Real",
                    "Real",
                    "Real",
                    "Real",
                    "Real",
                    "Real",
                    "Real",
                    "Real",
                    "Real",
                    "Real",
                    "Real",
                    "Real",
                    "Real",
                    "Real",
                    "Real",
                    "Real",
                    "Real",
                    "Real",
                    "Real",
                    "Real",
                    "Real",
                    "Real",
                    "Real",
                    "Real",
                    "Real",
                    "Real",
                    "Real",
                    "Real",
                    "Real",
                    "Real",
                    "Real",
                    "Real",
                    "Real",
                    "Fake",
                    "Fake",
                    "Fake",
                    "Fake",
                    "Fake",
                    "Fake",
                    "Fake",
                    "Fake",
                    "Fake",
                    "Fake",
                    "Fake",
                    "Fake",
                    "Fake",
                    "Fake",
                    "Fake",
                    "Fake",
                    "Fake",
                    "Fake",
                    "Fake",
                    "Fake",
                    "Fake",
                    "Fake",
                    "Fake",
                    "Fake",
                    "Fake",
                    "Fake",
                    "Fake",
                    "Fake",
                    "Fake",
                    "Fake",
                    "Fake",
                    "Fake",
                    "Fake",
                    "Fake",
                    "Fake",
                    "Fake",
                    "Fake",
                    "Fake",
                    "Fake",
                    "Fake",
                    "Fake",
                    "Fake",
                    "Fake",
                    "Fake",
                    "Fake",
                    "Fake",
                    "Fake",
                    "Fake",
                    "Fake",
                    "Fake",
                    "Fake",
                    "Fake",
                    "Fake",
                    "Fake",
                    "Fake",
                    "Fake",
                    "Fake",
                    "Fake",
                    "Fake",
                    "Fake",
                    "Fake",
                    "Fake",
                    "Fake",
                    "Fake",
                    "Fake",
                    "Fake",
                    "Fake",
                    "Fake",
                    "Fake",
                    "Fake",
                    "Fake",
                    "Fake",
                    "Fake",
                    "Fake",
                    "Fake",
                    "Fake",
                    "Fake",
                    "Fake",
                    "Fake",
                    "Fake",
                    "Fake",
                    "Fake",
                    "Fake",
                    "Fake",
                    "Fake",
                    "Fake",
                    "Fake",
                    "Fake",
                    "Fake",
                    "Fake",
                    "Fake",
                    "Fake",
                    "Fake",
                    "Fake",
                    "Fake",
                    "Fake",
                    "Fake",
                    "Fake",
                    "Fake",
                    "Fake",
                    "Fake",
                    "Fake",
                    "Fake",
                    "Fake",
                    "Fake",
                    "Fake",
                    "Fake",
                    "Fake",
                    "Fake",
                    "Fake",
                    "Fake",
                    "Fake",
                    "Fake",
                    "Fake",
                    "Fake",
                    "Fake",
                    "Fake",
                    "Fake",
                    "Fake",
                    "Fake",
                    "Fake",
                    "Fake",
                    "Fake",
                    "Fake",
                    "Fake",
                    "Fake",
                    "Fake",
                    "Fake",
                    "Fake",
                    "Fake",
                    "Fake",
                    "Fake",
                    "Fake",
                    "Fake",
                    "Fake",
                    "Fake",
                    "Fake",
                    "Fake",
                    "Fake",
                    "Fake",
                    "Fake",
                    "Fake",
                    "Fake",
                    "Fake",
                    "Fake",
                    "Fake",
                    "Fake",
                    "Fake",
                    "Fake",
                    "Fake",
                    "Fake",
                    "Fake",
                    "Fake",
                    "Fake",
                    "Fake",
                    "Fake",
                    "Fake",
                    "Fake",
                    "Fake",
                    "Fake",
                    "Fake",
                    "Fake",
                    "Fake",
                    "Fake",
                    "Fake",
                    "Fake",
                    "Fake",
                    "Fake",
                    "Fake",
                    "Fake",
                    "Fake",
                    "Fake",
                    "Fake",
                    "Fake",
                    "Fake",
                    "Fake",
                    "Fake",
                    "Fake",
                    "Fake",
                    "Fake",
                    "Fake",
                    "Fake",
                    "Fake",
                    "Fake",
                    "Fake",
                    "Fake",
                    "Fake",
                    "Fake",
                    "Fake",
                    "Fake",
                    "Fake",
                    "Fake",
                    "Fake",
                    "Fake",
                    "Fake",
                    "Fake",
                    "Fake",
                    "Fake",
                    "Fake",
                    "Fake",
                    "Fake",
                    "Fake",
                    "Fake",
                    "Fake",
                    "Fake",
                    "Fake",
                    "Fake",
                    "Fake",
                    "Fake",
                    "Fake",
                    "Fake",
                    "Fake",
                    "Fake",
                    "Fake",
                    "Fake",
                    "Fake",
                    "Fake",
                    "Fake",
                    "Fake",
                    "Fake",
                    "Fake",
                    "Fake",
                    "Fake",
                    "Fake",
                    "Fake",
                    "Fake",
                    "Fake",
                    "Fake",
                    "Fake",
                    "Fake",
                    "Fake",
                    "Fake",
                    "Fake",
                    "Fake",
                    "Fake",
                    "Fake",
                    "Fake",
                    "Fake",
                    "Fake",
                    "Fake",
                    "Fake",
                    "Fake",
                    "Fake",
                    "Fake",
                    "Fake",
                    "Fake",
                    "Fake",
                    "Fake",
                    "Fake",
                    "Fake",
                    "Fake",
                    "Fake",
                    "Fake",
                    "Fake",
                    "Fake",
                    "Fake",
                    "Fake",
                    "Fake",
                    "Fake",
                    "Fake",
                    "Fake",
                    "Real",
                    "Real",
                    "Real",
                    "Real",
                    "Real",
                    "Real",
                    "Real",
                    "Real",
                    "Real",
                    "Real",
                    "Real",
                    "Real",
                    "Real",
                    "Real",
                    "Real",
                    "Real",
                    "Real",
                    "Real",
                    "Real",
                    "Real",
                    "Fake",
                    "Fake",
                    "Fake",
                    "Fake",
                    "Fake",
                    "Fake",
                    "Fake",
                    "Fake",
                    "Fake",
                    "Fake",
                    "Fake",
                    "Fake",
                    "Fake",
                    "Fake",
                    "Fake",
                    "Fake",
                    "Fake",
                    "Fake",
                    "Fake",
                    "Fake",
                    "Fake",
                    "Fake",
                    "Fake",
                    "Fake",
                    "Fake",
                    "Fake",
                    "Fake",
                    "Fake",
                    "Fake",
                    "Fake",
                    "Fake",
                    "Fake",
                    "Fake",
                    "Fake",
                    "Fake",
                    "Fake",
                    "Fake",
                    "Fake",
                    "Fake",
                    "Fake",
                    "Fake",
                    "Fake",
                    "Fake",
                    "Fake",
                    "Fake",
                    "Fake",
                    "Fake",
                    "Fake",
                    "Fake",
                    "Fake",
                    "Fake",
                    "Fake",
                    "Fake",
                    "Fake",
                    "Fake",
                    "Fake",
                    "Fake",
                    "Fake",
                    "Fake",
                    "Fake",
                    "Fake",
                    "Fake",
                    "Fake",
                    "Fake",
                    "Fake",
                    "Fake",
                    "Fake",
                    "Fake",
                    "Fake",
                    "Fake",
                    "Fake",
                    "Fake",
                    "Fake",
                    "Fake",
                    "Fake",
                    "Fake",
                    "Fake",
                    "Fake",
                    "Fake",
                    "Fake",
                    "Fake",
                    "Fake",
                    "Fake",
                    "Fake",
                    "Fake",
                    "Fake",
                    "Fake",
                    "Fake",
                    "Fake",
                    "Fake",
                    "Fake",
                    "Fake",
                    "Fake",
                    "Fake",
                    "Fake",
                    "Fake",
                    "Fake",
                    "Fake",
                    "Fake",
                    "Fake",
                    "Fake",
                    "Fake",
                    "Fake",
                    "Fake",
                    "Fake",
                    "Fake",
                    "Fake",
                    "Fake",
                    "Fake",
                    "Fake",
                    "Fake",
                    "Fake",
                    "Fake",
                    "Fake",
                    "Fake",
                    "Fake",
                    "Fake",
                    "Fake",
                    "Fake",
                    "Fake",
                    "Fake",
                    "Fake",
                    "Fake",
                    "Fake",
                    "Fake",
                    "Fake",
                    "Fake",
                    "Fake",
                    "Fake",
                    "Fake",
                    "Fake",
                    "Fake",
                    "Fake",
                    "Fake",
                    "Fake",
                    "Fake",
                    "Fake",
                    "Fake",
                    "Fake",
                    "Fake",
                    "Fake",
                    "Fake",
                    "Fake",
                    "Fake",
                    "Fake",
                    "Fake",
                    "Fake",
                    "Fake",
                    "Fake",
                    "Fake",
                    "Fake",
                    "Fake",
                    "Fake",
                    "Fake",
                    "Fake",
                    "Fake",
                    "Fake",
                    "Fake",
                    "Fake",
                    "Fake",
                    "Fake",
                    "Fake",
                    "Fake",
                    "Fake",
                    "Fake",
                    "Fake",
                    "Fake",
                    "Fake",
                    "Fake",
                    "Fake",
                    "Fake",
                    "Fake",
                    "Fake",
                    "Fake",
                    "Fake",
                    "Fake",
                    "Fake",
                    "Fake",
                    "Fake",
                    "Fake",
                    "Fake",
                    "Fake",
                    "Fake",
                    "Fake",
                    "Fake",
                    "Fake",
                    "Fake",
                    "Fake",
                    "Fake",
                    "Fake",
                    "Fake",
                    "Fake",
                    "Fake",
                    "Fake",
                    "Fake",
                    "Fake",
                    "Fake",
                    "Fake",
                    "Fake",
                    "Fake",
                    "Fake",
                    "Fake",
                    "Fake",
                    "Fake",
                    "Fake",
                    "Fake",
                    "Fake",
                    "Fake",
                    "Fake",
                    "Fake",
                    "Fake",
                    "Fake",
                    "Fake",
                    "Fake",
                    "Fake",
                    "Fake",
                    "Fake",
                    "Fake",
                    "Fake",
                    "Fake",
                    "Fake",
                    "Fake",
                    "Fake",
                    "Fake",
                    "Fake",
                    "Fake",
                    "Fake",
                    "Fake",
                    "Fake",
                    "Fake",
                    "Fake",
                    "Fake",
                    "Fake",
                    "Fake",
                    "Fake",
                    "Fake",
                    "Fake",
                    "Fake",
                    "Fake",
                    "Fake",
                    "Fake",
                    "Fake",
                    "Fake",
                    "Fake",
                    "Fake",
                    "Fake",
                    "Fake",
                    "Fake",
                    "Fake",
                    "Fake",
                    "Fake",
                    "Fake",
                    "Fake",
                    "Fake",
                    "Fake",
                    "Fake",
                    "Fake",
                    "Fake",
                    "Fake",
                    "Fake",
                    "Fake",
                    "Fake",
                    "Fake",
                    "Fake",
                    "Fake",
                    "Fake",
                    "Fake",
                    "Fake",
                    "Fake",
                    "Fake",
                    "Fake",
                    "Fake",
                    "Fake",
                    "Fake",
                    "Fake",
                    "Fake",
                    "Fake",
                    "Fake",
                    "Fake",
                    "Fake",
                    "Fake",
                    "Fake",
                    "Fake",
                    "Fake",
                    "Fake",
                    "Fake",
                    "Fake",
                    "Fake",
                    "Fake",
                    "Fake",
                    "Fake",
                    "Fake",
                    "Fake",
                    "Fake",
                    "Fake",
                    "Fake",
                    "Fake",
                    "Fake",
                    "Fake",
                    "Fake",
                    "Fake",
                    "Fake",
                    "Fake",
                    "Fake",
                    "Fake",
                    "Fake",
                    "Fake",
                    "Fake",
                    "Fake",
                    "Fake",
                    "Fake",
                    "Fake",
                    "Fake",
                    "Fake",
                    "Fake",
                    "Fake",
                    "Fake",
                    "Fake",
                    "Fake",
                    "Fake",
                    "Fake",
                    "Fake",
                    "Fake",
                    "Fake",
                    "Fake",
                    "Fake",
                    "Fake",
                    "Fake",
                    "Fake",
                    "Fake",
                    "Fake",
                    "Fake",
                    "Fake",
                    "Fake",
                    "Fake",
                    "Fake",
                    "Fake",
                    "Fake",
                    "Fake",
                    "Fake",
                    "Fake",
                    "Fake",
                    "Fake",
                    "Fake",
                    "Fake",
                    "Fake",
                    "Fake",
                    "Fake",
                    "Fake",
                    "Fake",
                    "Fake",
                    "Fake",
                    "Fake",
                    "Fake",
                    "Fake",
                    "Fake",
                    "Fake",
                    "Fake",
                    "Fake",
                    "Fake",
                    "Fake",
                    "Fake",
                    "Fake",
                    "Fake",
                    "Fake",
                    "Fake",
                    "Fake",
                    "Fake",
                    "Fake",
                    "Fake",
                    "Fake",
                    "Fake",
                    "Fake",
                    "Fake",
                    "Fake",
                    "Fake",
                    "Fake",
                    "Fake",
                    "Fake",
                    "Fake",
                    "Fake",
                    "Fake",
                    "Fake",
                    "Fake",
                    "Fake",
                    "Fake",
                    "Fake",
                    "Fake",
                    "Fake",
                    "Fake",
                    "Fake",
                    "Fake",
                    "Fake",
                    "Fake",
                    "Fake",
                    "Fake",
                    "Fake",
                    "Fake",
                    "Fake",
                    "Fake",
                    "Fake",
                    "Fake",
                    "Fake",
                    "Fake",
                    "Fake",
                    "Fake",
                    "Fake",
                    "Fake",
                    "Fake",
                    "Real",
                    "Real",
                    "Real",
                    "Real",
                    "Real",
                    "Real",
                    "Real",
                    "Real",
                    "Real",
                    "Real",
                    "Real",
                    "Real",
                    "Real",
                    "Real",
                    "Real",
                    "Real",
                    "Real",
                    "Real",
                    "Real",
                    "Real",
                    "Real",
                    "Real",
                    "Real",
                    "Real",
                    "Real",
                    "Real",
                    "Real",
                    "Real",
                    "Real",
                    "Real",
                    "Real",
                    "Real",
                    "Real",
                    "Real",
                    "Real",
                    "Real",
                    "Real",
                    "Real",
                    "Real",
                    "Real",
                    "Real",
                    "Real",
                    "Real",
                    "Real",
                    "Real",
                    "Real",
                    "Real",
                    "Real",
                    "Real",
                    "Real",
                    "Real",
                    "Real",
                    "Real",
                    "Real",
                    "Real",
                    "Real",
                    "Real",
                    "Real",
                    "Real",
                    "Real",
                    "Real",
                    "Real",
                    "Real",
                    "Real",
                    "Real",
                    "Real",
                    "Real",
                    "Real",
                    "Real",
                    "Real",
                    "Real",
                    "Real",
                    "Real",
                    "Real",
                    "Real",
                    "Real",
                    "Real",
                    "Real",
                    "Real",
                    "Real",
                    "Real",
                    "Fake",
                    "Fake",
                    "Fake",
                    "Fake",
                    "Fake",
                    "Fake",
                    "Fake",
                    "Fake",
                    "Fake",
                    "Real",
                    "Real",
                    "Real",
                    "Real",
                    "Real",
                    "Real",
                    "Real",
                    "Real",
                    "Real",
                    "Real",
                    "Real",
                    "Real",
                    "Real",
                    "Real",
                    "Real",
                    "Real",
                    "Real",
                    "Real",
                    "Real",
                    "Real",
                    "Real",
                    "Real",
                    "Real",
                    "Real",
                    "Real",
                    "Real",
                    "Real",
                    "Real",
                    "Real",
                    "Real",
                    "Real",
                    "Real",
                    "Real",
                    "Real",
                    "Real",
                    "Real",
                    "Real",
                    "Real",
                    "Real",
                    "Real",
                    "Real",
                    "Real",
                    "Real",
                    "Real",
                    "Fake",
                    "Fake",
                    "Fake",
                    "Fake",
                    "Fake",
                    "Fake",
                    "Fake",
                    "Fake",
                    "Fake",
                    "Fake",
                    "Fake",
                    "Fake",
                    "Fake",
                    "Fake",
                    "Fake",
                    "Fake",
                    "Fake",
                    "Fake",
                    "Fake",
                    "Fake",
                    "Fake",
                    "Fake",
                    "Fake",
                    "Fake",
                    "Fake",
                    "Fake",
                    "Fake",
                    "Fake",
                    "Fake",
                    "Fake",
                    "Fake",
                    "Fake",
                    "Fake",
                    "Fake",
                    "Fake",
                    "Fake",
                    "Fake",
                    "Fake",
                    "Fake",
                    "Fake",
                    "Fake",
                    "Fake",
                    "Fake",
                    "Fake",
                    "Fake",
                    "Fake",
                    "Fake",
                    "Fake",
                    "Fake",
                    "Fake",
                    "Fake",
                    "Fake",
                    "Fake",
                    "Fake",
                    "Fake",
                    "Fake",
                    "Fake",
                    "Fake",
                    "Fake",
                    "Fake",
                    "Fake",
                    "Fake",
                    "Fake",
                    "Fake",
                    "Fake",
                    "Fake",
                    "Fake",
                    "Fake",
                    "Fake",
                    "Fake",
                    "Fake",
                    "Fake",
                    "Fake",
                    "Fake",
                    "Fake",
                    "Fake",
                    "Fake",
                    "Fake",
                    "Fake",
                    "Fake",
                    "Fake",
                    "Fake",
                    "Fake",
                    "Fake",
                    "Fake",
                    "Fake",
                    "Fake",
                    "Fake",
                    "Fake",
                    "Fake",
                    "Fake",
                    "Fake",
                    "Fake",
                    "Fake",
                    "Fake",
                    "Fake",
                    "Fake",
                    "Fake",
                    "Fake",
                    "Fake",
                    "Fake",
                    "Fake",
                    "Fake",
                    "Fake",
                    "Fake",
                    "Fake",
                    "Fake",
                    "Fake",
                    "Fake",
                    "Fake",
                    "Fake",
                    "Fake",
                    "Fake",
                    "Fake",
                    "Fake",
                    "Fake",
                    "Fake",
                    "Fake",
                    "Fake",
                    "Fake",
                    "Fake",
                    "Fake",
                    "Fake",
                    "Fake",
                    "Fake",
                    "Fake",
                    "Fake",
                    "Fake",
                    "Fake",
                    "Fake",
                    "Fake",
                    "Fake",
                    "Fake",
                    "Fake",
                    "Fake",
                    "Fake",
                    "Fake",
                    "Fake",
                    "Fake",
                    "Fake",
                    "Fake",
                    "Fake",
                    "Fake",
                    "Fake",
                    "Fake",
                    "Fake",
                    "Fake",
                    "Fake",
                    "Fake",
                    "Fake",
                    "Fake",
                    "Fake",
                    "Fake",
                    "Fake",
                    "Fake",
                    "Fake",
                    "Fake",
                    "Fake",
                    "Fake",
                    "Fake",
                    "Fake",
                    "Fake",
                    "Fake",
                    "Fake",
                    "Fake",
                    "Fake",
                    "Fake",
                    "Fake",
                    "Fake",
                    "Fake",
                    "Fake",
                    "Fake",
                    "Fake",
                    "Fake",
                    "Fake",
                    "Fake",
                    "Fake",
                    "Fake",
                    "Real",
                    "Real",
                    "Real",
                    "Real",
                    "Real",
                    "Real",
                    "Real",
                    "Real",
                    "Real",
                    "Real",
                    "Real",
                    "Real",
                    "Real",
                    "Real",
                    "Real",
                    "Real",
                    "Real",
                    "Real",
                    "Real",
                    "Real",
                    "Real",
                    "Real",
                    "Real",
                    "Real",
                    "Real",
                    "Real",
                    "Real",
                    "Real",
                    "Real",
                    "Real",
                    "Real",
                    "Real",
                    "Real",
                    "Real",
                    "Real",
                    "Real",
                    "Real",
                    "Real",
                    "Real",
                    "Real",
                    "Real",
                    "Real",
                    "Real",
                    "Real",
                    "Real",
                    "Real",
                    "Real",
                    "Real",
                    "Real",
                    "Real",
                    "Real",
                    "Real",
                    "Real",
                    "Real",
                    "Real",
                    "Real",
                    "Real",
                    "Real",
                    "Real",
                    "Real",
                    "Real",
                    "Real",
                    "Real",
                    "Real",
                    "Real",
                    "Real",
                    "Real",
                    "Real",
                    "Real",
                    "Real",
                    "Real",
                    "Real",
                    "Real",
                    "Real",
                    "Real",
                    "Real",
                    "Real",
                    "Real",
                    "Real",
                    "Real",
                    "Real",
                    "Real",
                    "Real",
                    "Real",
                    "Real",
                    "Real",
                    "Real",
                    "Real",
                    "Real",
                    "Real",
                    "Real",
                    "Real",
                    "Real",
                    "Real",
                    "Real",
                    "Real",
                    "Real",
                    "Real",
                    "Real",
                    "Real",
                    "Fake",
                    "Fake",
                    "Fake",
                    "Fake",
                    "Fake",
                    "Fake",
                    "Fake",
                    "Fake",
                    "Fake",
                    "Fake",
                    "Fake",
                    "Fake",
                    "Fake",
                    "Fake",
                    "Fake",
                    "Fake",
                    "Fake",
                    "Fake",
                    "Fake",
                    "Fake",
                    "Fake",
                    "Fake",
                    "Fake",
                    "Fake",
                    "Fake",
                    "Fake",
                    "Fake",
                    "Fake",
                    "Fake",
                    "Fake",
                    "Fake",
                    "Fake",
                    "Fake",
                    "Fake",
                    "Fake",
                    "Fake",
                    "Fake",
                    "Fake",
                    "Fake",
                    "Fake",
                    "Fake",
                    "Fake",
                    "Fake",
                    "Fake",
                    "Fake",
                    "Fake",
                    "Fake",
                    "Fake",
                    "Fake",
                    "Fake",
                    "Fake",
                    "Fake",
                    "Fake",
                    "Fake",
                    "Fake",
                    "Fake",
                    "Fake",
                    "Fake",
                    "Fake",
                    "Fake",
                    "Fake",
                    "Fake",
                    "Fake",
                    "Fake",
                    "Fake",
                    "Fake",
                    "Fake",
                    "Fake",
                    "Fake",
                    "Fake",
                    "Fake",
                    "Fake",
                    "Fake",
                    "Fake",
                    "Fake",
                    "Fake",
                    "Fake",
                    "Fake",
                    "Fake",
                    "Fake",
                    "Fake",
                    "Fake",
                    "Fake",
                    "Fake",
                    "Fake",
                    "Fake",
                    "Fake",
                    "Fake",
                    "Fake",
                    "Fake",
                    "Fake",
                    "Fake",
                    "Fake",
                    "Fake",
                    "Fake",
                    "Fake",
                    "Fake",
                    "Fake",
                    "Fake",
                    "Fake",
                    "Fake",
                    "Fake",
                    "Fake",
                    "Fake",
                    "Fake",
                    "Fake",
                    "Fake",
                    "Fake",
                    "Fake",
                    "Fake",
                    "Fake",
                    "Fake",
                    "Fake",
                    "Fake",
                    "Fake",
                    "Fake",
                    "Fake",
                    "Fake",
                    "Fake",
                    "Fake",
                    "Fake",
                    "Fake",
                    "Fake",
                    "Fake",
                    "Fake",
                    "Fake",
                    "Fake",
                    "Fake",
                    "Fake",
                    "Fake",
                    "Fake",
                    "Fake",
                    "Fake",
                    "Fake",
                    "Fake",
                    "Fake",
                    "Fake",
                    "Fake",
                    "Fake",
                    "Fake",
                    "Fake",
                    "Fake",
                    "Fake",
                    "Fake",
                    "Fake",
                    "Fake",
                    "Fake",
                    "Fake",
                    "Fake",
                    "Fake",
                    "Fake",
                    "Fake",
                    "Fake",
                    "Fake",
                    "Fake",
                    "Fake",
                    "Fake",
                    "Fake",
                    "Fake",
                    "Fake",
                    "Fake",
                    "Fake",
                    "Fake",
                    "Fake",
                    "Fake",
                    "Fake",
                    "Fake",
                    "Fake",
                    "Fake",
                    "Fake",
                    "Fake",
                    "Fake",
                    "Fake",
                    "Fake",
                    "Fake",
                    "Fake",
                    "Fake",
                    "Fake",
                    "Fake",
                    "Fake",
                    "Fake",
                    "Fake",
                    "Fake",
                    "Fake",
                    "Fake",
                    "Fake",
                    "Fake",
                    "Fake",
                    "Fake",
                    "Fake",
                    "Fake",
                    "Fake",
                    "Fake",
                    "Fake",
                    "Fake",
                    "Fake",
                    "Fake",
                    "Fake",
                    "Fake",
                    "Fake",
                    "Fake",
                    "Fake",
                    "Fake",
                    "Fake",
                    "Fake",
                    "Fake",
                    "Fake",
                    "Fake",
                    "Fake",
                    "Fake",
                    "Fake",
                    "Fake",
                    "Fake",
                    "Fake",
                    "Fake",
                    "Fake",
                    "Fake",
                    "Fake",
                    "Fake",
                    "Fake",
                    "Fake",
                    "Fake",
                    "Fake",
                    "Fake",
                    "Fake",
                    "Fake",
                    "Fake",
                    "Fake",
                    "Fake",
                    "Fake",
                    "Fake",
                    "Fake",
                    "Fake",
                    "Fake",
                    "Fake",
                    "Fake",
                    "Fake",
                    "Fake",
                    "Fake",
                    "Fake",
                    "Fake",
                    "Fake",
                    "Fake",
                    "Fake",
                    "Fake",
                    "Fake",
                    "Fake",
                    "Fake",
                    "Fake",
                    "Fake",
                    "Fake",
                    "Fake",
                    "Fake",
                    "Fake",
                    "Fake",
                    "Fake",
                    "Fake",
                    "Fake",
                    "Fake",
                    "Real",
                    "Real",
                    "Real",
                    "Real",
                    "Real",
                    "Real",
                    "Real",
                    "Real",
                    "Real",
                    "Real",
                    "Real",
                    "Real",
                    "Real",
                    "Real",
                    "Real",
                    "Real",
                    "Real",
                    "Real",
                    "Real",
                    "Real",
                    "Real",
                    "Real",
                    "Real",
                    "Real",
                    "Real",
                    "Real",
                    "Real",
                    "Real",
                    "Real",
                    "Real",
                    "Real",
                    "Real",
                    "Real",
                    "Real",
                    "Real",
                    "Real",
                    "Real",
                    "Real",
                    "Real",
                    "Real",
                    "Real",
                    "Real",
                    "Real",
                    "Real",
                    "Real",
                    "Real",
                    "Real",
                    "Real",
                    "Real",
                    "Real",
                    "Real",
                    "Real",
                    "Real",
                    "Real",
                    "Real",
                    "Real",
                    "Real",
                    "Real",
                    "Real",
                    "Real",
                    "Real",
                    "Real",
                    "Real",
                    "Real",
                    "Real",
                    "Real",
                    "Real",
                    "Real",
                    "Real",
                    "Real",
                    "Real",
                    "Real",
                    "Real",
                    "Real",
                    "Real",
                    "Real",
                    "Real",
                    "Real",
                    "Real",
                    "Real",
                    "Real",
                    "Real",
                    "Real",
                    "Real",
                    "Real",
                    "Real",
                    "Real",
                    "Real",
                    "Real",
                    "Real",
                    "Real",
                    "Real",
                    "Real",
                    "Real",
                    "Real",
                    "Real",
                    "Real",
                    "Real",
                    "Real",
                    "Real",
                    "Real",
                    "Real",
                    "Real",
                    "Real",
                    "Real",
                    "Real",
                    "Real",
                    "Real",
                    "Real",
                    "Real",
                    "Real",
                    "Real",
                    "Real",
                    "Real",
                    "Real",
                    "Real",
                    "Real",
                    "Real",
                    "Real",
                    "Real",
                    "Real",
                    "Real",
                    "Real",
                    "Real",
                    "Real",
                    "Real",
                    "Real",
                    "Real",
                    "Real",
                    "Real",
                    "Real",
                    "Real",
                    "Real",
                    "Real",
                    "Real",
                    "Real",
                    "Real",
                    "Real",
                    "Real",
                    "Real",
                    "Real",
                    "Real",
                    "Real",
                    "Real",
                    "Real",
                    "Real",
                    "Real",
                    "Real",
                    "Real",
                    "Real",
                    "Real",
                    "Real",
                    "Real",
                    "Real",
                    "Real",
                    "Real",
                    "Real",
                    "Real",
                    "Real",
                    "Real",
                    "Real",
                    "Real",
                    "Real",
                    "Real",
                    "Real",
                    "Real",
                    "Real",
                    "Real",
                    "Real",
                    "Real",
                    "Real",
                    "Real",
                    "Real",
                    "Real",
                    "Real",
                    "Real",
                    "Real",
                    "Real",
                    "Real",
                    "Real",
                    "Real",
                    "Real",
                    "Real",
                    "Real",
                    "Real",
                    "Real",
                    "Real",
                    "Real",
                    "Real",
                    "Real",
                    "Real",
                    "Real",
                    "Real",
                    "Real",
                    "Real",
                    "Real",
                    "Real",
                    "Real",
                    "Real",
                    "Real",
                    "Real",
                    "Real",
                    "Real",
                    "Real",
                    "Real",
                    "Real",
                    "Real",
                    "Real",
                    "Real",
                    "Real",
                    "Real",
                    "Real",
                    "Real",
                    "Real",
                    "Real",
                    "Real",
                    "Real",
                    "Real",
                    "Real",
                    "Real",
                    "Real",
                    "Fake",
                    "Fake",
                    "Fake",
                    "Fake",
                    "Fake",
                    "Fake",
                    "Fake",
                    "Fake",
                    "Fake",
                    "Fake",
                    "Fake",
                    "Fake",
                    "Fake",
                    "Fake",
                    "Fake",
                    "Fake",
                    "Fake",
                    "Fake",
                    "Fake",
                    "Fake",
                    "Fake",
                    "Fake",
                    "Fake",
                    "Fake",
                    "Fake",
                    "Fake",
                    "Fake",
                    "Fake",
                    "Fake",
                    "Fake",
                    "Fake",
                    "Fake",
                    "Fake",
                    "Fake",
                    "Fake",
                    "Fake",
                    "Fake",
                    "Fake",
                    "Fake",
                    "Fake",
                    "Fake",
                    "Fake",
                    "Fake",
                    "Fake",
                    "Fake",
                    "Fake",
                    "Fake",
                    "Fake",
                    "Fake",
                    "Fake",
                    "Fake",
                    "Fake",
                    "Fake",
                    "Fake",
                    "Fake",
                    "Fake",
                    "Fake",
                    "Fake",
                    "Fake",
                    "Fake",
                    "Fake",
                    "Fake",
                    "Fake",
                    "Fake",
                    "Fake",
                    "Fake",
                    "Fake",
                    "Fake",
                    "Fake",
                    "Fake",
                    "Fake",
                    "Fake",
                    "Fake",
                    "Fake",
                    "Fake",
                    "Fake",
                    "Fake",
                    "Fake",
                    "Fake",
                    "Fake",
                    "Fake",
                    "Fake",
                    "Fake",
                    "Fake",
                    "Fake",
                    "Fake",
                    "Fake",
                    "Fake",
                    "Fake",
                    "Fake",
                    "Fake",
                    "Fake",
                    "Fake",
                    "Fake",
                    "Fake",
                    "Fake",
                    "Fake",
                    "Fake",
                    "Fake",
                    "Fake",
                    "Real",
                    "Fake",
                    "Real",
                    "Real",
                    "Real",
                    "Real",
                    "Real",
                    "Real",
                    "Real",
                    "Real",
                    "Real",
                    "Real",
                    "Real",
                    "Real",
                    "Real",
                    "Real",
                    "Real",
                    "Real",
                    "Real",
                    "Real",
                    "Real",
                    "Real",
                    "Real",
                    "Real",
                    "Real",
                    "Real",
                    "Real",
                    "Real",
                    "Real",
                    "Real",
                    "Real",
                    "Real",
                    "Real",
                    "Real",
                    "Real",
                    "Real",
                    "Real",
                    "Real",
                    "Real",
                    "Real",
                    "Real",
                    "Real",
                    "Real",
                    "Real",
                    "Real",
                    "Real",
                    "Real",
                    "Real",
                    "Real",
                    "Real",
                    "Real",
                    "Real",
                    "Real",
                    "Real",
                    "Real",
                    "Real",
                    "Real",
                    "Real",
                    "Real",
                    "Real",
                    "Real",
                    "Real",
                    "Real",
                    "Real",
                    "Real",
                    "Real",
                    "Real",
                    "Real",
                    "Real",
                    "Real",
                    "Real",
                    "Real",
                    "Real",
                    "Real",
                    "Real",
                    "Real",
                    "Real",
                    "Real",
                    "Real",
                    "Real",
                    "Real",
                    "Real",
                    "Real",
                    "Real",
                    "Real",
                    "Real",
                    "Real",
                    "Real",
                    "Real",
                    "Real",
                    "Real",
                    "Real",
                    "Real",
                    "Real",
                    "Real",
                    "Real",
                    "Real",
                    "Real",
                    "Real",
                    "Real",
                    "Real",
                    "Real",
                    "Real",
                    "Fake",
                    "Fake",
                    "Fake",
                    "Fake",
                    "Fake",
                    "Fake",
                    "Fake",
                    "Fake",
                    "Fake",
                    "Fake",
                    "Fake",
                    "Fake",
                    "Fake",
                    "Fake",
                    "Fake",
                    "Fake",
                    "Fake",
                    "Fake",
                    "Fake",
                    "Fake",
                    "Fake",
                    "Fake",
                    "Fake",
                    "Fake",
                    "Fake",
                    "Fake",
                    "Fake",
                    "Fake",
                    "Fake",
                    "Fake",
                    "Fake",
                    "Fake",
                    "Fake",
                    "Fake",
                    "Fake",
                    "Fake",
                    "Fake",
                    "Fake",
                    "Fake",
                    "Fake",
                    "Fake",
                    "Fake",
                    "Fake",
                    "Fake",
                    "Fake",
                    "Fake",
                    "Fake",
                    "Fake",
                    "Fake",
                    "Fake",
                    "Fake",
                    "Fake",
                    "Fake",
                    "Fake",
                    "Fake",
                    "Fake",
                    "Fake",
                    "Fake",
                    "Fake",
                    "Fake",
                    "Fake",
                    "Fake",
                    "Real",
                    "Real",
                    "Real",
                    "Real",
                    "Real",
                    "Real",
                    "Real",
                    "Real",
                    "Real",
                    "Real",
                    "Real",
                    "Real",
                    "Real",
                    "Real",
                    "Real",
                    "Real",
                    "Real",
                    "Real",
                    "Real",
                    "Real",
                    "Real",
                    "Real",
                    "Real",
                    "Real",
                    "Real",
                    "Real",
                    "Real",
                    "Real",
                    "Real",
                    "Real",
                    "Real",
                    "Real",
                    "Real",
                    "Real",
                    "Real",
                    "Real",
                    "Real",
                    "Real",
                    "Real",
                    "Real",
                    "Real",
                    "Real",
                    "Real",
                    "Real",
                    "Real",
                    "Real",
                    "Real",
                    "Real",
                    "Real",
                    "Real",
                    "Real",
                    "Real",
                    "Real",
                    "Real",
                    "Real",
                    "Real",
                    "Real",
                    "Real",
                    "Real",
                    "Real",
                    "Real",
                    "Real",
                    "Real",
                    "Real",
                    "Real",
                    "Real",
                    "Real",
                    "Real",
                    "Real",
                    "Real",
                    "Real",
                    "Real",
                    "Real",
                    "Real",
                    "Real",
                    "Real",
                    "Real",
                    "Real",
                    "Real",
                    "Real",
                    "Real",
                    "Real",
                    "Real",
                    "Real",
                    "Real",
                    "Real",
                    "Real",
                    "Real",
                    "Real",
                    "Real",
                    "Real",
                    "Real",
                    "Real",
                    "Real",
                    "Real",
                    "Real",
                    "Real",
                    "Real",
                    "Real",
                    "Real",
                    "Fake",
                    "Fake",
                    "Fake",
                    "Fake",
                    "Fake",
                    "Fake",
                    "Fake",
                    "Fake",
                    "Fake",
                    "Fake",
                    "Fake",
                    "Fake",
                    "Real",
                    "Real",
                    "Real",
                    "Real",
                    "Real",
                    "Real",
                    "Real",
                    "Real",
                    "Real",
                    "Real",
                    "Real",
                    "Real",
                    "Real",
                    "Real",
                    "Real",
                    "Real",
                    "Real",
                    "Real",
                    "Real",
                    "Real",
                    "Real",
                    "Real",
                    "Real",
                    "Real",
                    "Real",
                    "Real",
                    "Real",
                    "Real",
                    "Real",
                    "Real",
                    "Real",
                    "Real",
                    "Real",
                    "Real",
                    "Real",
                    "Real",
                    "Real",
                    "Real",
                    "Real",
                    "Real",
                    "Real",
                    "Real",
                    "Real",
                    "Real",
                    "Real",
                    "Real",
                    "Real",
                    "Real",
                    "Real",
                    "Real",
                    "Real",
                    "Real",
                    "Real"
                  ],
                  "yaxis": "y",
                  "type": "bar"
                }
              ],
              "layout": {
                "template": {
                  "data": {
                    "bar": [
                      {
                        "error_x": {
                          "color": "#2a3f5f"
                        },
                        "error_y": {
                          "color": "#2a3f5f"
                        },
                        "marker": {
                          "line": {
                            "color": "#E5ECF6",
                            "width": 0.5
                          },
                          "pattern": {
                            "fillmode": "overlay",
                            "size": 10,
                            "solidity": 0.2
                          }
                        },
                        "type": "bar"
                      }
                    ],
                    "barpolar": [
                      {
                        "marker": {
                          "line": {
                            "color": "#E5ECF6",
                            "width": 0.5
                          },
                          "pattern": {
                            "fillmode": "overlay",
                            "size": 10,
                            "solidity": 0.2
                          }
                        },
                        "type": "barpolar"
                      }
                    ],
                    "carpet": [
                      {
                        "aaxis": {
                          "endlinecolor": "#2a3f5f",
                          "gridcolor": "white",
                          "linecolor": "white",
                          "minorgridcolor": "white",
                          "startlinecolor": "#2a3f5f"
                        },
                        "baxis": {
                          "endlinecolor": "#2a3f5f",
                          "gridcolor": "white",
                          "linecolor": "white",
                          "minorgridcolor": "white",
                          "startlinecolor": "#2a3f5f"
                        },
                        "type": "carpet"
                      }
                    ],
                    "choropleth": [
                      {
                        "colorbar": {
                          "outlinewidth": 0,
                          "ticks": ""
                        },
                        "type": "choropleth"
                      }
                    ],
                    "contour": [
                      {
                        "colorbar": {
                          "outlinewidth": 0,
                          "ticks": ""
                        },
                        "colorscale": [
                          [
                            0,
                            "#0d0887"
                          ],
                          [
                            0.1111111111111111,
                            "#46039f"
                          ],
                          [
                            0.2222222222222222,
                            "#7201a8"
                          ],
                          [
                            0.3333333333333333,
                            "#9c179e"
                          ],
                          [
                            0.4444444444444444,
                            "#bd3786"
                          ],
                          [
                            0.5555555555555556,
                            "#d8576b"
                          ],
                          [
                            0.6666666666666666,
                            "#ed7953"
                          ],
                          [
                            0.7777777777777778,
                            "#fb9f3a"
                          ],
                          [
                            0.8888888888888888,
                            "#fdca26"
                          ],
                          [
                            1,
                            "#f0f921"
                          ]
                        ],
                        "type": "contour"
                      }
                    ],
                    "contourcarpet": [
                      {
                        "colorbar": {
                          "outlinewidth": 0,
                          "ticks": ""
                        },
                        "type": "contourcarpet"
                      }
                    ],
                    "heatmap": [
                      {
                        "colorbar": {
                          "outlinewidth": 0,
                          "ticks": ""
                        },
                        "colorscale": [
                          [
                            0,
                            "#0d0887"
                          ],
                          [
                            0.1111111111111111,
                            "#46039f"
                          ],
                          [
                            0.2222222222222222,
                            "#7201a8"
                          ],
                          [
                            0.3333333333333333,
                            "#9c179e"
                          ],
                          [
                            0.4444444444444444,
                            "#bd3786"
                          ],
                          [
                            0.5555555555555556,
                            "#d8576b"
                          ],
                          [
                            0.6666666666666666,
                            "#ed7953"
                          ],
                          [
                            0.7777777777777778,
                            "#fb9f3a"
                          ],
                          [
                            0.8888888888888888,
                            "#fdca26"
                          ],
                          [
                            1,
                            "#f0f921"
                          ]
                        ],
                        "type": "heatmap"
                      }
                    ],
                    "heatmapgl": [
                      {
                        "colorbar": {
                          "outlinewidth": 0,
                          "ticks": ""
                        },
                        "colorscale": [
                          [
                            0,
                            "#0d0887"
                          ],
                          [
                            0.1111111111111111,
                            "#46039f"
                          ],
                          [
                            0.2222222222222222,
                            "#7201a8"
                          ],
                          [
                            0.3333333333333333,
                            "#9c179e"
                          ],
                          [
                            0.4444444444444444,
                            "#bd3786"
                          ],
                          [
                            0.5555555555555556,
                            "#d8576b"
                          ],
                          [
                            0.6666666666666666,
                            "#ed7953"
                          ],
                          [
                            0.7777777777777778,
                            "#fb9f3a"
                          ],
                          [
                            0.8888888888888888,
                            "#fdca26"
                          ],
                          [
                            1,
                            "#f0f921"
                          ]
                        ],
                        "type": "heatmapgl"
                      }
                    ],
                    "histogram": [
                      {
                        "marker": {
                          "pattern": {
                            "fillmode": "overlay",
                            "size": 10,
                            "solidity": 0.2
                          }
                        },
                        "type": "histogram"
                      }
                    ],
                    "histogram2d": [
                      {
                        "colorbar": {
                          "outlinewidth": 0,
                          "ticks": ""
                        },
                        "colorscale": [
                          [
                            0,
                            "#0d0887"
                          ],
                          [
                            0.1111111111111111,
                            "#46039f"
                          ],
                          [
                            0.2222222222222222,
                            "#7201a8"
                          ],
                          [
                            0.3333333333333333,
                            "#9c179e"
                          ],
                          [
                            0.4444444444444444,
                            "#bd3786"
                          ],
                          [
                            0.5555555555555556,
                            "#d8576b"
                          ],
                          [
                            0.6666666666666666,
                            "#ed7953"
                          ],
                          [
                            0.7777777777777778,
                            "#fb9f3a"
                          ],
                          [
                            0.8888888888888888,
                            "#fdca26"
                          ],
                          [
                            1,
                            "#f0f921"
                          ]
                        ],
                        "type": "histogram2d"
                      }
                    ],
                    "histogram2dcontour": [
                      {
                        "colorbar": {
                          "outlinewidth": 0,
                          "ticks": ""
                        },
                        "colorscale": [
                          [
                            0,
                            "#0d0887"
                          ],
                          [
                            0.1111111111111111,
                            "#46039f"
                          ],
                          [
                            0.2222222222222222,
                            "#7201a8"
                          ],
                          [
                            0.3333333333333333,
                            "#9c179e"
                          ],
                          [
                            0.4444444444444444,
                            "#bd3786"
                          ],
                          [
                            0.5555555555555556,
                            "#d8576b"
                          ],
                          [
                            0.6666666666666666,
                            "#ed7953"
                          ],
                          [
                            0.7777777777777778,
                            "#fb9f3a"
                          ],
                          [
                            0.8888888888888888,
                            "#fdca26"
                          ],
                          [
                            1,
                            "#f0f921"
                          ]
                        ],
                        "type": "histogram2dcontour"
                      }
                    ],
                    "mesh3d": [
                      {
                        "colorbar": {
                          "outlinewidth": 0,
                          "ticks": ""
                        },
                        "type": "mesh3d"
                      }
                    ],
                    "parcoords": [
                      {
                        "line": {
                          "colorbar": {
                            "outlinewidth": 0,
                            "ticks": ""
                          }
                        },
                        "type": "parcoords"
                      }
                    ],
                    "pie": [
                      {
                        "automargin": true,
                        "type": "pie"
                      }
                    ],
                    "scatter": [
                      {
                        "marker": {
                          "colorbar": {
                            "outlinewidth": 0,
                            "ticks": ""
                          }
                        },
                        "type": "scatter"
                      }
                    ],
                    "scatter3d": [
                      {
                        "line": {
                          "colorbar": {
                            "outlinewidth": 0,
                            "ticks": ""
                          }
                        },
                        "marker": {
                          "colorbar": {
                            "outlinewidth": 0,
                            "ticks": ""
                          }
                        },
                        "type": "scatter3d"
                      }
                    ],
                    "scattercarpet": [
                      {
                        "marker": {
                          "colorbar": {
                            "outlinewidth": 0,
                            "ticks": ""
                          }
                        },
                        "type": "scattercarpet"
                      }
                    ],
                    "scattergeo": [
                      {
                        "marker": {
                          "colorbar": {
                            "outlinewidth": 0,
                            "ticks": ""
                          }
                        },
                        "type": "scattergeo"
                      }
                    ],
                    "scattergl": [
                      {
                        "marker": {
                          "colorbar": {
                            "outlinewidth": 0,
                            "ticks": ""
                          }
                        },
                        "type": "scattergl"
                      }
                    ],
                    "scattermapbox": [
                      {
                        "marker": {
                          "colorbar": {
                            "outlinewidth": 0,
                            "ticks": ""
                          }
                        },
                        "type": "scattermapbox"
                      }
                    ],
                    "scatterpolar": [
                      {
                        "marker": {
                          "colorbar": {
                            "outlinewidth": 0,
                            "ticks": ""
                          }
                        },
                        "type": "scatterpolar"
                      }
                    ],
                    "scatterpolargl": [
                      {
                        "marker": {
                          "colorbar": {
                            "outlinewidth": 0,
                            "ticks": ""
                          }
                        },
                        "type": "scatterpolargl"
                      }
                    ],
                    "scatterternary": [
                      {
                        "marker": {
                          "colorbar": {
                            "outlinewidth": 0,
                            "ticks": ""
                          }
                        },
                        "type": "scatterternary"
                      }
                    ],
                    "surface": [
                      {
                        "colorbar": {
                          "outlinewidth": 0,
                          "ticks": ""
                        },
                        "colorscale": [
                          [
                            0,
                            "#0d0887"
                          ],
                          [
                            0.1111111111111111,
                            "#46039f"
                          ],
                          [
                            0.2222222222222222,
                            "#7201a8"
                          ],
                          [
                            0.3333333333333333,
                            "#9c179e"
                          ],
                          [
                            0.4444444444444444,
                            "#bd3786"
                          ],
                          [
                            0.5555555555555556,
                            "#d8576b"
                          ],
                          [
                            0.6666666666666666,
                            "#ed7953"
                          ],
                          [
                            0.7777777777777778,
                            "#fb9f3a"
                          ],
                          [
                            0.8888888888888888,
                            "#fdca26"
                          ],
                          [
                            1,
                            "#f0f921"
                          ]
                        ],
                        "type": "surface"
                      }
                    ],
                    "table": [
                      {
                        "cells": {
                          "fill": {
                            "color": "#EBF0F8"
                          },
                          "line": {
                            "color": "white"
                          }
                        },
                        "header": {
                          "fill": {
                            "color": "#C8D4E3"
                          },
                          "line": {
                            "color": "white"
                          }
                        },
                        "type": "table"
                      }
                    ]
                  },
                  "layout": {
                    "annotationdefaults": {
                      "arrowcolor": "#2a3f5f",
                      "arrowhead": 0,
                      "arrowwidth": 1
                    },
                    "autotypenumbers": "strict",
                    "coloraxis": {
                      "colorbar": {
                        "outlinewidth": 0,
                        "ticks": ""
                      }
                    },
                    "colorscale": {
                      "diverging": [
                        [
                          0,
                          "#8e0152"
                        ],
                        [
                          0.1,
                          "#c51b7d"
                        ],
                        [
                          0.2,
                          "#de77ae"
                        ],
                        [
                          0.3,
                          "#f1b6da"
                        ],
                        [
                          0.4,
                          "#fde0ef"
                        ],
                        [
                          0.5,
                          "#f7f7f7"
                        ],
                        [
                          0.6,
                          "#e6f5d0"
                        ],
                        [
                          0.7,
                          "#b8e186"
                        ],
                        [
                          0.8,
                          "#7fbc41"
                        ],
                        [
                          0.9,
                          "#4d9221"
                        ],
                        [
                          1,
                          "#276419"
                        ]
                      ],
                      "sequential": [
                        [
                          0,
                          "#0d0887"
                        ],
                        [
                          0.1111111111111111,
                          "#46039f"
                        ],
                        [
                          0.2222222222222222,
                          "#7201a8"
                        ],
                        [
                          0.3333333333333333,
                          "#9c179e"
                        ],
                        [
                          0.4444444444444444,
                          "#bd3786"
                        ],
                        [
                          0.5555555555555556,
                          "#d8576b"
                        ],
                        [
                          0.6666666666666666,
                          "#ed7953"
                        ],
                        [
                          0.7777777777777778,
                          "#fb9f3a"
                        ],
                        [
                          0.8888888888888888,
                          "#fdca26"
                        ],
                        [
                          1,
                          "#f0f921"
                        ]
                      ],
                      "sequentialminus": [
                        [
                          0,
                          "#0d0887"
                        ],
                        [
                          0.1111111111111111,
                          "#46039f"
                        ],
                        [
                          0.2222222222222222,
                          "#7201a8"
                        ],
                        [
                          0.3333333333333333,
                          "#9c179e"
                        ],
                        [
                          0.4444444444444444,
                          "#bd3786"
                        ],
                        [
                          0.5555555555555556,
                          "#d8576b"
                        ],
                        [
                          0.6666666666666666,
                          "#ed7953"
                        ],
                        [
                          0.7777777777777778,
                          "#fb9f3a"
                        ],
                        [
                          0.8888888888888888,
                          "#fdca26"
                        ],
                        [
                          1,
                          "#f0f921"
                        ]
                      ]
                    },
                    "colorway": [
                      "#636efa",
                      "#EF553B",
                      "#00cc96",
                      "#ab63fa",
                      "#FFA15A",
                      "#19d3f3",
                      "#FF6692",
                      "#B6E880",
                      "#FF97FF",
                      "#FECB52"
                    ],
                    "font": {
                      "color": "#2a3f5f"
                    },
                    "geo": {
                      "bgcolor": "white",
                      "lakecolor": "white",
                      "landcolor": "#E5ECF6",
                      "showlakes": true,
                      "showland": true,
                      "subunitcolor": "white"
                    },
                    "hoverlabel": {
                      "align": "left"
                    },
                    "hovermode": "closest",
                    "mapbox": {
                      "style": "light"
                    },
                    "paper_bgcolor": "white",
                    "plot_bgcolor": "#E5ECF6",
                    "polar": {
                      "angularaxis": {
                        "gridcolor": "white",
                        "linecolor": "white",
                        "ticks": ""
                      },
                      "bgcolor": "#E5ECF6",
                      "radialaxis": {
                        "gridcolor": "white",
                        "linecolor": "white",
                        "ticks": ""
                      }
                    },
                    "scene": {
                      "xaxis": {
                        "backgroundcolor": "#E5ECF6",
                        "gridcolor": "white",
                        "gridwidth": 2,
                        "linecolor": "white",
                        "showbackground": true,
                        "ticks": "",
                        "zerolinecolor": "white"
                      },
                      "yaxis": {
                        "backgroundcolor": "#E5ECF6",
                        "gridcolor": "white",
                        "gridwidth": 2,
                        "linecolor": "white",
                        "showbackground": true,
                        "ticks": "",
                        "zerolinecolor": "white"
                      },
                      "zaxis": {
                        "backgroundcolor": "#E5ECF6",
                        "gridcolor": "white",
                        "gridwidth": 2,
                        "linecolor": "white",
                        "showbackground": true,
                        "ticks": "",
                        "zerolinecolor": "white"
                      }
                    },
                    "shapedefaults": {
                      "line": {
                        "color": "#2a3f5f"
                      }
                    },
                    "ternary": {
                      "aaxis": {
                        "gridcolor": "white",
                        "linecolor": "white",
                        "ticks": ""
                      },
                      "baxis": {
                        "gridcolor": "white",
                        "linecolor": "white",
                        "ticks": ""
                      },
                      "bgcolor": "#E5ECF6",
                      "caxis": {
                        "gridcolor": "white",
                        "linecolor": "white",
                        "ticks": ""
                      }
                    },
                    "title": {
                      "x": 0.05
                    },
                    "xaxis": {
                      "automargin": true,
                      "gridcolor": "white",
                      "linecolor": "white",
                      "ticks": "",
                      "title": {
                        "standoff": 15
                      },
                      "zerolinecolor": "white",
                      "zerolinewidth": 2
                    },
                    "yaxis": {
                      "automargin": true,
                      "gridcolor": "white",
                      "linecolor": "white",
                      "ticks": "",
                      "title": {
                        "standoff": 15
                      },
                      "zerolinecolor": "white",
                      "zerolinewidth": 2
                    }
                  }
                },
                "xaxis": {
                  "anchor": "y",
                  "domain": [
                    0,
                    1
                  ],
                  "title": {
                    "text": "hasImage"
                  }
                },
                "yaxis": {
                  "anchor": "x",
                  "domain": [
                    0,
                    1
                  ],
                  "title": {
                    "text": "label"
                  }
                },
                "legend": {
                  "tracegroupgap": 0
                },
                "title": {
                  "text": "Articles including images vs Label"
                },
                "barmode": "relative"
              },
              "config": {
                "plotlyServerURL": "https://plot.ly"
              }
            },
            "text/html": [
              "<div>                            <div id=\"70aef13c-1ad5-4867-905a-7ceee3282fec\" class=\"plotly-graph-div\" style=\"height:525px; width:100%;\"></div>            <script type=\"text/javascript\">                require([\"plotly\"], function(Plotly) {                    window.PLOTLYENV=window.PLOTLYENV || {};                                    if (document.getElementById(\"70aef13c-1ad5-4867-905a-7ceee3282fec\")) {                    Plotly.newPlot(                        \"70aef13c-1ad5-4867-905a-7ceee3282fec\",                        [{\"alignmentgroup\":\"True\",\"hovertemplate\":\"hasImage=%{x}<br>label=%{y}<extra></extra>\",\"legendgroup\":\"\",\"marker\":{\"color\":\"#636efa\",\"pattern\":{\"shape\":\"\"}},\"name\":\"\",\"offsetgroup\":\"\",\"orientation\":\"h\",\"showlegend\":false,\"textposition\":\"auto\",\"x\":[1.0,1.0,1.0,1.0,1.0,1.0,1.0,1.0,1.0,1.0,1.0,1.0,1.0,1.0,1.0,1.0,1.0,1.0,1.0,1.0,1.0,1.0,1.0,1.0,1.0,1.0,1.0,1.0,1.0,1.0,1.0,1.0,1.0,1.0,1.0,1.0,1.0,1.0,1.0,1.0,1.0,1.0,1.0,1.0,1.0,1.0,1.0,1.0,1.0,1.0,1.0,1.0,1.0,1.0,1.0,1.0,1.0,1.0,1.0,0.0,0.0,0.0,0.0,0.0,0.0,0.0,0.0,0.0,0.0,0.0,0.0,0.0,0.0,0.0,0.0,0.0,0.0,0.0,0.0,0.0,0.0,0.0,0.0,0.0,0.0,0.0,0.0,0.0,0.0,0.0,0.0,0.0,0.0,0.0,0.0,0.0,0.0,0.0,0.0,0.0,0.0,0.0,0.0,0.0,0.0,0.0,0.0,0.0,0.0,0.0,0.0,0.0,0.0,0.0,0.0,0.0,0.0,0.0,0.0,0.0,0.0,0.0,0.0,0.0,0.0,0.0,0.0,0.0,0.0,0.0,0.0,0.0,0.0,0.0,0.0,0.0,0.0,0.0,0.0,0.0,0.0,1.0,1.0,1.0,1.0,1.0,1.0,1.0,1.0,1.0,1.0,1.0,1.0,1.0,1.0,1.0,1.0,1.0,1.0,1.0,1.0,1.0,1.0,1.0,1.0,1.0,1.0,1.0,1.0,1.0,1.0,1.0,1.0,1.0,1.0,1.0,1.0,1.0,1.0,1.0,1.0,1.0,1.0,1.0,1.0,1.0,1.0,1.0,1.0,1.0,1.0,1.0,1.0,1.0,0.0,0.0,0.0,1.0,1.0,0.0,0.0,0.0,0.0,0.0,0.0,0.0,0.0,0.0,1.0,0.0,0.0,0.0,0.0,0.0,0.0,0.0,0.0,0.0,0.0,0.0,0.0,0.0,1.0,0.0,0.0,0.0,0.0,0.0,0.0,0.0,0.0,0.0,0.0,0.0,0.0,0.0,0.0,0.0,1.0,0.0,0.0,0.0,0.0,1.0,0.0,0.0,0.0,0.0,0.0,0.0,0.0,0.0,1.0,0.0,0.0,0.0,0.0,0.0,0.0,0.0,0.0,0.0,0.0,0.0,0.0,0.0,1.0,1.0,0.0,0.0,0.0,1.0,0.0,0.0,0.0,0.0,0.0,0.0,0.0,0.0,0.0,0.0,0.0,0.0,0.0,0.0,0.0,0.0,0.0,0.0,0.0,0.0,0.0,0.0,0.0,1.0,1.0,0.0,0.0,0.0,1.0,1.0,1.0,0.0,1.0,1.0,1.0,1.0,1.0,1.0,1.0,1.0,0.0,0.0,1.0,1.0,1.0,1.0,1.0,1.0,1.0,1.0,1.0,1.0,1.0,1.0,1.0,1.0,1.0,1.0,1.0,1.0,1.0,1.0,1.0,1.0,1.0,1.0,1.0,1.0,1.0,1.0,1.0,1.0,1.0,1.0,1.0,1.0,1.0,1.0,1.0,1.0,1.0,1.0,1.0,1.0,1.0,1.0,1.0,1.0,1.0,1.0,1.0,1.0,1.0,1.0,1.0,1.0,1.0,1.0,1.0,1.0,1.0,1.0,1.0,1.0,1.0,1.0,1.0,1.0,1.0,1.0,1.0,1.0,1.0,1.0,1.0,1.0,1.0,1.0,1.0,1.0,1.0,1.0,0.0,1.0,1.0,1.0,1.0,1.0,1.0,1.0,1.0,1.0,1.0,1.0,1.0,1.0,1.0,1.0,1.0,1.0,1.0,1.0,1.0,1.0,1.0,1.0,1.0,1.0,1.0,1.0,1.0,1.0,1.0,1.0,1.0,1.0,1.0,1.0,1.0,1.0,1.0,1.0,1.0,1.0,1.0,1.0,1.0,1.0,1.0,1.0,1.0,1.0,1.0,1.0,1.0,1.0,1.0,1.0,1.0,1.0,1.0,1.0,1.0,1.0,1.0,1.0,1.0,1.0,1.0,1.0,1.0,1.0,1.0,1.0,1.0,1.0,1.0,1.0,1.0,1.0,1.0,1.0,1.0,1.0,1.0,1.0,1.0,1.0,1.0,1.0,1.0,1.0,1.0,1.0,1.0,1.0,1.0,1.0,1.0,1.0,1.0,1.0,1.0,1.0,1.0,1.0,1.0,1.0,1.0,1.0,1.0,1.0,1.0,1.0,1.0,1.0,1.0,1.0,1.0,1.0,1.0,1.0,1.0,1.0,1.0,1.0,1.0,1.0,1.0,1.0,1.0,1.0,1.0,1.0,1.0,1.0,1.0,1.0,1.0,1.0,1.0,1.0,1.0,1.0,1.0,1.0,1.0,1.0,1.0,1.0,1.0,1.0,1.0,1.0,1.0,1.0,1.0,1.0,1.0,1.0,1.0,1.0,1.0,1.0,1.0,1.0,1.0,1.0,1.0,1.0,1.0,1.0,1.0,1.0,1.0,1.0,1.0,1.0,1.0,1.0,1.0,1.0,1.0,1.0,1.0,1.0,1.0,1.0,1.0,1.0,1.0,1.0,1.0,1.0,1.0,1.0,1.0,1.0,1.0,1.0,1.0,1.0,1.0,1.0,1.0,1.0,1.0,1.0,1.0,1.0,1.0,1.0,1.0,1.0,1.0,1.0,1.0,1.0,1.0,1.0,1.0,1.0,1.0,1.0,1.0,1.0,1.0,1.0,1.0,1.0,1.0,1.0,1.0,1.0,1.0,1.0,1.0,1.0,1.0,1.0,1.0,1.0,1.0,1.0,1.0,1.0,1.0,1.0,1.0,1.0,1.0,1.0,1.0,1.0,1.0,1.0,1.0,1.0,1.0,1.0,1.0,1.0,1.0,1.0,1.0,1.0,1.0,1.0,1.0,1.0,1.0,1.0,1.0,1.0,1.0,1.0,1.0,1.0,1.0,1.0,1.0,1.0,1.0,1.0,1.0,1.0,1.0,1.0,1.0,1.0,1.0,1.0,1.0,1.0,1.0,1.0,1.0,0.0,0.0,0.0,0.0,0.0,0.0,0.0,0.0,0.0,0.0,0.0,0.0,0.0,0.0,0.0,0.0,0.0,0.0,0.0,0.0,0.0,0.0,0.0,0.0,0.0,0.0,0.0,0.0,1.0,1.0,1.0,1.0,1.0,1.0,1.0,1.0,1.0,1.0,1.0,1.0,1.0,1.0,1.0,1.0,1.0,1.0,1.0,1.0,1.0,1.0,1.0,1.0,1.0,1.0,1.0,1.0,1.0,1.0,1.0,1.0,1.0,1.0,1.0,1.0,1.0,1.0,1.0,1.0,1.0,1.0,1.0,1.0,1.0,1.0,1.0,1.0,1.0,1.0,1.0,1.0,1.0,1.0,1.0,1.0,1.0,1.0,1.0,1.0,1.0,1.0,1.0,1.0,1.0,1.0,1.0,1.0,1.0,1.0,1.0,1.0,1.0,1.0,1.0,1.0,1.0,1.0,1.0,1.0,1.0,1.0,1.0,1.0,1.0,1.0,1.0,0.0,0.0,0.0,0.0,0.0,0.0,0.0,0.0,0.0,1.0,1.0,1.0,1.0,1.0,1.0,1.0,1.0,1.0,1.0,1.0,1.0,1.0,1.0,1.0,1.0,1.0,1.0,1.0,1.0,1.0,1.0,1.0,1.0,1.0,1.0,1.0,1.0,1.0,1.0,1.0,1.0,1.0,1.0,1.0,1.0,1.0,1.0,1.0,1.0,1.0,1.0,1.0,1.0,1.0,1.0,1.0,1.0,1.0,1.0,1.0,1.0,1.0,1.0,1.0,1.0,1.0,1.0,1.0,1.0,1.0,1.0,1.0,1.0,1.0,1.0,1.0,1.0,1.0,1.0,1.0,1.0,1.0,1.0,1.0,1.0,1.0,1.0,1.0,1.0,1.0,1.0,1.0,1.0,1.0,1.0,1.0,1.0,1.0,1.0,1.0,1.0,1.0,1.0,1.0,1.0,1.0,1.0,1.0,1.0,1.0,1.0,1.0,1.0,1.0,1.0,1.0,1.0,1.0,1.0,1.0,1.0,1.0,1.0,1.0,1.0,1.0,1.0,1.0,1.0,1.0,1.0,1.0,1.0,1.0,1.0,1.0,1.0,1.0,1.0,1.0,1.0,1.0,1.0,1.0,1.0,1.0,1.0,1.0,1.0,1.0,1.0,1.0,1.0,1.0,1.0,1.0,1.0,1.0,1.0,1.0,1.0,1.0,1.0,1.0,1.0,1.0,1.0,1.0,1.0,1.0,1.0,1.0,1.0,1.0,1.0,1.0,1.0,1.0,1.0,1.0,1.0,1.0,1.0,1.0,1.0,1.0,1.0,1.0,1.0,1.0,1.0,1.0,1.0,1.0,1.0,1.0,1.0,1.0,1.0,1.0,1.0,1.0,1.0,1.0,1.0,1.0,1.0,1.0,1.0,1.0,1.0,1.0,1.0,1.0,1.0,1.0,1.0,1.0,1.0,1.0,1.0,1.0,1.0,1.0,1.0,1.0,1.0,1.0,1.0,1.0,1.0,1.0,1.0,1.0,1.0,1.0,1.0,1.0,1.0,1.0,1.0,1.0,1.0,1.0,1.0,1.0,1.0,1.0,1.0,1.0,1.0,1.0,1.0,1.0,1.0,1.0,1.0,1.0,1.0,1.0,1.0,1.0,1.0,1.0,1.0,1.0,1.0,1.0,1.0,1.0,1.0,1.0,1.0,1.0,1.0,1.0,1.0,1.0,1.0,1.0,1.0,1.0,1.0,1.0,1.0,1.0,1.0,1.0,1.0,1.0,1.0,1.0,1.0,1.0,1.0,1.0,1.0,1.0,1.0,1.0,1.0,1.0,1.0,1.0,1.0,1.0,1.0,1.0,1.0,1.0,1.0,1.0,1.0,1.0,1.0,1.0,1.0,1.0,1.0,1.0,1.0,1.0,1.0,1.0,1.0,1.0,1.0,1.0,1.0,1.0,1.0,0.0,0.0,0.0,0.0,0.0,1.0,1.0,1.0,1.0,1.0,1.0,1.0,1.0,1.0,1.0,1.0,1.0,1.0,1.0,1.0,1.0,1.0,1.0,1.0,1.0,1.0,1.0,1.0,1.0,1.0,1.0,1.0,1.0,1.0,1.0,1.0,1.0,1.0,1.0,1.0,1.0,1.0,1.0,1.0,1.0,1.0,1.0,1.0,1.0,1.0,1.0,1.0,1.0,1.0,1.0,1.0,1.0,1.0,1.0,1.0,1.0,1.0,1.0,1.0,1.0,1.0,1.0,1.0,1.0,1.0,1.0,1.0,1.0,1.0,1.0,1.0,1.0,1.0,1.0,1.0,1.0,1.0,1.0,1.0,1.0,1.0,1.0,1.0,1.0,1.0,1.0,1.0,1.0,1.0,1.0,1.0,1.0,1.0,1.0,1.0,1.0,1.0,1.0,1.0,1.0,1.0,0.0,0.0,0.0,0.0,0.0,0.0,0.0,0.0,0.0,0.0,0.0,0.0,0.0,0.0,0.0,0.0,0.0,0.0,0.0,0.0,0.0,0.0,0.0,0.0,0.0,0.0,0.0,0.0,0.0,0.0,0.0,0.0,0.0,0.0,0.0,0.0,0.0,0.0,0.0,0.0,0.0,0.0,0.0,0.0,0.0,0.0,0.0,1.0,1.0,1.0,1.0,1.0,1.0,1.0,1.0,1.0,1.0,1.0,1.0,1.0,1.0,1.0,1.0,1.0,1.0,1.0,1.0,1.0,1.0,1.0,1.0,1.0,1.0,1.0,1.0,1.0,1.0,1.0,1.0,1.0,1.0,1.0,1.0,1.0,1.0,1.0,1.0,1.0,1.0,1.0,1.0,1.0,1.0,1.0,1.0,1.0,1.0,1.0,1.0,1.0,1.0,1.0,1.0,1.0,1.0,1.0,1.0,1.0,1.0,1.0,1.0,1.0,1.0,1.0,1.0,1.0,1.0,1.0,1.0,1.0,1.0,1.0,1.0,1.0,1.0,1.0,1.0,1.0,1.0,1.0,1.0,1.0,1.0,1.0,1.0,1.0,1.0,1.0,1.0,1.0,1.0,1.0,1.0,1.0,1.0,1.0,1.0,1.0,1.0,1.0,1.0,1.0,1.0,1.0,1.0,1.0,1.0,1.0,1.0,1.0,1.0,1.0,1.0,1.0,1.0,1.0,1.0,1.0,1.0,1.0,1.0,1.0,1.0,1.0,1.0,1.0,1.0,1.0,1.0,1.0,1.0,1.0,1.0,1.0,1.0,1.0,1.0,1.0,1.0,1.0,1.0,1.0,1.0,1.0,1.0,1.0,1.0,1.0,1.0,1.0,1.0,1.0,1.0,1.0,1.0,1.0,1.0,1.0,1.0,1.0,1.0,1.0,1.0,1.0,1.0,1.0,1.0,1.0,1.0,1.0,1.0,1.0,1.0,1.0,1.0,1.0,1.0,1.0,1.0,1.0,1.0,1.0,1.0,1.0,1.0,1.0,1.0,1.0,1.0,1.0,1.0,1.0,1.0,1.0,1.0,1.0,1.0,1.0,1.0,1.0,1.0,1.0,1.0,1.0,1.0,1.0,1.0,1.0,1.0,1.0,1.0,1.0,1.0,1.0,1.0,1.0,1.0,1.0,1.0,1.0,1.0,1.0,1.0,1.0,1.0,1.0,1.0,1.0,1.0,1.0,1.0,1.0,1.0,1.0,1.0,1.0,1.0,1.0,1.0,1.0,1.0,1.0,1.0,1.0,1.0,1.0,1.0,1.0,1.0,1.0,1.0,1.0,1.0,1.0,1.0,1.0,1.0,1.0,1.0,1.0,1.0,1.0,1.0,1.0,1.0,1.0,1.0,1.0,1.0,1.0,1.0,1.0,1.0,1.0,1.0,1.0,1.0,1.0,1.0,1.0,1.0,1.0,1.0,1.0,1.0,1.0,1.0,1.0,1.0,1.0,1.0,1.0,1.0,1.0,1.0,1.0,1.0,1.0,1.0,1.0,1.0,1.0,1.0,1.0,1.0,1.0,1.0,1.0,1.0,1.0,1.0,1.0,1.0,1.0,1.0,1.0,1.0,1.0,1.0,1.0,1.0,1.0,1.0,1.0,0.0,0.0,0.0,1.0,1.0,1.0,1.0,1.0,1.0,1.0,1.0,1.0,1.0,1.0,1.0,1.0,1.0,1.0,1.0,1.0,0.0,1.0,0.0,1.0,0.0,0.0,0.0,0.0,0.0,0.0,0.0,0.0,0.0,0.0,0.0,0.0,0.0,0.0,0.0,0.0,0.0,0.0,1.0,0.0,1.0,1.0,1.0,1.0,1.0,0.0,1.0,1.0,1.0,1.0,1.0,1.0,1.0,1.0,1.0,1.0,0.0,1.0,0.0,0.0,0.0,1.0,1.0,1.0,1.0,1.0,1.0,1.0,0.0,0.0,0.0,0.0,0.0,0.0,0.0,0.0,0.0,0.0,0.0,0.0,0.0,0.0,0.0,0.0,0.0,0.0,0.0,0.0,0.0,1.0,1.0,1.0,1.0,1.0,0.0,0.0,1.0,0.0,1.0,0.0,0.0,0.0,0.0,0.0,0.0,0.0,0.0,0.0,0.0,0.0,0.0,0.0,0.0,0.0,0.0,0.0,0.0,0.0,0.0,0.0,0.0,0.0,0.0,0.0,0.0,0.0,0.0,0.0,0.0,0.0,0.0,0.0,0.0,0.0,0.0,0.0,0.0,0.0,0.0,0.0,0.0,0.0,0.0,0.0,0.0,0.0,0.0,0.0,0.0,0.0,0.0,0.0,0.0,0.0,0.0,0.0,0.0,0.0,0.0,0.0,0.0,0.0,0.0,0.0,0.0,0.0,0.0,0.0,0.0,0.0,0.0,0.0,0.0,0.0,0.0,0.0,0.0,0.0,0.0,0.0,0.0,0.0,0.0,0.0,0.0,0.0,0.0,0.0,0.0,0.0,0.0,0.0,0.0,0.0,0.0,0.0,0.0,0.0,0.0,1.0,1.0,1.0,1.0,1.0,1.0,1.0,1.0,1.0,1.0,1.0,0.0,0.0,1.0,0.0,0.0,0.0,0.0,1.0,1.0,1.0,1.0,1.0,1.0,1.0,1.0,1.0,1.0,1.0,1.0,1.0,1.0,1.0,1.0,1.0,1.0,1.0,1.0,1.0,1.0,1.0,1.0,1.0,1.0,1.0,0.0,1.0,0.0,0.0,0.0,0.0,1.0,1.0,0.0,0.0,0.0,0.0,1.0,1.0,0.0,0.0,0.0,1.0,1.0,1.0,1.0,1.0,1.0,1.0,1.0,1.0,1.0,1.0,1.0,1.0,1.0,1.0,1.0,1.0,1.0,1.0,1.0,1.0,1.0,1.0,1.0,1.0,1.0,1.0,1.0,1.0,1.0,1.0,1.0,1.0,1.0,1.0,1.0,1.0,1.0,1.0,1.0,1.0,1.0,1.0,1.0,1.0,1.0,1.0,1.0,1.0,1.0,1.0,1.0,1.0,1.0,1.0,1.0,1.0,1.0,1.0,1.0,1.0,1.0,1.0,1.0,1.0,1.0,1.0,1.0,1.0,1.0,1.0,1.0,1.0,1.0,1.0,1.0,1.0,1.0,1.0,1.0,1.0,1.0,1.0,1.0,1.0,1.0,1.0,1.0,1.0,1.0,1.0,1.0,1.0,1.0,1.0,1.0,1.0,1.0,1.0,1.0,0.0,0.0,0.0,0.0,1.0,0.0,0.0,1.0,1.0,0.0,1.0,1.0,1.0,1.0,1.0,1.0,1.0,1.0,1.0,1.0,1.0,0.0,1.0,1.0,1.0,1.0,1.0,1.0,1.0,1.0,0.0,1.0,1.0,1.0,1.0,1.0,1.0,1.0,1.0,1.0,1.0,1.0,1.0,0.0,0.0,0.0,0.0,0.0,0.0,0.0,1.0,0.0,1.0,1.0,0.0,0.0,0.0,0.0,0.0,0.0,0.0,1.0,1.0,1.0,0.0],\"xaxis\":\"x\",\"y\":[\"Real\",\"Real\",\"Real\",\"Real\",\"Real\",\"Real\",\"Real\",\"Real\",\"Real\",\"Real\",\"Real\",\"Real\",\"Real\",\"Real\",\"Real\",\"Real\",\"Real\",\"Real\",\"Real\",\"Real\",\"Real\",\"Real\",\"Real\",\"Real\",\"Real\",\"Real\",\"Real\",\"Real\",\"Real\",\"Real\",\"Real\",\"Real\",\"Real\",\"Fake\",\"Fake\",\"Fake\",\"Fake\",\"Fake\",\"Fake\",\"Fake\",\"Fake\",\"Fake\",\"Fake\",\"Fake\",\"Fake\",\"Fake\",\"Fake\",\"Fake\",\"Fake\",\"Fake\",\"Fake\",\"Fake\",\"Fake\",\"Fake\",\"Fake\",\"Fake\",\"Fake\",\"Fake\",\"Fake\",\"Fake\",\"Fake\",\"Fake\",\"Fake\",\"Fake\",\"Fake\",\"Fake\",\"Fake\",\"Fake\",\"Fake\",\"Fake\",\"Fake\",\"Fake\",\"Fake\",\"Fake\",\"Fake\",\"Fake\",\"Fake\",\"Fake\",\"Fake\",\"Fake\",\"Fake\",\"Fake\",\"Fake\",\"Fake\",\"Fake\",\"Fake\",\"Fake\",\"Fake\",\"Fake\",\"Fake\",\"Fake\",\"Fake\",\"Fake\",\"Fake\",\"Fake\",\"Fake\",\"Fake\",\"Fake\",\"Fake\",\"Fake\",\"Fake\",\"Fake\",\"Fake\",\"Fake\",\"Fake\",\"Fake\",\"Fake\",\"Fake\",\"Fake\",\"Fake\",\"Fake\",\"Fake\",\"Fake\",\"Fake\",\"Fake\",\"Fake\",\"Fake\",\"Fake\",\"Fake\",\"Fake\",\"Fake\",\"Fake\",\"Fake\",\"Fake\",\"Fake\",\"Fake\",\"Fake\",\"Fake\",\"Fake\",\"Fake\",\"Fake\",\"Fake\",\"Fake\",\"Fake\",\"Fake\",\"Fake\",\"Fake\",\"Fake\",\"Fake\",\"Fake\",\"Fake\",\"Fake\",\"Fake\",\"Fake\",\"Fake\",\"Fake\",\"Fake\",\"Fake\",\"Fake\",\"Fake\",\"Fake\",\"Fake\",\"Fake\",\"Fake\",\"Fake\",\"Fake\",\"Fake\",\"Fake\",\"Fake\",\"Fake\",\"Fake\",\"Fake\",\"Fake\",\"Fake\",\"Fake\",\"Fake\",\"Fake\",\"Fake\",\"Fake\",\"Fake\",\"Fake\",\"Fake\",\"Fake\",\"Fake\",\"Fake\",\"Fake\",\"Fake\",\"Fake\",\"Fake\",\"Fake\",\"Fake\",\"Fake\",\"Fake\",\"Fake\",\"Fake\",\"Fake\",\"Fake\",\"Fake\",\"Fake\",\"Fake\",\"Fake\",\"Fake\",\"Fake\",\"Fake\",\"Fake\",\"Fake\",\"Fake\",\"Fake\",\"Fake\",\"Fake\",\"Fake\",\"Fake\",\"Fake\",\"Fake\",\"Fake\",\"Fake\",\"Fake\",\"Fake\",\"Fake\",\"Fake\",\"Fake\",\"Fake\",\"Fake\",\"Fake\",\"Fake\",\"Fake\",\"Fake\",\"Fake\",\"Fake\",\"Fake\",\"Fake\",\"Fake\",\"Fake\",\"Fake\",\"Fake\",\"Fake\",\"Fake\",\"Fake\",\"Fake\",\"Fake\",\"Fake\",\"Fake\",\"Fake\",\"Fake\",\"Fake\",\"Fake\",\"Fake\",\"Fake\",\"Fake\",\"Fake\",\"Fake\",\"Fake\",\"Fake\",\"Fake\",\"Fake\",\"Fake\",\"Fake\",\"Fake\",\"Fake\",\"Fake\",\"Fake\",\"Fake\",\"Fake\",\"Fake\",\"Fake\",\"Fake\",\"Fake\",\"Fake\",\"Fake\",\"Fake\",\"Fake\",\"Fake\",\"Fake\",\"Fake\",\"Fake\",\"Fake\",\"Fake\",\"Fake\",\"Fake\",\"Fake\",\"Fake\",\"Fake\",\"Fake\",\"Fake\",\"Fake\",\"Fake\",\"Fake\",\"Fake\",\"Fake\",\"Fake\",\"Fake\",\"Fake\",\"Fake\",\"Fake\",\"Fake\",\"Fake\",\"Fake\",\"Fake\",\"Fake\",\"Fake\",\"Fake\",\"Fake\",\"Fake\",\"Fake\",\"Real\",\"Real\",\"Real\",\"Real\",\"Real\",\"Real\",\"Real\",\"Real\",\"Real\",\"Real\",\"Real\",\"Real\",\"Real\",\"Real\",\"Real\",\"Real\",\"Real\",\"Real\",\"Real\",\"Real\",\"Fake\",\"Fake\",\"Fake\",\"Fake\",\"Fake\",\"Fake\",\"Fake\",\"Fake\",\"Fake\",\"Fake\",\"Fake\",\"Fake\",\"Fake\",\"Fake\",\"Fake\",\"Fake\",\"Fake\",\"Fake\",\"Fake\",\"Fake\",\"Fake\",\"Fake\",\"Fake\",\"Fake\",\"Fake\",\"Fake\",\"Fake\",\"Fake\",\"Fake\",\"Fake\",\"Fake\",\"Fake\",\"Fake\",\"Fake\",\"Fake\",\"Fake\",\"Fake\",\"Fake\",\"Fake\",\"Fake\",\"Fake\",\"Fake\",\"Fake\",\"Fake\",\"Fake\",\"Fake\",\"Fake\",\"Fake\",\"Fake\",\"Fake\",\"Fake\",\"Fake\",\"Fake\",\"Fake\",\"Fake\",\"Fake\",\"Fake\",\"Fake\",\"Fake\",\"Fake\",\"Fake\",\"Fake\",\"Fake\",\"Fake\",\"Fake\",\"Fake\",\"Fake\",\"Fake\",\"Fake\",\"Fake\",\"Fake\",\"Fake\",\"Fake\",\"Fake\",\"Fake\",\"Fake\",\"Fake\",\"Fake\",\"Fake\",\"Fake\",\"Fake\",\"Fake\",\"Fake\",\"Fake\",\"Fake\",\"Fake\",\"Fake\",\"Fake\",\"Fake\",\"Fake\",\"Fake\",\"Fake\",\"Fake\",\"Fake\",\"Fake\",\"Fake\",\"Fake\",\"Fake\",\"Fake\",\"Fake\",\"Fake\",\"Fake\",\"Fake\",\"Fake\",\"Fake\",\"Fake\",\"Fake\",\"Fake\",\"Fake\",\"Fake\",\"Fake\",\"Fake\",\"Fake\",\"Fake\",\"Fake\",\"Fake\",\"Fake\",\"Fake\",\"Fake\",\"Fake\",\"Fake\",\"Fake\",\"Fake\",\"Fake\",\"Fake\",\"Fake\",\"Fake\",\"Fake\",\"Fake\",\"Fake\",\"Fake\",\"Fake\",\"Fake\",\"Fake\",\"Fake\",\"Fake\",\"Fake\",\"Fake\",\"Fake\",\"Fake\",\"Fake\",\"Fake\",\"Fake\",\"Fake\",\"Fake\",\"Fake\",\"Fake\",\"Fake\",\"Fake\",\"Fake\",\"Fake\",\"Fake\",\"Fake\",\"Fake\",\"Fake\",\"Fake\",\"Fake\",\"Fake\",\"Fake\",\"Fake\",\"Fake\",\"Fake\",\"Fake\",\"Fake\",\"Fake\",\"Fake\",\"Fake\",\"Fake\",\"Fake\",\"Fake\",\"Fake\",\"Fake\",\"Fake\",\"Fake\",\"Fake\",\"Fake\",\"Fake\",\"Fake\",\"Fake\",\"Fake\",\"Fake\",\"Fake\",\"Fake\",\"Fake\",\"Fake\",\"Fake\",\"Fake\",\"Fake\",\"Fake\",\"Fake\",\"Fake\",\"Fake\",\"Fake\",\"Fake\",\"Fake\",\"Fake\",\"Fake\",\"Fake\",\"Fake\",\"Fake\",\"Fake\",\"Fake\",\"Fake\",\"Fake\",\"Fake\",\"Fake\",\"Fake\",\"Fake\",\"Fake\",\"Fake\",\"Fake\",\"Fake\",\"Fake\",\"Fake\",\"Fake\",\"Fake\",\"Fake\",\"Fake\",\"Fake\",\"Fake\",\"Fake\",\"Fake\",\"Fake\",\"Fake\",\"Fake\",\"Fake\",\"Fake\",\"Fake\",\"Fake\",\"Fake\",\"Fake\",\"Fake\",\"Fake\",\"Fake\",\"Fake\",\"Fake\",\"Fake\",\"Fake\",\"Fake\",\"Fake\",\"Fake\",\"Fake\",\"Fake\",\"Fake\",\"Fake\",\"Fake\",\"Fake\",\"Fake\",\"Fake\",\"Fake\",\"Fake\",\"Fake\",\"Fake\",\"Fake\",\"Fake\",\"Fake\",\"Fake\",\"Fake\",\"Fake\",\"Fake\",\"Fake\",\"Fake\",\"Fake\",\"Fake\",\"Fake\",\"Fake\",\"Fake\",\"Fake\",\"Fake\",\"Fake\",\"Fake\",\"Fake\",\"Fake\",\"Fake\",\"Fake\",\"Fake\",\"Fake\",\"Fake\",\"Fake\",\"Fake\",\"Fake\",\"Fake\",\"Fake\",\"Fake\",\"Fake\",\"Fake\",\"Fake\",\"Fake\",\"Fake\",\"Fake\",\"Fake\",\"Fake\",\"Fake\",\"Fake\",\"Fake\",\"Fake\",\"Fake\",\"Fake\",\"Fake\",\"Fake\",\"Fake\",\"Fake\",\"Fake\",\"Fake\",\"Fake\",\"Fake\",\"Fake\",\"Fake\",\"Fake\",\"Fake\",\"Fake\",\"Fake\",\"Fake\",\"Fake\",\"Fake\",\"Fake\",\"Fake\",\"Fake\",\"Fake\",\"Fake\",\"Fake\",\"Fake\",\"Fake\",\"Fake\",\"Fake\",\"Fake\",\"Fake\",\"Fake\",\"Fake\",\"Fake\",\"Fake\",\"Fake\",\"Fake\",\"Fake\",\"Fake\",\"Fake\",\"Fake\",\"Fake\",\"Fake\",\"Fake\",\"Fake\",\"Fake\",\"Fake\",\"Fake\",\"Fake\",\"Fake\",\"Fake\",\"Fake\",\"Fake\",\"Fake\",\"Fake\",\"Fake\",\"Fake\",\"Fake\",\"Fake\",\"Fake\",\"Fake\",\"Fake\",\"Fake\",\"Fake\",\"Fake\",\"Fake\",\"Fake\",\"Fake\",\"Fake\",\"Fake\",\"Fake\",\"Fake\",\"Fake\",\"Fake\",\"Fake\",\"Fake\",\"Fake\",\"Fake\",\"Fake\",\"Fake\",\"Fake\",\"Fake\",\"Fake\",\"Fake\",\"Fake\",\"Fake\",\"Fake\",\"Fake\",\"Fake\",\"Fake\",\"Fake\",\"Fake\",\"Fake\",\"Fake\",\"Fake\",\"Fake\",\"Fake\",\"Fake\",\"Fake\",\"Fake\",\"Fake\",\"Fake\",\"Fake\",\"Fake\",\"Fake\",\"Fake\",\"Fake\",\"Fake\",\"Fake\",\"Fake\",\"Fake\",\"Fake\",\"Fake\",\"Real\",\"Real\",\"Real\",\"Real\",\"Real\",\"Real\",\"Real\",\"Real\",\"Real\",\"Real\",\"Real\",\"Real\",\"Real\",\"Real\",\"Real\",\"Real\",\"Real\",\"Real\",\"Real\",\"Real\",\"Real\",\"Real\",\"Real\",\"Real\",\"Real\",\"Real\",\"Real\",\"Real\",\"Real\",\"Real\",\"Real\",\"Real\",\"Real\",\"Real\",\"Real\",\"Real\",\"Real\",\"Real\",\"Real\",\"Real\",\"Real\",\"Real\",\"Real\",\"Real\",\"Real\",\"Real\",\"Real\",\"Real\",\"Real\",\"Real\",\"Real\",\"Real\",\"Real\",\"Real\",\"Real\",\"Real\",\"Real\",\"Real\",\"Real\",\"Real\",\"Real\",\"Real\",\"Real\",\"Real\",\"Real\",\"Real\",\"Real\",\"Real\",\"Real\",\"Real\",\"Real\",\"Real\",\"Real\",\"Real\",\"Real\",\"Real\",\"Real\",\"Real\",\"Real\",\"Real\",\"Real\",\"Fake\",\"Fake\",\"Fake\",\"Fake\",\"Fake\",\"Fake\",\"Fake\",\"Fake\",\"Fake\",\"Real\",\"Real\",\"Real\",\"Real\",\"Real\",\"Real\",\"Real\",\"Real\",\"Real\",\"Real\",\"Real\",\"Real\",\"Real\",\"Real\",\"Real\",\"Real\",\"Real\",\"Real\",\"Real\",\"Real\",\"Real\",\"Real\",\"Real\",\"Real\",\"Real\",\"Real\",\"Real\",\"Real\",\"Real\",\"Real\",\"Real\",\"Real\",\"Real\",\"Real\",\"Real\",\"Real\",\"Real\",\"Real\",\"Real\",\"Real\",\"Real\",\"Real\",\"Real\",\"Real\",\"Fake\",\"Fake\",\"Fake\",\"Fake\",\"Fake\",\"Fake\",\"Fake\",\"Fake\",\"Fake\",\"Fake\",\"Fake\",\"Fake\",\"Fake\",\"Fake\",\"Fake\",\"Fake\",\"Fake\",\"Fake\",\"Fake\",\"Fake\",\"Fake\",\"Fake\",\"Fake\",\"Fake\",\"Fake\",\"Fake\",\"Fake\",\"Fake\",\"Fake\",\"Fake\",\"Fake\",\"Fake\",\"Fake\",\"Fake\",\"Fake\",\"Fake\",\"Fake\",\"Fake\",\"Fake\",\"Fake\",\"Fake\",\"Fake\",\"Fake\",\"Fake\",\"Fake\",\"Fake\",\"Fake\",\"Fake\",\"Fake\",\"Fake\",\"Fake\",\"Fake\",\"Fake\",\"Fake\",\"Fake\",\"Fake\",\"Fake\",\"Fake\",\"Fake\",\"Fake\",\"Fake\",\"Fake\",\"Fake\",\"Fake\",\"Fake\",\"Fake\",\"Fake\",\"Fake\",\"Fake\",\"Fake\",\"Fake\",\"Fake\",\"Fake\",\"Fake\",\"Fake\",\"Fake\",\"Fake\",\"Fake\",\"Fake\",\"Fake\",\"Fake\",\"Fake\",\"Fake\",\"Fake\",\"Fake\",\"Fake\",\"Fake\",\"Fake\",\"Fake\",\"Fake\",\"Fake\",\"Fake\",\"Fake\",\"Fake\",\"Fake\",\"Fake\",\"Fake\",\"Fake\",\"Fake\",\"Fake\",\"Fake\",\"Fake\",\"Fake\",\"Fake\",\"Fake\",\"Fake\",\"Fake\",\"Fake\",\"Fake\",\"Fake\",\"Fake\",\"Fake\",\"Fake\",\"Fake\",\"Fake\",\"Fake\",\"Fake\",\"Fake\",\"Fake\",\"Fake\",\"Fake\",\"Fake\",\"Fake\",\"Fake\",\"Fake\",\"Fake\",\"Fake\",\"Fake\",\"Fake\",\"Fake\",\"Fake\",\"Fake\",\"Fake\",\"Fake\",\"Fake\",\"Fake\",\"Fake\",\"Fake\",\"Fake\",\"Fake\",\"Fake\",\"Fake\",\"Fake\",\"Fake\",\"Fake\",\"Fake\",\"Fake\",\"Fake\",\"Fake\",\"Fake\",\"Fake\",\"Fake\",\"Fake\",\"Fake\",\"Fake\",\"Fake\",\"Fake\",\"Fake\",\"Fake\",\"Fake\",\"Fake\",\"Fake\",\"Fake\",\"Fake\",\"Fake\",\"Fake\",\"Fake\",\"Fake\",\"Fake\",\"Fake\",\"Fake\",\"Fake\",\"Fake\",\"Fake\",\"Fake\",\"Fake\",\"Fake\",\"Fake\",\"Real\",\"Real\",\"Real\",\"Real\",\"Real\",\"Real\",\"Real\",\"Real\",\"Real\",\"Real\",\"Real\",\"Real\",\"Real\",\"Real\",\"Real\",\"Real\",\"Real\",\"Real\",\"Real\",\"Real\",\"Real\",\"Real\",\"Real\",\"Real\",\"Real\",\"Real\",\"Real\",\"Real\",\"Real\",\"Real\",\"Real\",\"Real\",\"Real\",\"Real\",\"Real\",\"Real\",\"Real\",\"Real\",\"Real\",\"Real\",\"Real\",\"Real\",\"Real\",\"Real\",\"Real\",\"Real\",\"Real\",\"Real\",\"Real\",\"Real\",\"Real\",\"Real\",\"Real\",\"Real\",\"Real\",\"Real\",\"Real\",\"Real\",\"Real\",\"Real\",\"Real\",\"Real\",\"Real\",\"Real\",\"Real\",\"Real\",\"Real\",\"Real\",\"Real\",\"Real\",\"Real\",\"Real\",\"Real\",\"Real\",\"Real\",\"Real\",\"Real\",\"Real\",\"Real\",\"Real\",\"Real\",\"Real\",\"Real\",\"Real\",\"Real\",\"Real\",\"Real\",\"Real\",\"Real\",\"Real\",\"Real\",\"Real\",\"Real\",\"Real\",\"Real\",\"Real\",\"Real\",\"Real\",\"Real\",\"Real\",\"Fake\",\"Fake\",\"Fake\",\"Fake\",\"Fake\",\"Fake\",\"Fake\",\"Fake\",\"Fake\",\"Fake\",\"Fake\",\"Fake\",\"Fake\",\"Fake\",\"Fake\",\"Fake\",\"Fake\",\"Fake\",\"Fake\",\"Fake\",\"Fake\",\"Fake\",\"Fake\",\"Fake\",\"Fake\",\"Fake\",\"Fake\",\"Fake\",\"Fake\",\"Fake\",\"Fake\",\"Fake\",\"Fake\",\"Fake\",\"Fake\",\"Fake\",\"Fake\",\"Fake\",\"Fake\",\"Fake\",\"Fake\",\"Fake\",\"Fake\",\"Fake\",\"Fake\",\"Fake\",\"Fake\",\"Fake\",\"Fake\",\"Fake\",\"Fake\",\"Fake\",\"Fake\",\"Fake\",\"Fake\",\"Fake\",\"Fake\",\"Fake\",\"Fake\",\"Fake\",\"Fake\",\"Fake\",\"Fake\",\"Fake\",\"Fake\",\"Fake\",\"Fake\",\"Fake\",\"Fake\",\"Fake\",\"Fake\",\"Fake\",\"Fake\",\"Fake\",\"Fake\",\"Fake\",\"Fake\",\"Fake\",\"Fake\",\"Fake\",\"Fake\",\"Fake\",\"Fake\",\"Fake\",\"Fake\",\"Fake\",\"Fake\",\"Fake\",\"Fake\",\"Fake\",\"Fake\",\"Fake\",\"Fake\",\"Fake\",\"Fake\",\"Fake\",\"Fake\",\"Fake\",\"Fake\",\"Fake\",\"Fake\",\"Fake\",\"Fake\",\"Fake\",\"Fake\",\"Fake\",\"Fake\",\"Fake\",\"Fake\",\"Fake\",\"Fake\",\"Fake\",\"Fake\",\"Fake\",\"Fake\",\"Fake\",\"Fake\",\"Fake\",\"Fake\",\"Fake\",\"Fake\",\"Fake\",\"Fake\",\"Fake\",\"Fake\",\"Fake\",\"Fake\",\"Fake\",\"Fake\",\"Fake\",\"Fake\",\"Fake\",\"Fake\",\"Fake\",\"Fake\",\"Fake\",\"Fake\",\"Fake\",\"Fake\",\"Fake\",\"Fake\",\"Fake\",\"Fake\",\"Fake\",\"Fake\",\"Fake\",\"Fake\",\"Fake\",\"Fake\",\"Fake\",\"Fake\",\"Fake\",\"Fake\",\"Fake\",\"Fake\",\"Fake\",\"Fake\",\"Fake\",\"Fake\",\"Fake\",\"Fake\",\"Fake\",\"Fake\",\"Fake\",\"Fake\",\"Fake\",\"Fake\",\"Fake\",\"Fake\",\"Fake\",\"Fake\",\"Fake\",\"Fake\",\"Fake\",\"Fake\",\"Fake\",\"Fake\",\"Fake\",\"Fake\",\"Fake\",\"Fake\",\"Fake\",\"Fake\",\"Fake\",\"Fake\",\"Fake\",\"Fake\",\"Fake\",\"Fake\",\"Fake\",\"Fake\",\"Fake\",\"Fake\",\"Fake\",\"Fake\",\"Fake\",\"Fake\",\"Fake\",\"Fake\",\"Fake\",\"Fake\",\"Fake\",\"Fake\",\"Fake\",\"Fake\",\"Fake\",\"Fake\",\"Fake\",\"Fake\",\"Fake\",\"Fake\",\"Fake\",\"Fake\",\"Fake\",\"Fake\",\"Fake\",\"Fake\",\"Fake\",\"Fake\",\"Fake\",\"Fake\",\"Fake\",\"Fake\",\"Fake\",\"Fake\",\"Fake\",\"Fake\",\"Fake\",\"Fake\",\"Fake\",\"Fake\",\"Fake\",\"Fake\",\"Fake\",\"Fake\",\"Fake\",\"Fake\",\"Fake\",\"Fake\",\"Fake\",\"Fake\",\"Fake\",\"Fake\",\"Fake\",\"Fake\",\"Fake\",\"Fake\",\"Fake\",\"Fake\",\"Fake\",\"Fake\",\"Fake\",\"Fake\",\"Fake\",\"Fake\",\"Fake\",\"Fake\",\"Fake\",\"Fake\",\"Real\",\"Real\",\"Real\",\"Real\",\"Real\",\"Real\",\"Real\",\"Real\",\"Real\",\"Real\",\"Real\",\"Real\",\"Real\",\"Real\",\"Real\",\"Real\",\"Real\",\"Real\",\"Real\",\"Real\",\"Real\",\"Real\",\"Real\",\"Real\",\"Real\",\"Real\",\"Real\",\"Real\",\"Real\",\"Real\",\"Real\",\"Real\",\"Real\",\"Real\",\"Real\",\"Real\",\"Real\",\"Real\",\"Real\",\"Real\",\"Real\",\"Real\",\"Real\",\"Real\",\"Real\",\"Real\",\"Real\",\"Real\",\"Real\",\"Real\",\"Real\",\"Real\",\"Real\",\"Real\",\"Real\",\"Real\",\"Real\",\"Real\",\"Real\",\"Real\",\"Real\",\"Real\",\"Real\",\"Real\",\"Real\",\"Real\",\"Real\",\"Real\",\"Real\",\"Real\",\"Real\",\"Real\",\"Real\",\"Real\",\"Real\",\"Real\",\"Real\",\"Real\",\"Real\",\"Real\",\"Real\",\"Real\",\"Real\",\"Real\",\"Real\",\"Real\",\"Real\",\"Real\",\"Real\",\"Real\",\"Real\",\"Real\",\"Real\",\"Real\",\"Real\",\"Real\",\"Real\",\"Real\",\"Real\",\"Real\",\"Real\",\"Real\",\"Real\",\"Real\",\"Real\",\"Real\",\"Real\",\"Real\",\"Real\",\"Real\",\"Real\",\"Real\",\"Real\",\"Real\",\"Real\",\"Real\",\"Real\",\"Real\",\"Real\",\"Real\",\"Real\",\"Real\",\"Real\",\"Real\",\"Real\",\"Real\",\"Real\",\"Real\",\"Real\",\"Real\",\"Real\",\"Real\",\"Real\",\"Real\",\"Real\",\"Real\",\"Real\",\"Real\",\"Real\",\"Real\",\"Real\",\"Real\",\"Real\",\"Real\",\"Real\",\"Real\",\"Real\",\"Real\",\"Real\",\"Real\",\"Real\",\"Real\",\"Real\",\"Real\",\"Real\",\"Real\",\"Real\",\"Real\",\"Real\",\"Real\",\"Real\",\"Real\",\"Real\",\"Real\",\"Real\",\"Real\",\"Real\",\"Real\",\"Real\",\"Real\",\"Real\",\"Real\",\"Real\",\"Real\",\"Real\",\"Real\",\"Real\",\"Real\",\"Real\",\"Real\",\"Real\",\"Real\",\"Real\",\"Real\",\"Real\",\"Real\",\"Real\",\"Real\",\"Real\",\"Real\",\"Real\",\"Real\",\"Real\",\"Real\",\"Real\",\"Real\",\"Real\",\"Real\",\"Real\",\"Real\",\"Real\",\"Real\",\"Real\",\"Real\",\"Real\",\"Real\",\"Real\",\"Real\",\"Real\",\"Real\",\"Real\",\"Real\",\"Real\",\"Real\",\"Real\",\"Real\",\"Real\",\"Real\",\"Real\",\"Real\",\"Real\",\"Fake\",\"Fake\",\"Fake\",\"Fake\",\"Fake\",\"Fake\",\"Fake\",\"Fake\",\"Fake\",\"Fake\",\"Fake\",\"Fake\",\"Fake\",\"Fake\",\"Fake\",\"Fake\",\"Fake\",\"Fake\",\"Fake\",\"Fake\",\"Fake\",\"Fake\",\"Fake\",\"Fake\",\"Fake\",\"Fake\",\"Fake\",\"Fake\",\"Fake\",\"Fake\",\"Fake\",\"Fake\",\"Fake\",\"Fake\",\"Fake\",\"Fake\",\"Fake\",\"Fake\",\"Fake\",\"Fake\",\"Fake\",\"Fake\",\"Fake\",\"Fake\",\"Fake\",\"Fake\",\"Fake\",\"Fake\",\"Fake\",\"Fake\",\"Fake\",\"Fake\",\"Fake\",\"Fake\",\"Fake\",\"Fake\",\"Fake\",\"Fake\",\"Fake\",\"Fake\",\"Fake\",\"Fake\",\"Fake\",\"Fake\",\"Fake\",\"Fake\",\"Fake\",\"Fake\",\"Fake\",\"Fake\",\"Fake\",\"Fake\",\"Fake\",\"Fake\",\"Fake\",\"Fake\",\"Fake\",\"Fake\",\"Fake\",\"Fake\",\"Fake\",\"Fake\",\"Fake\",\"Fake\",\"Fake\",\"Fake\",\"Fake\",\"Fake\",\"Fake\",\"Fake\",\"Fake\",\"Fake\",\"Fake\",\"Fake\",\"Fake\",\"Fake\",\"Fake\",\"Fake\",\"Fake\",\"Fake\",\"Real\",\"Fake\",\"Real\",\"Real\",\"Real\",\"Real\",\"Real\",\"Real\",\"Real\",\"Real\",\"Real\",\"Real\",\"Real\",\"Real\",\"Real\",\"Real\",\"Real\",\"Real\",\"Real\",\"Real\",\"Real\",\"Real\",\"Real\",\"Real\",\"Real\",\"Real\",\"Real\",\"Real\",\"Real\",\"Real\",\"Real\",\"Real\",\"Real\",\"Real\",\"Real\",\"Real\",\"Real\",\"Real\",\"Real\",\"Real\",\"Real\",\"Real\",\"Real\",\"Real\",\"Real\",\"Real\",\"Real\",\"Real\",\"Real\",\"Real\",\"Real\",\"Real\",\"Real\",\"Real\",\"Real\",\"Real\",\"Real\",\"Real\",\"Real\",\"Real\",\"Real\",\"Real\",\"Real\",\"Real\",\"Real\",\"Real\",\"Real\",\"Real\",\"Real\",\"Real\",\"Real\",\"Real\",\"Real\",\"Real\",\"Real\",\"Real\",\"Real\",\"Real\",\"Real\",\"Real\",\"Real\",\"Real\",\"Real\",\"Real\",\"Real\",\"Real\",\"Real\",\"Real\",\"Real\",\"Real\",\"Real\",\"Real\",\"Real\",\"Real\",\"Real\",\"Real\",\"Real\",\"Real\",\"Real\",\"Real\",\"Real\",\"Real\",\"Real\",\"Fake\",\"Fake\",\"Fake\",\"Fake\",\"Fake\",\"Fake\",\"Fake\",\"Fake\",\"Fake\",\"Fake\",\"Fake\",\"Fake\",\"Fake\",\"Fake\",\"Fake\",\"Fake\",\"Fake\",\"Fake\",\"Fake\",\"Fake\",\"Fake\",\"Fake\",\"Fake\",\"Fake\",\"Fake\",\"Fake\",\"Fake\",\"Fake\",\"Fake\",\"Fake\",\"Fake\",\"Fake\",\"Fake\",\"Fake\",\"Fake\",\"Fake\",\"Fake\",\"Fake\",\"Fake\",\"Fake\",\"Fake\",\"Fake\",\"Fake\",\"Fake\",\"Fake\",\"Fake\",\"Fake\",\"Fake\",\"Fake\",\"Fake\",\"Fake\",\"Fake\",\"Fake\",\"Fake\",\"Fake\",\"Fake\",\"Fake\",\"Fake\",\"Fake\",\"Fake\",\"Fake\",\"Fake\",\"Real\",\"Real\",\"Real\",\"Real\",\"Real\",\"Real\",\"Real\",\"Real\",\"Real\",\"Real\",\"Real\",\"Real\",\"Real\",\"Real\",\"Real\",\"Real\",\"Real\",\"Real\",\"Real\",\"Real\",\"Real\",\"Real\",\"Real\",\"Real\",\"Real\",\"Real\",\"Real\",\"Real\",\"Real\",\"Real\",\"Real\",\"Real\",\"Real\",\"Real\",\"Real\",\"Real\",\"Real\",\"Real\",\"Real\",\"Real\",\"Real\",\"Real\",\"Real\",\"Real\",\"Real\",\"Real\",\"Real\",\"Real\",\"Real\",\"Real\",\"Real\",\"Real\",\"Real\",\"Real\",\"Real\",\"Real\",\"Real\",\"Real\",\"Real\",\"Real\",\"Real\",\"Real\",\"Real\",\"Real\",\"Real\",\"Real\",\"Real\",\"Real\",\"Real\",\"Real\",\"Real\",\"Real\",\"Real\",\"Real\",\"Real\",\"Real\",\"Real\",\"Real\",\"Real\",\"Real\",\"Real\",\"Real\",\"Real\",\"Real\",\"Real\",\"Real\",\"Real\",\"Real\",\"Real\",\"Real\",\"Real\",\"Real\",\"Real\",\"Real\",\"Real\",\"Real\",\"Real\",\"Real\",\"Real\",\"Real\",\"Fake\",\"Fake\",\"Fake\",\"Fake\",\"Fake\",\"Fake\",\"Fake\",\"Fake\",\"Fake\",\"Fake\",\"Fake\",\"Fake\",\"Real\",\"Real\",\"Real\",\"Real\",\"Real\",\"Real\",\"Real\",\"Real\",\"Real\",\"Real\",\"Real\",\"Real\",\"Real\",\"Real\",\"Real\",\"Real\",\"Real\",\"Real\",\"Real\",\"Real\",\"Real\",\"Real\",\"Real\",\"Real\",\"Real\",\"Real\",\"Real\",\"Real\",\"Real\",\"Real\",\"Real\",\"Real\",\"Real\",\"Real\",\"Real\",\"Real\",\"Real\",\"Real\",\"Real\",\"Real\",\"Real\",\"Real\",\"Real\",\"Real\",\"Real\",\"Real\",\"Real\",\"Real\",\"Real\",\"Real\",\"Real\",\"Real\",\"Real\"],\"yaxis\":\"y\",\"type\":\"bar\"}],                        {\"template\":{\"data\":{\"bar\":[{\"error_x\":{\"color\":\"#2a3f5f\"},\"error_y\":{\"color\":\"#2a3f5f\"},\"marker\":{\"line\":{\"color\":\"#E5ECF6\",\"width\":0.5},\"pattern\":{\"fillmode\":\"overlay\",\"size\":10,\"solidity\":0.2}},\"type\":\"bar\"}],\"barpolar\":[{\"marker\":{\"line\":{\"color\":\"#E5ECF6\",\"width\":0.5},\"pattern\":{\"fillmode\":\"overlay\",\"size\":10,\"solidity\":0.2}},\"type\":\"barpolar\"}],\"carpet\":[{\"aaxis\":{\"endlinecolor\":\"#2a3f5f\",\"gridcolor\":\"white\",\"linecolor\":\"white\",\"minorgridcolor\":\"white\",\"startlinecolor\":\"#2a3f5f\"},\"baxis\":{\"endlinecolor\":\"#2a3f5f\",\"gridcolor\":\"white\",\"linecolor\":\"white\",\"minorgridcolor\":\"white\",\"startlinecolor\":\"#2a3f5f\"},\"type\":\"carpet\"}],\"choropleth\":[{\"colorbar\":{\"outlinewidth\":0,\"ticks\":\"\"},\"type\":\"choropleth\"}],\"contour\":[{\"colorbar\":{\"outlinewidth\":0,\"ticks\":\"\"},\"colorscale\":[[0.0,\"#0d0887\"],[0.1111111111111111,\"#46039f\"],[0.2222222222222222,\"#7201a8\"],[0.3333333333333333,\"#9c179e\"],[0.4444444444444444,\"#bd3786\"],[0.5555555555555556,\"#d8576b\"],[0.6666666666666666,\"#ed7953\"],[0.7777777777777778,\"#fb9f3a\"],[0.8888888888888888,\"#fdca26\"],[1.0,\"#f0f921\"]],\"type\":\"contour\"}],\"contourcarpet\":[{\"colorbar\":{\"outlinewidth\":0,\"ticks\":\"\"},\"type\":\"contourcarpet\"}],\"heatmap\":[{\"colorbar\":{\"outlinewidth\":0,\"ticks\":\"\"},\"colorscale\":[[0.0,\"#0d0887\"],[0.1111111111111111,\"#46039f\"],[0.2222222222222222,\"#7201a8\"],[0.3333333333333333,\"#9c179e\"],[0.4444444444444444,\"#bd3786\"],[0.5555555555555556,\"#d8576b\"],[0.6666666666666666,\"#ed7953\"],[0.7777777777777778,\"#fb9f3a\"],[0.8888888888888888,\"#fdca26\"],[1.0,\"#f0f921\"]],\"type\":\"heatmap\"}],\"heatmapgl\":[{\"colorbar\":{\"outlinewidth\":0,\"ticks\":\"\"},\"colorscale\":[[0.0,\"#0d0887\"],[0.1111111111111111,\"#46039f\"],[0.2222222222222222,\"#7201a8\"],[0.3333333333333333,\"#9c179e\"],[0.4444444444444444,\"#bd3786\"],[0.5555555555555556,\"#d8576b\"],[0.6666666666666666,\"#ed7953\"],[0.7777777777777778,\"#fb9f3a\"],[0.8888888888888888,\"#fdca26\"],[1.0,\"#f0f921\"]],\"type\":\"heatmapgl\"}],\"histogram\":[{\"marker\":{\"pattern\":{\"fillmode\":\"overlay\",\"size\":10,\"solidity\":0.2}},\"type\":\"histogram\"}],\"histogram2d\":[{\"colorbar\":{\"outlinewidth\":0,\"ticks\":\"\"},\"colorscale\":[[0.0,\"#0d0887\"],[0.1111111111111111,\"#46039f\"],[0.2222222222222222,\"#7201a8\"],[0.3333333333333333,\"#9c179e\"],[0.4444444444444444,\"#bd3786\"],[0.5555555555555556,\"#d8576b\"],[0.6666666666666666,\"#ed7953\"],[0.7777777777777778,\"#fb9f3a\"],[0.8888888888888888,\"#fdca26\"],[1.0,\"#f0f921\"]],\"type\":\"histogram2d\"}],\"histogram2dcontour\":[{\"colorbar\":{\"outlinewidth\":0,\"ticks\":\"\"},\"colorscale\":[[0.0,\"#0d0887\"],[0.1111111111111111,\"#46039f\"],[0.2222222222222222,\"#7201a8\"],[0.3333333333333333,\"#9c179e\"],[0.4444444444444444,\"#bd3786\"],[0.5555555555555556,\"#d8576b\"],[0.6666666666666666,\"#ed7953\"],[0.7777777777777778,\"#fb9f3a\"],[0.8888888888888888,\"#fdca26\"],[1.0,\"#f0f921\"]],\"type\":\"histogram2dcontour\"}],\"mesh3d\":[{\"colorbar\":{\"outlinewidth\":0,\"ticks\":\"\"},\"type\":\"mesh3d\"}],\"parcoords\":[{\"line\":{\"colorbar\":{\"outlinewidth\":0,\"ticks\":\"\"}},\"type\":\"parcoords\"}],\"pie\":[{\"automargin\":true,\"type\":\"pie\"}],\"scatter\":[{\"marker\":{\"colorbar\":{\"outlinewidth\":0,\"ticks\":\"\"}},\"type\":\"scatter\"}],\"scatter3d\":[{\"line\":{\"colorbar\":{\"outlinewidth\":0,\"ticks\":\"\"}},\"marker\":{\"colorbar\":{\"outlinewidth\":0,\"ticks\":\"\"}},\"type\":\"scatter3d\"}],\"scattercarpet\":[{\"marker\":{\"colorbar\":{\"outlinewidth\":0,\"ticks\":\"\"}},\"type\":\"scattercarpet\"}],\"scattergeo\":[{\"marker\":{\"colorbar\":{\"outlinewidth\":0,\"ticks\":\"\"}},\"type\":\"scattergeo\"}],\"scattergl\":[{\"marker\":{\"colorbar\":{\"outlinewidth\":0,\"ticks\":\"\"}},\"type\":\"scattergl\"}],\"scattermapbox\":[{\"marker\":{\"colorbar\":{\"outlinewidth\":0,\"ticks\":\"\"}},\"type\":\"scattermapbox\"}],\"scatterpolar\":[{\"marker\":{\"colorbar\":{\"outlinewidth\":0,\"ticks\":\"\"}},\"type\":\"scatterpolar\"}],\"scatterpolargl\":[{\"marker\":{\"colorbar\":{\"outlinewidth\":0,\"ticks\":\"\"}},\"type\":\"scatterpolargl\"}],\"scatterternary\":[{\"marker\":{\"colorbar\":{\"outlinewidth\":0,\"ticks\":\"\"}},\"type\":\"scatterternary\"}],\"surface\":[{\"colorbar\":{\"outlinewidth\":0,\"ticks\":\"\"},\"colorscale\":[[0.0,\"#0d0887\"],[0.1111111111111111,\"#46039f\"],[0.2222222222222222,\"#7201a8\"],[0.3333333333333333,\"#9c179e\"],[0.4444444444444444,\"#bd3786\"],[0.5555555555555556,\"#d8576b\"],[0.6666666666666666,\"#ed7953\"],[0.7777777777777778,\"#fb9f3a\"],[0.8888888888888888,\"#fdca26\"],[1.0,\"#f0f921\"]],\"type\":\"surface\"}],\"table\":[{\"cells\":{\"fill\":{\"color\":\"#EBF0F8\"},\"line\":{\"color\":\"white\"}},\"header\":{\"fill\":{\"color\":\"#C8D4E3\"},\"line\":{\"color\":\"white\"}},\"type\":\"table\"}]},\"layout\":{\"annotationdefaults\":{\"arrowcolor\":\"#2a3f5f\",\"arrowhead\":0,\"arrowwidth\":1},\"autotypenumbers\":\"strict\",\"coloraxis\":{\"colorbar\":{\"outlinewidth\":0,\"ticks\":\"\"}},\"colorscale\":{\"diverging\":[[0,\"#8e0152\"],[0.1,\"#c51b7d\"],[0.2,\"#de77ae\"],[0.3,\"#f1b6da\"],[0.4,\"#fde0ef\"],[0.5,\"#f7f7f7\"],[0.6,\"#e6f5d0\"],[0.7,\"#b8e186\"],[0.8,\"#7fbc41\"],[0.9,\"#4d9221\"],[1,\"#276419\"]],\"sequential\":[[0.0,\"#0d0887\"],[0.1111111111111111,\"#46039f\"],[0.2222222222222222,\"#7201a8\"],[0.3333333333333333,\"#9c179e\"],[0.4444444444444444,\"#bd3786\"],[0.5555555555555556,\"#d8576b\"],[0.6666666666666666,\"#ed7953\"],[0.7777777777777778,\"#fb9f3a\"],[0.8888888888888888,\"#fdca26\"],[1.0,\"#f0f921\"]],\"sequentialminus\":[[0.0,\"#0d0887\"],[0.1111111111111111,\"#46039f\"],[0.2222222222222222,\"#7201a8\"],[0.3333333333333333,\"#9c179e\"],[0.4444444444444444,\"#bd3786\"],[0.5555555555555556,\"#d8576b\"],[0.6666666666666666,\"#ed7953\"],[0.7777777777777778,\"#fb9f3a\"],[0.8888888888888888,\"#fdca26\"],[1.0,\"#f0f921\"]]},\"colorway\":[\"#636efa\",\"#EF553B\",\"#00cc96\",\"#ab63fa\",\"#FFA15A\",\"#19d3f3\",\"#FF6692\",\"#B6E880\",\"#FF97FF\",\"#FECB52\"],\"font\":{\"color\":\"#2a3f5f\"},\"geo\":{\"bgcolor\":\"white\",\"lakecolor\":\"white\",\"landcolor\":\"#E5ECF6\",\"showlakes\":true,\"showland\":true,\"subunitcolor\":\"white\"},\"hoverlabel\":{\"align\":\"left\"},\"hovermode\":\"closest\",\"mapbox\":{\"style\":\"light\"},\"paper_bgcolor\":\"white\",\"plot_bgcolor\":\"#E5ECF6\",\"polar\":{\"angularaxis\":{\"gridcolor\":\"white\",\"linecolor\":\"white\",\"ticks\":\"\"},\"bgcolor\":\"#E5ECF6\",\"radialaxis\":{\"gridcolor\":\"white\",\"linecolor\":\"white\",\"ticks\":\"\"}},\"scene\":{\"xaxis\":{\"backgroundcolor\":\"#E5ECF6\",\"gridcolor\":\"white\",\"gridwidth\":2,\"linecolor\":\"white\",\"showbackground\":true,\"ticks\":\"\",\"zerolinecolor\":\"white\"},\"yaxis\":{\"backgroundcolor\":\"#E5ECF6\",\"gridcolor\":\"white\",\"gridwidth\":2,\"linecolor\":\"white\",\"showbackground\":true,\"ticks\":\"\",\"zerolinecolor\":\"white\"},\"zaxis\":{\"backgroundcolor\":\"#E5ECF6\",\"gridcolor\":\"white\",\"gridwidth\":2,\"linecolor\":\"white\",\"showbackground\":true,\"ticks\":\"\",\"zerolinecolor\":\"white\"}},\"shapedefaults\":{\"line\":{\"color\":\"#2a3f5f\"}},\"ternary\":{\"aaxis\":{\"gridcolor\":\"white\",\"linecolor\":\"white\",\"ticks\":\"\"},\"baxis\":{\"gridcolor\":\"white\",\"linecolor\":\"white\",\"ticks\":\"\"},\"bgcolor\":\"#E5ECF6\",\"caxis\":{\"gridcolor\":\"white\",\"linecolor\":\"white\",\"ticks\":\"\"}},\"title\":{\"x\":0.05},\"xaxis\":{\"automargin\":true,\"gridcolor\":\"white\",\"linecolor\":\"white\",\"ticks\":\"\",\"title\":{\"standoff\":15},\"zerolinecolor\":\"white\",\"zerolinewidth\":2},\"yaxis\":{\"automargin\":true,\"gridcolor\":\"white\",\"linecolor\":\"white\",\"ticks\":\"\",\"title\":{\"standoff\":15},\"zerolinecolor\":\"white\",\"zerolinewidth\":2}}},\"xaxis\":{\"anchor\":\"y\",\"domain\":[0.0,1.0],\"title\":{\"text\":\"hasImage\"}},\"yaxis\":{\"anchor\":\"x\",\"domain\":[0.0,1.0],\"title\":{\"text\":\"label\"}},\"legend\":{\"tracegroupgap\":0},\"title\":{\"text\":\"Articles including images vs Label\"},\"barmode\":\"relative\"},                        {\"responsive\": true}                    ).then(function(){\n",
              "                            \n",
              "var gd = document.getElementById('70aef13c-1ad5-4867-905a-7ceee3282fec');\n",
              "var x = new MutationObserver(function (mutations, observer) {{\n",
              "        var display = window.getComputedStyle(gd).display;\n",
              "        if (!display || display === 'none') {{\n",
              "            console.log([gd, 'removed!']);\n",
              "            Plotly.purge(gd);\n",
              "            observer.disconnect();\n",
              "        }}\n",
              "}});\n",
              "\n",
              "// Listen for the removal of the full notebook cells\n",
              "var notebookContainer = gd.closest('#notebook-container');\n",
              "if (notebookContainer) {{\n",
              "    x.observe(notebookContainer, {childList: true});\n",
              "}}\n",
              "\n",
              "// Listen for the clearing of the current output cell\n",
              "var outputEl = gd.closest('.output');\n",
              "if (outputEl) {{\n",
              "    x.observe(outputEl, {childList: true});\n",
              "}}\n",
              "\n",
              "                        })                };                });            </script>        </div>"
            ]
          },
          "metadata": {}
        }
      ]
    },
    {
      "cell_type": "code",
      "source": [
        "def convert(path):\n",
        "    return '<img src=\"'+ path + '\" width=\"80\">'"
      ],
      "metadata": {
        "id": "rEaBTeU2Rx5_"
      },
      "execution_count": 220,
      "outputs": []
    },
    {
      "cell_type": "code",
      "source": [
        "df_sources = df[['site_url','label','main_img_url']]\n",
        "df_r = df_sources.loc[df['label']== 'Real'].iloc[6:10,:]\n",
        "df_f = df_sources.loc[df['label']== 'Fake'].head(6)"
      ],
      "metadata": {
        "id": "Z5hLvve4Rx8t"
      },
      "execution_count": 221,
      "outputs": []
    },
    {
      "cell_type": "code",
      "source": [
        "HTML(df_r.to_html(escape=False,formatters=dict(main_img_url=convert)))"
      ],
      "metadata": {
        "id": "bqfe99u7Rx_L",
        "colab": {
          "base_uri": "https://localhost:8080/",
          "height": 325
        },
        "outputId": "451c32a4-0527-434e-a6c3-845d1015f717"
      },
      "execution_count": 222,
      "outputs": [
        {
          "output_type": "execute_result",
          "data": {
            "text/plain": [
              "<IPython.core.display.HTML object>"
            ],
            "text/html": [
              "<table border=\"1\" class=\"dataframe\">\n",
              "  <thead>\n",
              "    <tr style=\"text-align: right;\">\n",
              "      <th></th>\n",
              "      <th>site_url</th>\n",
              "      <th>label</th>\n",
              "      <th>main_img_url</th>\n",
              "    </tr>\n",
              "    <tr>\n",
              "      <th>author</th>\n",
              "      <th></th>\n",
              "      <th></th>\n",
              "      <th></th>\n",
              "    </tr>\n",
              "  </thead>\n",
              "  <tbody>\n",
              "    <tr>\n",
              "      <th>Fed Up</th>\n",
              "      <td>100percentfedup.com</td>\n",
              "      <td>Real</td>\n",
              "      <td><img src=\"http://100percentfedup.com/wp-content/uploads/2016/11/hillary-looking-down.jpg\" width=\"80\"></td>\n",
              "    </tr>\n",
              "    <tr>\n",
              "      <th>Fed Up</th>\n",
              "      <td>100percentfedup.com</td>\n",
              "      <td>Real</td>\n",
              "      <td><img src=\"http://100percentfedup.com/wp-content/uploads/2016/11/snipes-dem.jpg\" width=\"80\"></td>\n",
              "    </tr>\n",
              "    <tr>\n",
              "      <th>Fed Up</th>\n",
              "      <td>100percentfedup.com</td>\n",
              "      <td>Real</td>\n",
              "      <td><img src=\"http://100percentfedup.com/wp-content/uploads/2016/05/hillary-comey.jpg\" width=\"80\"></td>\n",
              "    </tr>\n",
              "    <tr>\n",
              "      <th>Fed Up</th>\n",
              "      <td>100percentfedup.com</td>\n",
              "      <td>Real</td>\n",
              "      <td><img src=\"http://100percentfedup.com/wp-content/uploads/2016/11/TRUCK-TORCHED-HILLARY.jpg\" width=\"80\"></td>\n",
              "    </tr>\n",
              "  </tbody>\n",
              "</table>"
            ]
          },
          "metadata": {},
          "execution_count": 222
        }
      ]
    },
    {
      "cell_type": "code",
      "source": [
        "HTML(df_f.to_html(escape=False,formatters=dict(main_img_url=convert)))"
      ],
      "metadata": {
        "id": "jTQ7MmSvRyBw",
        "colab": {
          "base_uri": "https://localhost:8080/",
          "height": 507
        },
        "outputId": "7be1b4ec-7526-424e-9536-314ab9edab48"
      },
      "execution_count": 223,
      "outputs": [
        {
          "output_type": "execute_result",
          "data": {
            "text/plain": [
              "<IPython.core.display.HTML object>"
            ],
            "text/html": [
              "<table border=\"1\" class=\"dataframe\">\n",
              "  <thead>\n",
              "    <tr style=\"text-align: right;\">\n",
              "      <th></th>\n",
              "      <th>site_url</th>\n",
              "      <th>label</th>\n",
              "      <th>main_img_url</th>\n",
              "    </tr>\n",
              "    <tr>\n",
              "      <th>author</th>\n",
              "      <th></th>\n",
              "      <th></th>\n",
              "      <th></th>\n",
              "    </tr>\n",
              "  </thead>\n",
              "  <tbody>\n",
              "    <tr>\n",
              "      <th>No Author</th>\n",
              "      <td>21stcenturywire.com</td>\n",
              "      <td>Fake</td>\n",
              "      <td><img src=\"http://21stcenturywire.com/wp-content/uploads/2016/10/1-Syria-No-Fly-Zone.png\" width=\"80\"></td>\n",
              "    </tr>\n",
              "    <tr>\n",
              "      <th>No Author</th>\n",
              "      <td>21stcenturywire.com</td>\n",
              "      <td>Fake</td>\n",
              "      <td><img src=\"http://21stcenturywire.com/wp-content/uploads/2016/10/1-FBI-Comey-Hillary-Clinton-e1477728962985.jpg\" width=\"80\"></td>\n",
              "    </tr>\n",
              "    <tr>\n",
              "      <th>Shawn Helton</th>\n",
              "      <td>21stcenturywire.com</td>\n",
              "      <td>Fake</td>\n",
              "      <td><img src=\"http://21stcenturywire.com/wp-content/uploads/2016/10/Clinton-New-FBI-Probe-21WIRE-SLIDER-New.jpg\" width=\"80\"></td>\n",
              "    </tr>\n",
              "    <tr>\n",
              "      <th>Mike Rivero</th>\n",
              "      <td>21stcenturywire.com</td>\n",
              "      <td>Fake</td>\n",
              "      <td><img src=\"http://i1.wp.com/21stcenturywire.com/wp-content/uploads/2016/10/DNC-SCANDAL-PART2-21WIRE-SLIDER-SH-1.jpg?fit=620%2C415\" width=\"80\"></td>\n",
              "    </tr>\n",
              "    <tr>\n",
              "      <th>No Author</th>\n",
              "      <td>21stcenturywire.com</td>\n",
              "      <td>Fake</td>\n",
              "      <td><img src=\"http://i0.wp.com/21stcenturywire.com/wp-content/uploads/2016/11/2-Clinton-Podesta-Email.jpg?fit=610%2C415\" width=\"80\"></td>\n",
              "    </tr>\n",
              "    <tr>\n",
              "      <th>Shawn Helton</th>\n",
              "      <td>21stcenturywire.com</td>\n",
              "      <td>Fake</td>\n",
              "      <td><img src=\"http://i2.wp.com/21stcenturywire.com/wp-content/uploads/2016/10/Clinton-Gold-21WIRE-SLIDER-SH.jpg?fit=620%2C415\" width=\"80\"></td>\n",
              "    </tr>\n",
              "  </tbody>\n",
              "</table>"
            ]
          },
          "metadata": {},
          "execution_count": 223
        }
      ]
    },
    {
      "cell_type": "code",
      "source": [
        "df['site_url'].unique()"
      ],
      "metadata": {
        "id": "dSD4rlHtRyEg",
        "colab": {
          "base_uri": "https://localhost:8080/"
        },
        "outputId": "02b423b1-a451-425b-9066-3a2f34f467fa"
      },
      "execution_count": 224,
      "outputs": [
        {
          "output_type": "execute_result",
          "data": {
            "text/plain": [
              "array(['100percentfedup.com', '21stcenturywire.com', 'abcnews.com.co',\n",
              "       'abeldanger.net', 'abovetopsecret.com', 'activistpost.com',\n",
              "       'addictinginfo.org', 'adobochronicles.com', 'ahtribune.com',\n",
              "       'allnewspipeline.com', 'americannews.com',\n",
              "       'americasfreedomfighters.com', 'amren.com', 'amtvmedia.com',\n",
              "       'awdnews.com', 'barenakedislam.com', 'clickhole.com',\n",
              "       'coasttocoastam.com', 'corbettreport.com', 'countercurrents.org',\n",
              "       'counterpunch.org', 'dailywire.com', 'darkmoon.me',\n",
              "       'davidduke.com', 'davidstockmanscontracorner.com',\n",
              "       'davidwolfe.com', 'dcclothesline.com', 'defenddemocracy.press',\n",
              "       'dennismichaellynch.com', 'departed.co', 'der-postillon.com',\n",
              "       'fromthetrenchesworldreport.com', 'frontpagemag.com',\n",
              "       'galacticconnection.com', 'globalresearch.ca', 'infowars.com',\n",
              "       'intrepidreport.com', 'legorafi.fr', 'madworldnews.com',\n",
              "       'naturalnews.com', 'newstarget.com', 'politicususa.com',\n",
              "       'presstv.com', 'presstv.ir', 'prisonplanet.com',\n",
              "       'projectveritas.com', 'proudemocrat.com', 'redstatewatcher.com',\n",
              "       'returnofkings.com', 'shiftfrequency.com', 'thedailysheeple.com',\n",
              "       'theeconomiccollapseblog.com', 'thefreethoughtproject.com',\n",
              "       'themindunleashed.com', 'theonion.com', 'thepeoplescube.com',\n",
              "       'therussophile.org', 'thesaker.is', 'thetruthseeker.co.uk',\n",
              "       'theunrealtimes.com', 'topinfopost.com', 'veteranstoday.com',\n",
              "       'voltairenet.org', 'washingtonsblog.com', 'westernjournalism.com',\n",
              "       'whatreallyhappened.com', 'whydontyoutrythis.com', 'wnd.com'],\n",
              "      dtype=object)"
            ]
          },
          "metadata": {},
          "execution_count": 224
        }
      ]
    },
    {
      "cell_type": "code",
      "source": [
        "type_label = {'Real': 0, 'Fake': 1}\n",
        "df_sources.label = [type_label[item] for item in df_sources.label] "
      ],
      "metadata": {
        "id": "MvQdQNNOTdj7"
      },
      "execution_count": 225,
      "outputs": []
    },
    {
      "cell_type": "code",
      "source": [
        "val_real=[]\n",
        "val_fake=[]\n",
        "\n",
        "for i,row in df_sources.iterrows():\n",
        "    val = row['site_url']\n",
        "    if row['label'] == 0:\n",
        "        val_real.append(val)\n",
        "    elif row['label']== 1:\n",
        "        val_fake.append(val)"
      ],
      "metadata": {
        "id": "b5Iv7uo2Tdm3"
      },
      "execution_count": 226,
      "outputs": []
    },
    {
      "cell_type": "markdown",
      "source": [
        "Websites publishing real news"
      ],
      "metadata": {
        "id": "jZ4XUkhLTnof"
      }
    },
    {
      "cell_type": "code",
      "source": [
        "uniqueValues_real = list(OrderedDict.fromkeys(val_real)) \n",
        "print(f\"{y_}Websites publishing real news:{g_}{uniqueValues_real}\\n\")"
      ],
      "metadata": {
        "id": "qriXRJFrTdpS",
        "colab": {
          "base_uri": "https://localhost:8080/"
        },
        "outputId": "e7335f9f-726b-4c1d-eeaa-149532a1a2ed"
      },
      "execution_count": 227,
      "outputs": [
        {
          "output_type": "stream",
          "name": "stdout",
          "text": [
            "\u001b[33mWebsites publishing real news:\u001b[32m['100percentfedup.com', 'addictinginfo.org', 'dailywire.com', 'davidduke.com', 'fromthetrenchesworldreport.com', 'frontpagemag.com', 'newstarget.com', 'politicususa.com', 'presstv.com', 'presstv.ir', 'prisonplanet.com', 'proudemocrat.com', 'redstatewatcher.com', 'returnofkings.com', 'washingtonsblog.com', 'westernjournalism.com', 'whydontyoutrythis.com', 'wnd.com']\n",
            "\n"
          ]
        }
      ]
    },
    {
      "cell_type": "markdown",
      "source": [
        "Websites publishing fake news"
      ],
      "metadata": {
        "id": "5ZCsKFhST5Qm"
      }
    },
    {
      "cell_type": "code",
      "source": [
        "uniqueValues_fake = list(OrderedDict.fromkeys(val_fake)) \n",
        "print(f\"{y_}Websites publishing fake news:{r_}{uniqueValues_fake}\\n\")"
      ],
      "metadata": {
        "id": "zqKCdre8TdxA",
        "colab": {
          "base_uri": "https://localhost:8080/"
        },
        "outputId": "26151357-1680-40dc-ebf5-71bc42e09b7e"
      },
      "execution_count": 228,
      "outputs": [
        {
          "output_type": "stream",
          "name": "stdout",
          "text": [
            "\u001b[33mWebsites publishing fake news:\u001b[31m['21stcenturywire.com', 'abcnews.com.co', 'abeldanger.net', 'abovetopsecret.com', 'activistpost.com', 'adobochronicles.com', 'ahtribune.com', 'allnewspipeline.com', 'americannews.com', 'americasfreedomfighters.com', 'amren.com', 'amtvmedia.com', 'awdnews.com', 'barenakedislam.com', 'clickhole.com', 'coasttocoastam.com', 'corbettreport.com', 'countercurrents.org', 'counterpunch.org', 'darkmoon.me', 'davidduke.com', 'davidstockmanscontracorner.com', 'davidwolfe.com', 'dcclothesline.com', 'defenddemocracy.press', 'dennismichaellynch.com', 'departed.co', 'der-postillon.com', 'fromthetrenchesworldreport.com', 'frontpagemag.com', 'galacticconnection.com', 'globalresearch.ca', 'infowars.com', 'intrepidreport.com', 'legorafi.fr', 'madworldnews.com', 'naturalnews.com', 'newstarget.com', 'presstv.ir', 'prisonplanet.com', 'projectveritas.com', 'returnofkings.com', 'shiftfrequency.com', 'thedailysheeple.com', 'theeconomiccollapseblog.com', 'thefreethoughtproject.com', 'themindunleashed.com', 'theonion.com', 'thepeoplescube.com', 'therussophile.org', 'thesaker.is', 'thetruthseeker.co.uk', 'theunrealtimes.com', 'topinfopost.com', 'veteranstoday.com', 'voltairenet.org', 'washingtonsblog.com', 'westernjournalism.com', 'whatreallyhappened.com']\n",
            "\n"
          ]
        }
      ]
    },
    {
      "cell_type": "markdown",
      "source": [
        "Websites publishing both real and fake news"
      ],
      "metadata": {
        "id": "55gqAeTzUIbh"
      }
    },
    {
      "cell_type": "code",
      "source": [
        "real_set = set(uniqueValues_real) \n",
        "fake_set = set(uniqueValues_fake) \n",
        "\n",
        "print(f\"{y_}Websites publishing both real and fake news:{m_}{real_set & fake_set}\\n\")"
      ],
      "metadata": {
        "id": "YsrJsvK5Td1a",
        "colab": {
          "base_uri": "https://localhost:8080/"
        },
        "outputId": "ca25f1a3-d81b-4e4b-f551-4e8af492f2ce"
      },
      "execution_count": 229,
      "outputs": [
        {
          "output_type": "stream",
          "name": "stdout",
          "text": [
            "\u001b[33mWebsites publishing both real and fake news:\u001b[35m{'prisonplanet.com', 'fromthetrenchesworldreport.com', 'returnofkings.com', 'presstv.ir', 'davidduke.com', 'westernjournalism.com', 'washingtonsblog.com', 'newstarget.com', 'frontpagemag.com'}\n",
            "\n"
          ]
        }
      ]
    },
    {
      "cell_type": "code",
      "source": [
        "type1 = {'bias': 0, 'conspiracy': 1,'fake': 2,'bs': 3,'satire': 4, 'hate': 5,'junksci': 6, 'state': 7}\n",
        "df.type = [type1[item] for item in df.type] "
      ],
      "metadata": {
        "id": "bZ7DF6dCTd5C"
      },
      "execution_count": 230,
      "outputs": []
    },
    {
      "cell_type": "code",
      "source": [
        "def plot_bar(df, feat_x, feat_y, normalize=True):\n",
        "    \"\"\" Plot with vertical bars of the requested dataframe and features\"\"\"\n",
        "    \n",
        "    ct = pd.crosstab(df[feat_x], df[feat_y])\n",
        "    if normalize == True:\n",
        "        ct = ct.div(ct.sum(axis=1), axis=0)\n",
        "    return ct.plot(kind='bar', stacked=True)"
      ],
      "metadata": {
        "id": "deXJVVUbTd7w"
      },
      "execution_count": 231,
      "outputs": []
    },
    {
      "cell_type": "markdown",
      "source": [
        "Label vs Type"
      ],
      "metadata": {
        "id": "B-SWWUQqUSg2"
      }
    },
    {
      "cell_type": "code",
      "source": [
        "plot_bar(df,'type' , 'label')\n",
        "plt.show()"
      ],
      "metadata": {
        "id": "fa7-E-pZUOLA",
        "colab": {
          "base_uri": "https://localhost:8080/",
          "height": 276
        },
        "outputId": "de0d9a94-333f-465e-b716-ac52ac3660dd"
      },
      "execution_count": 232,
      "outputs": [
        {
          "output_type": "display_data",
          "data": {
            "text/plain": [
              "<Figure size 432x288 with 1 Axes>"
            ],
            "image/png": "[encoded data removed]"
          },
          "metadata": {
            "needs_background": "light"
          }
        }
      ]
    },
    {
      "cell_type": "code",
      "source": [
        "fig = px.sunburst(df, path=['label', 'type'])\n",
        "fig.show()"
      ],
      "metadata": {
        "id": "xKD3y2wjUON5",
        "colab": {
          "base_uri": "https://localhost:8080/",
          "height": 542
        },
        "outputId": "763b7e1d-edf1-4dcf-836c-789ad8410bc3"
      },
      "execution_count": 233,
      "outputs": [
        {
          "output_type": "display_data",
          "data": {
            "application/vnd.plotly.v1+json": {
              "data": [
                {
                  "branchvalues": "total",
                  "domain": {
                    "x": [
                      0,
                      1
                    ],
                    "y": [
                      0,
                      1
                    ]
                  },
                  "hovertemplate": "labels=%{label}<br>count=%{value}<br>parent=%{parent}<br>id=%{id}<extra></extra>",
                  "ids": [
                    "Real/0",
                    "Fake/1",
                    "Fake/2",
                    "Fake/3",
                    "Fake/4",
                    "Real/5",
                    "Fake/6",
                    "Real/7",
                    "Fake",
                    "Real"
                  ],
                  "labels": [
                    "0",
                    "1",
                    "2",
                    "3",
                    "4",
                    "5",
                    "6",
                    "7",
                    "Fake",
                    "Real"
                  ],
                  "name": "",
                  "parents": [
                    "Real",
                    "Fake",
                    "Fake",
                    "Fake",
                    "Fake",
                    "Real",
                    "Fake",
                    "Real",
                    "",
                    ""
                  ],
                  "values": [
                    389,
                    430,
                    15,
                    598,
                    146,
                    244,
                    102,
                    121,
                    1291,
                    754
                  ],
                  "type": "sunburst"
                }
              ],
              "layout": {
                "template": {
                  "data": {
                    "bar": [
                      {
                        "error_x": {
                          "color": "#2a3f5f"
                        },
                        "error_y": {
                          "color": "#2a3f5f"
                        },
                        "marker": {
                          "line": {
                            "color": "#E5ECF6",
                            "width": 0.5
                          },
                          "pattern": {
                            "fillmode": "overlay",
                            "size": 10,
                            "solidity": 0.2
                          }
                        },
                        "type": "bar"
                      }
                    ],
                    "barpolar": [
                      {
                        "marker": {
                          "line": {
                            "color": "#E5ECF6",
                            "width": 0.5
                          },
                          "pattern": {
                            "fillmode": "overlay",
                            "size": 10,
                            "solidity": 0.2
                          }
                        },
                        "type": "barpolar"
                      }
                    ],
                    "carpet": [
                      {
                        "aaxis": {
                          "endlinecolor": "#2a3f5f",
                          "gridcolor": "white",
                          "linecolor": "white",
                          "minorgridcolor": "white",
                          "startlinecolor": "#2a3f5f"
                        },
                        "baxis": {
                          "endlinecolor": "#2a3f5f",
                          "gridcolor": "white",
                          "linecolor": "white",
                          "minorgridcolor": "white",
                          "startlinecolor": "#2a3f5f"
                        },
                        "type": "carpet"
                      }
                    ],
                    "choropleth": [
                      {
                        "colorbar": {
                          "outlinewidth": 0,
                          "ticks": ""
                        },
                        "type": "choropleth"
                      }
                    ],
                    "contour": [
                      {
                        "colorbar": {
                          "outlinewidth": 0,
                          "ticks": ""
                        },
                        "colorscale": [
                          [
                            0,
                            "#0d0887"
                          ],
                          [
                            0.1111111111111111,
                            "#46039f"
                          ],
                          [
                            0.2222222222222222,
                            "#7201a8"
                          ],
                          [
                            0.3333333333333333,
                            "#9c179e"
                          ],
                          [
                            0.4444444444444444,
                            "#bd3786"
                          ],
                          [
                            0.5555555555555556,
                            "#d8576b"
                          ],
                          [
                            0.6666666666666666,
                            "#ed7953"
                          ],
                          [
                            0.7777777777777778,
                            "#fb9f3a"
                          ],
                          [
                            0.8888888888888888,
                            "#fdca26"
                          ],
                          [
                            1,
                            "#f0f921"
                          ]
                        ],
                        "type": "contour"
                      }
                    ],
                    "contourcarpet": [
                      {
                        "colorbar": {
                          "outlinewidth": 0,
                          "ticks": ""
                        },
                        "type": "contourcarpet"
                      }
                    ],
                    "heatmap": [
                      {
                        "colorbar": {
                          "outlinewidth": 0,
                          "ticks": ""
                        },
                        "colorscale": [
                          [
                            0,
                            "#0d0887"
                          ],
                          [
                            0.1111111111111111,
                            "#46039f"
                          ],
                          [
                            0.2222222222222222,
                            "#7201a8"
                          ],
                          [
                            0.3333333333333333,
                            "#9c179e"
                          ],
                          [
                            0.4444444444444444,
                            "#bd3786"
                          ],
                          [
                            0.5555555555555556,
                            "#d8576b"
                          ],
                          [
                            0.6666666666666666,
                            "#ed7953"
                          ],
                          [
                            0.7777777777777778,
                            "#fb9f3a"
                          ],
                          [
                            0.8888888888888888,
                            "#fdca26"
                          ],
                          [
                            1,
                            "#f0f921"
                          ]
                        ],
                        "type": "heatmap"
                      }
                    ],
                    "heatmapgl": [
                      {
                        "colorbar": {
                          "outlinewidth": 0,
                          "ticks": ""
                        },
                        "colorscale": [
                          [
                            0,
                            "#0d0887"
                          ],
                          [
                            0.1111111111111111,
                            "#46039f"
                          ],
                          [
                            0.2222222222222222,
                            "#7201a8"
                          ],
                          [
                            0.3333333333333333,
                            "#9c179e"
                          ],
                          [
                            0.4444444444444444,
                            "#bd3786"
                          ],
                          [
                            0.5555555555555556,
                            "#d8576b"
                          ],
                          [
                            0.6666666666666666,
                            "#ed7953"
                          ],
                          [
                            0.7777777777777778,
                            "#fb9f3a"
                          ],
                          [
                            0.8888888888888888,
                            "#fdca26"
                          ],
                          [
                            1,
                            "#f0f921"
                          ]
                        ],
                        "type": "heatmapgl"
                      }
                    ],
                    "histogram": [
                      {
                        "marker": {
                          "pattern": {
                            "fillmode": "overlay",
                            "size": 10,
                            "solidity": 0.2
                          }
                        },
                        "type": "histogram"
                      }
                    ],
                    "histogram2d": [
                      {
                        "colorbar": {
                          "outlinewidth": 0,
                          "ticks": ""
                        },
                        "colorscale": [
                          [
                            0,
                            "#0d0887"
                          ],
                          [
                            0.1111111111111111,
                            "#46039f"
                          ],
                          [
                            0.2222222222222222,
                            "#7201a8"
                          ],
                          [
                            0.3333333333333333,
                            "#9c179e"
                          ],
                          [
                            0.4444444444444444,
                            "#bd3786"
                          ],
                          [
                            0.5555555555555556,
                            "#d8576b"
                          ],
                          [
                            0.6666666666666666,
                            "#ed7953"
                          ],
                          [
                            0.7777777777777778,
                            "#fb9f3a"
                          ],
                          [
                            0.8888888888888888,
                            "#fdca26"
                          ],
                          [
                            1,
                            "#f0f921"
                          ]
                        ],
                        "type": "histogram2d"
                      }
                    ],
                    "histogram2dcontour": [
                      {
                        "colorbar": {
                          "outlinewidth": 0,
                          "ticks": ""
                        },
                        "colorscale": [
                          [
                            0,
                            "#0d0887"
                          ],
                          [
                            0.1111111111111111,
                            "#46039f"
                          ],
                          [
                            0.2222222222222222,
                            "#7201a8"
                          ],
                          [
                            0.3333333333333333,
                            "#9c179e"
                          ],
                          [
                            0.4444444444444444,
                            "#bd3786"
                          ],
                          [
                            0.5555555555555556,
                            "#d8576b"
                          ],
                          [
                            0.6666666666666666,
                            "#ed7953"
                          ],
                          [
                            0.7777777777777778,
                            "#fb9f3a"
                          ],
                          [
                            0.8888888888888888,
                            "#fdca26"
                          ],
                          [
                            1,
                            "#f0f921"
                          ]
                        ],
                        "type": "histogram2dcontour"
                      }
                    ],
                    "mesh3d": [
                      {
                        "colorbar": {
                          "outlinewidth": 0,
                          "ticks": ""
                        },
                        "type": "mesh3d"
                      }
                    ],
                    "parcoords": [
                      {
                        "line": {
                          "colorbar": {
                            "outlinewidth": 0,
                            "ticks": ""
                          }
                        },
                        "type": "parcoords"
                      }
                    ],
                    "pie": [
                      {
                        "automargin": true,
                        "type": "pie"
                      }
                    ],
                    "scatter": [
                      {
                        "marker": {
                          "colorbar": {
                            "outlinewidth": 0,
                            "ticks": ""
                          }
                        },
                        "type": "scatter"
                      }
                    ],
                    "scatter3d": [
                      {
                        "line": {
                          "colorbar": {
                            "outlinewidth": 0,
                            "ticks": ""
                          }
                        },
                        "marker": {
                          "colorbar": {
                            "outlinewidth": 0,
                            "ticks": ""
                          }
                        },
                        "type": "scatter3d"
                      }
                    ],
                    "scattercarpet": [
                      {
                        "marker": {
                          "colorbar": {
                            "outlinewidth": 0,
                            "ticks": ""
                          }
                        },
                        "type": "scattercarpet"
                      }
                    ],
                    "scattergeo": [
                      {
                        "marker": {
                          "colorbar": {
                            "outlinewidth": 0,
                            "ticks": ""
                          }
                        },
                        "type": "scattergeo"
                      }
                    ],
                    "scattergl": [
                      {
                        "marker": {
                          "colorbar": {
                            "outlinewidth": 0,
                            "ticks": ""
                          }
                        },
                        "type": "scattergl"
                      }
                    ],
                    "scattermapbox": [
                      {
                        "marker": {
                          "colorbar": {
                            "outlinewidth": 0,
                            "ticks": ""
                          }
                        },
                        "type": "scattermapbox"
                      }
                    ],
                    "scatterpolar": [
                      {
                        "marker": {
                          "colorbar": {
                            "outlinewidth": 0,
                            "ticks": ""
                          }
                        },
                        "type": "scatterpolar"
                      }
                    ],
                    "scatterpolargl": [
                      {
                        "marker": {
                          "colorbar": {
                            "outlinewidth": 0,
                            "ticks": ""
                          }
                        },
                        "type": "scatterpolargl"
                      }
                    ],
                    "scatterternary": [
                      {
                        "marker": {
                          "colorbar": {
                            "outlinewidth": 0,
                            "ticks": ""
                          }
                        },
                        "type": "scatterternary"
                      }
                    ],
                    "surface": [
                      {
                        "colorbar": {
                          "outlinewidth": 0,
                          "ticks": ""
                        },
                        "colorscale": [
                          [
                            0,
                            "#0d0887"
                          ],
                          [
                            0.1111111111111111,
                            "#46039f"
                          ],
                          [
                            0.2222222222222222,
                            "#7201a8"
                          ],
                          [
                            0.3333333333333333,
                            "#9c179e"
                          ],
                          [
                            0.4444444444444444,
                            "#bd3786"
                          ],
                          [
                            0.5555555555555556,
                            "#d8576b"
                          ],
                          [
                            0.6666666666666666,
                            "#ed7953"
                          ],
                          [
                            0.7777777777777778,
                            "#fb9f3a"
                          ],
                          [
                            0.8888888888888888,
                            "#fdca26"
                          ],
                          [
                            1,
                            "#f0f921"
                          ]
                        ],
                        "type": "surface"
                      }
                    ],
                    "table": [
                      {
                        "cells": {
                          "fill": {
                            "color": "#EBF0F8"
                          },
                          "line": {
                            "color": "white"
                          }
                        },
                        "header": {
                          "fill": {
                            "color": "#C8D4E3"
                          },
                          "line": {
                            "color": "white"
                          }
                        },
                        "type": "table"
                      }
                    ]
                  },
                  "layout": {
                    "annotationdefaults": {
                      "arrowcolor": "#2a3f5f",
                      "arrowhead": 0,
                      "arrowwidth": 1
                    },
                    "autotypenumbers": "strict",
                    "coloraxis": {
                      "colorbar": {
                        "outlinewidth": 0,
                        "ticks": ""
                      }
                    },
                    "colorscale": {
                      "diverging": [
                        [
                          0,
                          "#8e0152"
                        ],
                        [
                          0.1,
                          "#c51b7d"
                        ],
                        [
                          0.2,
                          "#de77ae"
                        ],
                        [
                          0.3,
                          "#f1b6da"
                        ],
                        [
                          0.4,
                          "#fde0ef"
                        ],
                        [
                          0.5,
                          "#f7f7f7"
                        ],
                        [
                          0.6,
                          "#e6f5d0"
                        ],
                        [
                          0.7,
                          "#b8e186"
                        ],
                        [
                          0.8,
                          "#7fbc41"
                        ],
                        [
                          0.9,
                          "#4d9221"
                        ],
                        [
                          1,
                          "#276419"
                        ]
                      ],
                      "sequential": [
                        [
                          0,
                          "#0d0887"
                        ],
                        [
                          0.1111111111111111,
                          "#46039f"
                        ],
                        [
                          0.2222222222222222,
                          "#7201a8"
                        ],
                        [
                          0.3333333333333333,
                          "#9c179e"
                        ],
                        [
                          0.4444444444444444,
                          "#bd3786"
                        ],
                        [
                          0.5555555555555556,
                          "#d8576b"
                        ],
                        [
                          0.6666666666666666,
                          "#ed7953"
                        ],
                        [
                          0.7777777777777778,
                          "#fb9f3a"
                        ],
                        [
                          0.8888888888888888,
                          "#fdca26"
                        ],
                        [
                          1,
                          "#f0f921"
                        ]
                      ],
                      "sequentialminus": [
                        [
                          0,
                          "#0d0887"
                        ],
                        [
                          0.1111111111111111,
                          "#46039f"
                        ],
                        [
                          0.2222222222222222,
                          "#7201a8"
                        ],
                        [
                          0.3333333333333333,
                          "#9c179e"
                        ],
                        [
                          0.4444444444444444,
                          "#bd3786"
                        ],
                        [
                          0.5555555555555556,
                          "#d8576b"
                        ],
                        [
                          0.6666666666666666,
                          "#ed7953"
                        ],
                        [
                          0.7777777777777778,
                          "#fb9f3a"
                        ],
                        [
                          0.8888888888888888,
                          "#fdca26"
                        ],
                        [
                          1,
                          "#f0f921"
                        ]
                      ]
                    },
                    "colorway": [
                      "#636efa",
                      "#EF553B",
                      "#00cc96",
                      "#ab63fa",
                      "#FFA15A",
                      "#19d3f3",
                      "#FF6692",
                      "#B6E880",
                      "#FF97FF",
                      "#FECB52"
                    ],
                    "font": {
                      "color": "#2a3f5f"
                    },
                    "geo": {
                      "bgcolor": "white",
                      "lakecolor": "white",
                      "landcolor": "#E5ECF6",
                      "showlakes": true,
                      "showland": true,
                      "subunitcolor": "white"
                    },
                    "hoverlabel": {
                      "align": "left"
                    },
                    "hovermode": "closest",
                    "mapbox": {
                      "style": "light"
                    },
                    "paper_bgcolor": "white",
                    "plot_bgcolor": "#E5ECF6",
                    "polar": {
                      "angularaxis": {
                        "gridcolor": "white",
                        "linecolor": "white",
                        "ticks": ""
                      },
                      "bgcolor": "#E5ECF6",
                      "radialaxis": {
                        "gridcolor": "white",
                        "linecolor": "white",
                        "ticks": ""
                      }
                    },
                    "scene": {
                      "xaxis": {
                        "backgroundcolor": "#E5ECF6",
                        "gridcolor": "white",
                        "gridwidth": 2,
                        "linecolor": "white",
                        "showbackground": true,
                        "ticks": "",
                        "zerolinecolor": "white"
                      },
                      "yaxis": {
                        "backgroundcolor": "#E5ECF6",
                        "gridcolor": "white",
                        "gridwidth": 2,
                        "linecolor": "white",
                        "showbackground": true,
                        "ticks": "",
                        "zerolinecolor": "white"
                      },
                      "zaxis": {
                        "backgroundcolor": "#E5ECF6",
                        "gridcolor": "white",
                        "gridwidth": 2,
                        "linecolor": "white",
                        "showbackground": true,
                        "ticks": "",
                        "zerolinecolor": "white"
                      }
                    },
                    "shapedefaults": {
                      "line": {
                        "color": "#2a3f5f"
                      }
                    },
                    "ternary": {
                      "aaxis": {
                        "gridcolor": "white",
                        "linecolor": "white",
                        "ticks": ""
                      },
                      "baxis": {
                        "gridcolor": "white",
                        "linecolor": "white",
                        "ticks": ""
                      },
                      "bgcolor": "#E5ECF6",
                      "caxis": {
                        "gridcolor": "white",
                        "linecolor": "white",
                        "ticks": ""
                      }
                    },
                    "title": {
                      "x": 0.05
                    },
                    "xaxis": {
                      "automargin": true,
                      "gridcolor": "white",
                      "linecolor": "white",
                      "ticks": "",
                      "title": {
                        "standoff": 15
                      },
                      "zerolinecolor": "white",
                      "zerolinewidth": 2
                    },
                    "yaxis": {
                      "automargin": true,
                      "gridcolor": "white",
                      "linecolor": "white",
                      "ticks": "",
                      "title": {
                        "standoff": 15
                      },
                      "zerolinecolor": "white",
                      "zerolinewidth": 2
                    }
                  }
                },
                "legend": {
                  "tracegroupgap": 0
                },
                "margin": {
                  "t": 60
                }
              },
              "config": {
                "plotlyServerURL": "https://plot.ly"
              }
            },
            "text/html": [
              "<div>                            <div id=\"8a41f9fb-8527-4dbc-964d-aa68f23ca3e6\" class=\"plotly-graph-div\" style=\"height:525px; width:100%;\"></div>            <script type=\"text/javascript\">                require([\"plotly\"], function(Plotly) {                    window.PLOTLYENV=window.PLOTLYENV || {};                                    if (document.getElementById(\"8a41f9fb-8527-4dbc-964d-aa68f23ca3e6\")) {                    Plotly.newPlot(                        \"8a41f9fb-8527-4dbc-964d-aa68f23ca3e6\",                        [{\"branchvalues\":\"total\",\"domain\":{\"x\":[0.0,1.0],\"y\":[0.0,1.0]},\"hovertemplate\":\"labels=%{label}<br>count=%{value}<br>parent=%{parent}<br>id=%{id}<extra></extra>\",\"ids\":[\"Real/0\",\"Fake/1\",\"Fake/2\",\"Fake/3\",\"Fake/4\",\"Real/5\",\"Fake/6\",\"Real/7\",\"Fake\",\"Real\"],\"labels\":[\"0\",\"1\",\"2\",\"3\",\"4\",\"5\",\"6\",\"7\",\"Fake\",\"Real\"],\"name\":\"\",\"parents\":[\"Real\",\"Fake\",\"Fake\",\"Fake\",\"Fake\",\"Real\",\"Fake\",\"Real\",\"\",\"\"],\"values\":[389,430,15,598,146,244,102,121,1291,754],\"type\":\"sunburst\"}],                        {\"template\":{\"data\":{\"bar\":[{\"error_x\":{\"color\":\"#2a3f5f\"},\"error_y\":{\"color\":\"#2a3f5f\"},\"marker\":{\"line\":{\"color\":\"#E5ECF6\",\"width\":0.5},\"pattern\":{\"fillmode\":\"overlay\",\"size\":10,\"solidity\":0.2}},\"type\":\"bar\"}],\"barpolar\":[{\"marker\":{\"line\":{\"color\":\"#E5ECF6\",\"width\":0.5},\"pattern\":{\"fillmode\":\"overlay\",\"size\":10,\"solidity\":0.2}},\"type\":\"barpolar\"}],\"carpet\":[{\"aaxis\":{\"endlinecolor\":\"#2a3f5f\",\"gridcolor\":\"white\",\"linecolor\":\"white\",\"minorgridcolor\":\"white\",\"startlinecolor\":\"#2a3f5f\"},\"baxis\":{\"endlinecolor\":\"#2a3f5f\",\"gridcolor\":\"white\",\"linecolor\":\"white\",\"minorgridcolor\":\"white\",\"startlinecolor\":\"#2a3f5f\"},\"type\":\"carpet\"}],\"choropleth\":[{\"colorbar\":{\"outlinewidth\":0,\"ticks\":\"\"},\"type\":\"choropleth\"}],\"contour\":[{\"colorbar\":{\"outlinewidth\":0,\"ticks\":\"\"},\"colorscale\":[[0.0,\"#0d0887\"],[0.1111111111111111,\"#46039f\"],[0.2222222222222222,\"#7201a8\"],[0.3333333333333333,\"#9c179e\"],[0.4444444444444444,\"#bd3786\"],[0.5555555555555556,\"#d8576b\"],[0.6666666666666666,\"#ed7953\"],[0.7777777777777778,\"#fb9f3a\"],[0.8888888888888888,\"#fdca26\"],[1.0,\"#f0f921\"]],\"type\":\"contour\"}],\"contourcarpet\":[{\"colorbar\":{\"outlinewidth\":0,\"ticks\":\"\"},\"type\":\"contourcarpet\"}],\"heatmap\":[{\"colorbar\":{\"outlinewidth\":0,\"ticks\":\"\"},\"colorscale\":[[0.0,\"#0d0887\"],[0.1111111111111111,\"#46039f\"],[0.2222222222222222,\"#7201a8\"],[0.3333333333333333,\"#9c179e\"],[0.4444444444444444,\"#bd3786\"],[0.5555555555555556,\"#d8576b\"],[0.6666666666666666,\"#ed7953\"],[0.7777777777777778,\"#fb9f3a\"],[0.8888888888888888,\"#fdca26\"],[1.0,\"#f0f921\"]],\"type\":\"heatmap\"}],\"heatmapgl\":[{\"colorbar\":{\"outlinewidth\":0,\"ticks\":\"\"},\"colorscale\":[[0.0,\"#0d0887\"],[0.1111111111111111,\"#46039f\"],[0.2222222222222222,\"#7201a8\"],[0.3333333333333333,\"#9c179e\"],[0.4444444444444444,\"#bd3786\"],[0.5555555555555556,\"#d8576b\"],[0.6666666666666666,\"#ed7953\"],[0.7777777777777778,\"#fb9f3a\"],[0.8888888888888888,\"#fdca26\"],[1.0,\"#f0f921\"]],\"type\":\"heatmapgl\"}],\"histogram\":[{\"marker\":{\"pattern\":{\"fillmode\":\"overlay\",\"size\":10,\"solidity\":0.2}},\"type\":\"histogram\"}],\"histogram2d\":[{\"colorbar\":{\"outlinewidth\":0,\"ticks\":\"\"},\"colorscale\":[[0.0,\"#0d0887\"],[0.1111111111111111,\"#46039f\"],[0.2222222222222222,\"#7201a8\"],[0.3333333333333333,\"#9c179e\"],[0.4444444444444444,\"#bd3786\"],[0.5555555555555556,\"#d8576b\"],[0.6666666666666666,\"#ed7953\"],[0.7777777777777778,\"#fb9f3a\"],[0.8888888888888888,\"#fdca26\"],[1.0,\"#f0f921\"]],\"type\":\"histogram2d\"}],\"histogram2dcontour\":[{\"colorbar\":{\"outlinewidth\":0,\"ticks\":\"\"},\"colorscale\":[[0.0,\"#0d0887\"],[0.1111111111111111,\"#46039f\"],[0.2222222222222222,\"#7201a8\"],[0.3333333333333333,\"#9c179e\"],[0.4444444444444444,\"#bd3786\"],[0.5555555555555556,\"#d8576b\"],[0.6666666666666666,\"#ed7953\"],[0.7777777777777778,\"#fb9f3a\"],[0.8888888888888888,\"#fdca26\"],[1.0,\"#f0f921\"]],\"type\":\"histogram2dcontour\"}],\"mesh3d\":[{\"colorbar\":{\"outlinewidth\":0,\"ticks\":\"\"},\"type\":\"mesh3d\"}],\"parcoords\":[{\"line\":{\"colorbar\":{\"outlinewidth\":0,\"ticks\":\"\"}},\"type\":\"parcoords\"}],\"pie\":[{\"automargin\":true,\"type\":\"pie\"}],\"scatter\":[{\"marker\":{\"colorbar\":{\"outlinewidth\":0,\"ticks\":\"\"}},\"type\":\"scatter\"}],\"scatter3d\":[{\"line\":{\"colorbar\":{\"outlinewidth\":0,\"ticks\":\"\"}},\"marker\":{\"colorbar\":{\"outlinewidth\":0,\"ticks\":\"\"}},\"type\":\"scatter3d\"}],\"scattercarpet\":[{\"marker\":{\"colorbar\":{\"outlinewidth\":0,\"ticks\":\"\"}},\"type\":\"scattercarpet\"}],\"scattergeo\":[{\"marker\":{\"colorbar\":{\"outlinewidth\":0,\"ticks\":\"\"}},\"type\":\"scattergeo\"}],\"scattergl\":[{\"marker\":{\"colorbar\":{\"outlinewidth\":0,\"ticks\":\"\"}},\"type\":\"scattergl\"}],\"scattermapbox\":[{\"marker\":{\"colorbar\":{\"outlinewidth\":0,\"ticks\":\"\"}},\"type\":\"scattermapbox\"}],\"scatterpolar\":[{\"marker\":{\"colorbar\":{\"outlinewidth\":0,\"ticks\":\"\"}},\"type\":\"scatterpolar\"}],\"scatterpolargl\":[{\"marker\":{\"colorbar\":{\"outlinewidth\":0,\"ticks\":\"\"}},\"type\":\"scatterpolargl\"}],\"scatterternary\":[{\"marker\":{\"colorbar\":{\"outlinewidth\":0,\"ticks\":\"\"}},\"type\":\"scatterternary\"}],\"surface\":[{\"colorbar\":{\"outlinewidth\":0,\"ticks\":\"\"},\"colorscale\":[[0.0,\"#0d0887\"],[0.1111111111111111,\"#46039f\"],[0.2222222222222222,\"#7201a8\"],[0.3333333333333333,\"#9c179e\"],[0.4444444444444444,\"#bd3786\"],[0.5555555555555556,\"#d8576b\"],[0.6666666666666666,\"#ed7953\"],[0.7777777777777778,\"#fb9f3a\"],[0.8888888888888888,\"#fdca26\"],[1.0,\"#f0f921\"]],\"type\":\"surface\"}],\"table\":[{\"cells\":{\"fill\":{\"color\":\"#EBF0F8\"},\"line\":{\"color\":\"white\"}},\"header\":{\"fill\":{\"color\":\"#C8D4E3\"},\"line\":{\"color\":\"white\"}},\"type\":\"table\"}]},\"layout\":{\"annotationdefaults\":{\"arrowcolor\":\"#2a3f5f\",\"arrowhead\":0,\"arrowwidth\":1},\"autotypenumbers\":\"strict\",\"coloraxis\":{\"colorbar\":{\"outlinewidth\":0,\"ticks\":\"\"}},\"colorscale\":{\"diverging\":[[0,\"#8e0152\"],[0.1,\"#c51b7d\"],[0.2,\"#de77ae\"],[0.3,\"#f1b6da\"],[0.4,\"#fde0ef\"],[0.5,\"#f7f7f7\"],[0.6,\"#e6f5d0\"],[0.7,\"#b8e186\"],[0.8,\"#7fbc41\"],[0.9,\"#4d9221\"],[1,\"#276419\"]],\"sequential\":[[0.0,\"#0d0887\"],[0.1111111111111111,\"#46039f\"],[0.2222222222222222,\"#7201a8\"],[0.3333333333333333,\"#9c179e\"],[0.4444444444444444,\"#bd3786\"],[0.5555555555555556,\"#d8576b\"],[0.6666666666666666,\"#ed7953\"],[0.7777777777777778,\"#fb9f3a\"],[0.8888888888888888,\"#fdca26\"],[1.0,\"#f0f921\"]],\"sequentialminus\":[[0.0,\"#0d0887\"],[0.1111111111111111,\"#46039f\"],[0.2222222222222222,\"#7201a8\"],[0.3333333333333333,\"#9c179e\"],[0.4444444444444444,\"#bd3786\"],[0.5555555555555556,\"#d8576b\"],[0.6666666666666666,\"#ed7953\"],[0.7777777777777778,\"#fb9f3a\"],[0.8888888888888888,\"#fdca26\"],[1.0,\"#f0f921\"]]},\"colorway\":[\"#636efa\",\"#EF553B\",\"#00cc96\",\"#ab63fa\",\"#FFA15A\",\"#19d3f3\",\"#FF6692\",\"#B6E880\",\"#FF97FF\",\"#FECB52\"],\"font\":{\"color\":\"#2a3f5f\"},\"geo\":{\"bgcolor\":\"white\",\"lakecolor\":\"white\",\"landcolor\":\"#E5ECF6\",\"showlakes\":true,\"showland\":true,\"subunitcolor\":\"white\"},\"hoverlabel\":{\"align\":\"left\"},\"hovermode\":\"closest\",\"mapbox\":{\"style\":\"light\"},\"paper_bgcolor\":\"white\",\"plot_bgcolor\":\"#E5ECF6\",\"polar\":{\"angularaxis\":{\"gridcolor\":\"white\",\"linecolor\":\"white\",\"ticks\":\"\"},\"bgcolor\":\"#E5ECF6\",\"radialaxis\":{\"gridcolor\":\"white\",\"linecolor\":\"white\",\"ticks\":\"\"}},\"scene\":{\"xaxis\":{\"backgroundcolor\":\"#E5ECF6\",\"gridcolor\":\"white\",\"gridwidth\":2,\"linecolor\":\"white\",\"showbackground\":true,\"ticks\":\"\",\"zerolinecolor\":\"white\"},\"yaxis\":{\"backgroundcolor\":\"#E5ECF6\",\"gridcolor\":\"white\",\"gridwidth\":2,\"linecolor\":\"white\",\"showbackground\":true,\"ticks\":\"\",\"zerolinecolor\":\"white\"},\"zaxis\":{\"backgroundcolor\":\"#E5ECF6\",\"gridcolor\":\"white\",\"gridwidth\":2,\"linecolor\":\"white\",\"showbackground\":true,\"ticks\":\"\",\"zerolinecolor\":\"white\"}},\"shapedefaults\":{\"line\":{\"color\":\"#2a3f5f\"}},\"ternary\":{\"aaxis\":{\"gridcolor\":\"white\",\"linecolor\":\"white\",\"ticks\":\"\"},\"baxis\":{\"gridcolor\":\"white\",\"linecolor\":\"white\",\"ticks\":\"\"},\"bgcolor\":\"#E5ECF6\",\"caxis\":{\"gridcolor\":\"white\",\"linecolor\":\"white\",\"ticks\":\"\"}},\"title\":{\"x\":0.05},\"xaxis\":{\"automargin\":true,\"gridcolor\":\"white\",\"linecolor\":\"white\",\"ticks\":\"\",\"title\":{\"standoff\":15},\"zerolinecolor\":\"white\",\"zerolinewidth\":2},\"yaxis\":{\"automargin\":true,\"gridcolor\":\"white\",\"linecolor\":\"white\",\"ticks\":\"\",\"title\":{\"standoff\":15},\"zerolinecolor\":\"white\",\"zerolinewidth\":2}}},\"legend\":{\"tracegroupgap\":0},\"margin\":{\"t\":60}},                        {\"responsive\": true}                    ).then(function(){\n",
              "                            \n",
              "var gd = document.getElementById('8a41f9fb-8527-4dbc-964d-aa68f23ca3e6');\n",
              "var x = new MutationObserver(function (mutations, observer) {{\n",
              "        var display = window.getComputedStyle(gd).display;\n",
              "        if (!display || display === 'none') {{\n",
              "            console.log([gd, 'removed!']);\n",
              "            Plotly.purge(gd);\n",
              "            observer.disconnect();\n",
              "        }}\n",
              "}});\n",
              "\n",
              "// Listen for the removal of the full notebook cells\n",
              "var notebookContainer = gd.closest('#notebook-container');\n",
              "if (notebookContainer) {{\n",
              "    x.observe(notebookContainer, {childList: true});\n",
              "}}\n",
              "\n",
              "// Listen for the clearing of the current output cell\n",
              "var outputEl = gd.closest('.output');\n",
              "if (outputEl) {{\n",
              "    x.observe(outputEl, {childList: true});\n",
              "}}\n",
              "\n",
              "                        })                };                });            </script>        </div>"
            ]
          },
          "metadata": {}
        }
      ]
    },
    {
      "cell_type": "markdown",
      "source": [
        "Websites and types of news published"
      ],
      "metadata": {
        "id": "a8bsoh7fUbMW"
      }
    },
    {
      "cell_type": "code",
      "source": [
        "df_type = df[['site_url','type']]\n",
        "\n",
        "val_bias=[]\n",
        "val_conspiracy=[]\n",
        "val_fake1=[]\n",
        "val_bs=[]\n",
        "val_satire=[]\n",
        "val_hate=[]\n",
        "val_junksci=[]\n",
        "val_state=[]\n",
        "{'bias': 0, 'conspiracy': 1,'fake': 2,'bs': 3,'satire': 4, 'hate': 5,'junksci': 6, 'state': 7}\n",
        "for i,row in df_type.iterrows():\n",
        "    val = row['site_url']\n",
        "    if row['type'] == 0:\n",
        "        val_bias.append(val)\n",
        "    elif row['type']== 1:\n",
        "        val_conspiracy.append(val)\n",
        "    elif row['type']== 2:\n",
        "        val_fake1.append(val)\n",
        "    elif row['type']== 3:\n",
        "        val_bs.append(val)\n",
        "    elif row['type']== 4:\n",
        "        val_satire.append(val)\n",
        "    elif row['type']== 5:\n",
        "        val_hate.append(val)\n",
        "    elif row['type']== 6:\n",
        "        val_junksci.append(val)\n",
        "    elif row['type']== 7:\n",
        "        val_state.append(val)"
      ],
      "metadata": {
        "id": "A9a3ef1lUORA"
      },
      "execution_count": 234,
      "outputs": []
    },
    {
      "cell_type": "code",
      "source": [
        "uv_bias = list(OrderedDict.fromkeys(val_bias)) \n",
        "uv_conspiracy = list(OrderedDict.fromkeys(val_conspiracy)) \n",
        "uv_fake = list(OrderedDict.fromkeys(val_fake1)) \n",
        "uv_bs = list(OrderedDict.fromkeys(val_bs)) \n",
        "uv_satire = list(OrderedDict.fromkeys(val_satire)) \n",
        "uv_hate = list(OrderedDict.fromkeys(val_hate)) \n",
        "uv_junksci = list(OrderedDict.fromkeys(val_junksci)) \n",
        "uv_state = list(OrderedDict.fromkeys(val_state)) \n",
        "\n",
        "print(f\"{b_}{type1}\\n\")\n",
        "i=0\n",
        "for lst in (uv_bias,uv_conspiracy,uv_fake,uv_bs,uv_satire, uv_hate,uv_junksci,uv_state): \n",
        "    print(f\"{y_}Source URLs for type:{b_}{i}{r_}{lst}\\n\") \n",
        "    i+=1"
      ],
      "metadata": {
        "id": "PRYeo0H-UOTj",
        "colab": {
          "base_uri": "https://localhost:8080/"
        },
        "outputId": "b5dd312d-a420-4a63-c76d-313717f2886f"
      },
      "execution_count": 235,
      "outputs": [
        {
          "output_type": "stream",
          "name": "stdout",
          "text": [
            "\u001b[34m{'bias': 0, 'conspiracy': 1, 'fake': 2, 'bs': 3, 'satire': 4, 'hate': 5, 'junksci': 6, 'state': 7}\n",
            "\n",
            "\u001b[33mSource URLs for type:\u001b[34m0\u001b[31m['100percentfedup.com', 'addictinginfo.org', 'dailywire.com', 'newstarget.com', 'politicususa.com', 'prisonplanet.com', 'proudemocrat.com', 'washingtonsblog.com', 'westernjournalism.com', 'whydontyoutrythis.com', 'wnd.com']\n",
            "\n",
            "\u001b[33mSource URLs for type:\u001b[34m1\u001b[31m['21stcenturywire.com', 'activistpost.com', 'awdnews.com', 'galacticconnection.com', 'globalresearch.ca', 'infowars.com', 'naturalnews.com', 'newstarget.com', 'presstv.ir', 'prisonplanet.com']\n",
            "\n",
            "\u001b[33mSource URLs for type:\u001b[34m2\u001b[31m['abcnews.com.co', 'adobochronicles.com']\n",
            "\n",
            "\u001b[33mSource URLs for type:\u001b[34m3\u001b[31m['abeldanger.net', 'abovetopsecret.com', 'ahtribune.com', 'allnewspipeline.com', 'americannews.com', 'americasfreedomfighters.com', 'amren.com', 'amtvmedia.com', 'barenakedislam.com', 'coasttocoastam.com', 'corbettreport.com', 'countercurrents.org', 'counterpunch.org', 'darkmoon.me', 'davidduke.com', 'davidstockmanscontracorner.com', 'davidwolfe.com', 'dcclothesline.com', 'defenddemocracy.press', 'dennismichaellynch.com', 'departed.co', 'der-postillon.com', 'fromthetrenchesworldreport.com', 'frontpagemag.com', 'galacticconnection.com', 'infowars.com', 'legorafi.fr', 'projectveritas.com', 'returnofkings.com', 'shiftfrequency.com', 'thedailysheeple.com', 'theeconomiccollapseblog.com', 'thefreethoughtproject.com', 'themindunleashed.com', 'theonion.com', 'thepeoplescube.com', 'therussophile.org', 'thesaker.is', 'thetruthseeker.co.uk', 'theunrealtimes.com', 'topinfopost.com', 'veteranstoday.com', 'voltairenet.org', 'washingtonsblog.com', 'westernjournalism.com', 'whatreallyhappened.com']\n",
            "\n",
            "\u001b[33mSource URLs for type:\u001b[34m4\u001b[31m['clickhole.com', 'intrepidreport.com', 'legorafi.fr']\n",
            "\n",
            "\u001b[33mSource URLs for type:\u001b[34m5\u001b[31m['davidduke.com', 'fromthetrenchesworldreport.com', 'frontpagemag.com', 'redstatewatcher.com', 'returnofkings.com']\n",
            "\n",
            "\u001b[33mSource URLs for type:\u001b[34m6\u001b[31m['davidstockmanscontracorner.com', 'davidwolfe.com', 'madworldnews.com', 'naturalnews.com']\n",
            "\n",
            "\u001b[33mSource URLs for type:\u001b[34m7\u001b[31m['politicususa.com', 'presstv.com', 'presstv.ir']\n",
            "\n"
          ]
        }
      ]
    },
    {
      "cell_type": "markdown",
      "source": [
        "Shuffling values"
      ],
      "metadata": {
        "id": "lrTBDHL1Ul_Q"
      }
    },
    {
      "cell_type": "code",
      "source": [
        "df1 = df.sample(frac=1)\n",
        "df1.head()"
      ],
      "metadata": {
        "id": "kfUoUSJnUOVr",
        "colab": {
          "base_uri": "https://localhost:8080/",
          "height": 735
        },
        "outputId": "62c325de-b3ff-4220-f60c-9b37480a9e2f"
      },
      "execution_count": 236,
      "outputs": [
        {
          "output_type": "execute_result",
          "data": {
            "text/plain": [
              "                                   published  \\\n",
              "author                                         \n",
              "No Author      2016-10-26T14:07:00.000+03:00   \n",
              "Anonymous      2016-10-29T22:25:00.000+03:00   \n",
              "Alex Ansary    2016-11-03T03:45:27.666+02:00   \n",
              "Activist Post  2016-11-03T00:00:56.085+02:00   \n",
              "Isabelle Z.    2016-10-29T14:00:00.000+03:00   \n",
              "\n",
              "                                                           title  \\\n",
              "author                                                             \n",
              "No Author      presstvnato pushes military buildup plans near...   \n",
              "Anonymous                                               no title   \n",
              "Alex Ansary                               donald trump a kgb spy   \n",
              "Activist Post  regardless of who wins the election confidence...   \n",
              "Isabelle Z.    fast food combo meals tied to kids overconsump...   \n",
              "\n",
              "                                                            text language  \\\n",
              "author                                                                      \n",
              "No Author      syria this file photo shows smoke rising from ...  english   \n",
              "Anonymous      its dark alright  in a sad twist of fate these...  english   \n",
              "Alex Ansary    msm caught preparing hillary victory results p...  english   \n",
              "Activist Post  by tom luongo the federal reserves open market...  english   \n",
              "Isabelle Z.    food poverty  million americans struggle to pu...  english   \n",
              "\n",
              "                       site_url  \\\n",
              "author                            \n",
              "No Author            presstv.ir   \n",
              "Anonymous        abeldanger.net   \n",
              "Alex Ansary       amtvmedia.com   \n",
              "Activist Post  activistpost.com   \n",
              "Isabelle Z.     naturalnews.com   \n",
              "\n",
              "                                                    main_img_url  type label  \\\n",
              "author                                                                         \n",
              "No Author      http://media.presstv.com/photo/20161027/8d8111...     7  Real   \n",
              "Anonymous                                           No Image URL     3  Fake   \n",
              "Alex Ansary    http://www.amtvmedia.com/wp-content/uploads/20...     3  Fake   \n",
              "Activist Post                                       No Image URL     1  Fake   \n",
              "Isabelle Z.    http://www.naturalnews.com/gallery/640/Misc/Zi...     6  Fake   \n",
              "\n",
              "                                         title_without_stopwords  \\\n",
              "author                                                             \n",
              "No Author              presstvscotland warns brexit implications   \n",
              "Anonymous                                                  title   \n",
              "Alex Ansary                                 donald trump kgb spy   \n",
              "Activist Post  regardless wins election confidence washington...   \n",
              "Isabelle Z.    surgeons admit mammography outdated harmful women   \n",
              "\n",
              "                                          text_without_stopwords  hasImage  \n",
              "author                                                                      \n",
              "No Author      fms iran syria russia meet moscow fri oct poli...       1.0  \n",
              "Anonymous      dark alright sad twist fate black people power...       0.0  \n",
              "Alex Ansary    msm caught preparing hillary victory results p...       1.0  \n",
              "Activist Post  tom luongo federal reserves open market commit...       0.0  \n",
              "Isabelle Z.    americans health deteriorating obamacare life ...       1.0  "
            ],
            "text/html": [
              "\n",
              "  <div id=\"df-05a3c714-c995-4dd8-bcf4-276cf05ec202\">\n",
              "    <div class=\"colab-df-container\">\n",
              "      <div>\n",
              "<style scoped>\n",
              "    .dataframe tbody tr th:only-of-type {\n",
              "        vertical-align: middle;\n",
              "    }\n",
              "\n",
              "    .dataframe tbody tr th {\n",
              "        vertical-align: top;\n",
              "    }\n",
              "\n",
              "    .dataframe thead th {\n",
              "        text-align: right;\n",
              "    }\n",
              "</style>\n",
              "<table border=\"1\" class=\"dataframe\">\n",
              "  <thead>\n",
              "    <tr style=\"text-align: right;\">\n",
              "      <th></th>\n",
              "      <th>published</th>\n",
              "      <th>title</th>\n",
              "      <th>text</th>\n",
              "      <th>language</th>\n",
              "      <th>site_url</th>\n",
              "      <th>main_img_url</th>\n",
              "      <th>type</th>\n",
              "      <th>label</th>\n",
              "      <th>title_without_stopwords</th>\n",
              "      <th>text_without_stopwords</th>\n",
              "      <th>hasImage</th>\n",
              "    </tr>\n",
              "    <tr>\n",
              "      <th>author</th>\n",
              "      <th></th>\n",
              "      <th></th>\n",
              "      <th></th>\n",
              "      <th></th>\n",
              "      <th></th>\n",
              "      <th></th>\n",
              "      <th></th>\n",
              "      <th></th>\n",
              "      <th></th>\n",
              "      <th></th>\n",
              "      <th></th>\n",
              "    </tr>\n",
              "  </thead>\n",
              "  <tbody>\n",
              "    <tr>\n",
              "      <th>No Author</th>\n",
              "      <td>2016-10-26T14:07:00.000+03:00</td>\n",
              "      <td>presstvnato pushes military buildup plans near...</td>\n",
              "      <td>syria this file photo shows smoke rising from ...</td>\n",
              "      <td>english</td>\n",
              "      <td>presstv.ir</td>\n",
              "      <td>http://media.presstv.com/photo/20161027/8d8111...</td>\n",
              "      <td>7</td>\n",
              "      <td>Real</td>\n",
              "      <td>presstvscotland warns brexit implications</td>\n",
              "      <td>fms iran syria russia meet moscow fri oct poli...</td>\n",
              "      <td>1.0</td>\n",
              "    </tr>\n",
              "    <tr>\n",
              "      <th>Anonymous</th>\n",
              "      <td>2016-10-29T22:25:00.000+03:00</td>\n",
              "      <td>no title</td>\n",
              "      <td>its dark alright  in a sad twist of fate these...</td>\n",
              "      <td>english</td>\n",
              "      <td>abeldanger.net</td>\n",
              "      <td>No Image URL</td>\n",
              "      <td>3</td>\n",
              "      <td>Fake</td>\n",
              "      <td>title</td>\n",
              "      <td>dark alright sad twist fate black people power...</td>\n",
              "      <td>0.0</td>\n",
              "    </tr>\n",
              "    <tr>\n",
              "      <th>Alex Ansary</th>\n",
              "      <td>2016-11-03T03:45:27.666+02:00</td>\n",
              "      <td>donald trump a kgb spy</td>\n",
              "      <td>msm caught preparing hillary victory results p...</td>\n",
              "      <td>english</td>\n",
              "      <td>amtvmedia.com</td>\n",
              "      <td>http://www.amtvmedia.com/wp-content/uploads/20...</td>\n",
              "      <td>3</td>\n",
              "      <td>Fake</td>\n",
              "      <td>donald trump kgb spy</td>\n",
              "      <td>msm caught preparing hillary victory results p...</td>\n",
              "      <td>1.0</td>\n",
              "    </tr>\n",
              "    <tr>\n",
              "      <th>Activist Post</th>\n",
              "      <td>2016-11-03T00:00:56.085+02:00</td>\n",
              "      <td>regardless of who wins the election confidence...</td>\n",
              "      <td>by tom luongo the federal reserves open market...</td>\n",
              "      <td>english</td>\n",
              "      <td>activistpost.com</td>\n",
              "      <td>No Image URL</td>\n",
              "      <td>1</td>\n",
              "      <td>Fake</td>\n",
              "      <td>regardless wins election confidence washington...</td>\n",
              "      <td>tom luongo federal reserves open market commit...</td>\n",
              "      <td>0.0</td>\n",
              "    </tr>\n",
              "    <tr>\n",
              "      <th>Isabelle Z.</th>\n",
              "      <td>2016-10-29T14:00:00.000+03:00</td>\n",
              "      <td>fast food combo meals tied to kids overconsump...</td>\n",
              "      <td>food poverty  million americans struggle to pu...</td>\n",
              "      <td>english</td>\n",
              "      <td>naturalnews.com</td>\n",
              "      <td>http://www.naturalnews.com/gallery/640/Misc/Zi...</td>\n",
              "      <td>6</td>\n",
              "      <td>Fake</td>\n",
              "      <td>surgeons admit mammography outdated harmful women</td>\n",
              "      <td>americans health deteriorating obamacare life ...</td>\n",
              "      <td>1.0</td>\n",
              "    </tr>\n",
              "  </tbody>\n",
              "</table>\n",
              "</div>\n",
              "      <button class=\"colab-df-convert\" onclick=\"convertToInteractive('df-05a3c714-c995-4dd8-bcf4-276cf05ec202')\"\n",
              "              title=\"Convert this dataframe to an interactive table.\"\n",
              "              style=\"display:none;\">\n",
              "        \n",
              "  <svg xmlns=\"http://www.w3.org/2000/svg\" height=\"24px\"viewBox=\"0 0 24 24\"\n",
              "       width=\"24px\">\n",
              "    <path d=\"M0 0h24v24H0V0z\" fill=\"none\"/>\n",
              "    <path d=\"M18.56 5.44l.94 2.06.94-2.06 2.06-.94-2.06-.94-.94-2.06-.94 2.06-2.06.94zm-11 1L8.5 8.5l.94-2.06 2.06-.94-2.06-.94L8.5 2.5l-.94 2.06-2.06.94zm10 10l.94 2.06.94-2.06 2.06-.94-2.06-.94-.94-2.06-.94 2.06-2.06.94z\"/><path d=\"M17.41 7.96l-1.37-1.37c-.4-.4-.92-.59-1.43-.59-.52 0-1.04.2-1.43.59L10.3 9.45l-7.72 7.72c-.78.78-.78 2.05 0 2.83L4 21.41c.39.39.9.59 1.41.59.51 0 1.02-.2 1.41-.59l7.78-7.78 2.81-2.81c.8-.78.8-2.07 0-2.86zM5.41 20L4 18.59l7.72-7.72 1.47 1.35L5.41 20z\"/>\n",
              "  </svg>\n",
              "      </button>\n",
              "      \n",
              "  <style>\n",
              "    .colab-df-container {\n",
              "      display:flex;\n",
              "      flex-wrap:wrap;\n",
              "      gap: 12px;\n",
              "    }\n",
              "\n",
              "    .colab-df-convert {\n",
              "      background-color: #E8F0FE;\n",
              "      border: none;\n",
              "      border-radius: 50%;\n",
              "      cursor: pointer;\n",
              "      display: none;\n",
              "      fill: #1967D2;\n",
              "      height: 32px;\n",
              "      padding: 0 0 0 0;\n",
              "      width: 32px;\n",
              "    }\n",
              "\n",
              "    .colab-df-convert:hover {\n",
              "      background-color: #E2EBFA;\n",
              "      box-shadow: 0px 1px 2px rgba(60, 64, 67, 0.3), 0px 1px 3px 1px rgba(60, 64, 67, 0.15);\n",
              "      fill: #174EA6;\n",
              "    }\n",
              "\n",
              "    [theme=dark] .colab-df-convert {\n",
              "      background-color: #3B4455;\n",
              "      fill: #D2E3FC;\n",
              "    }\n",
              "\n",
              "    [theme=dark] .colab-df-convert:hover {\n",
              "      background-color: #434B5C;\n",
              "      box-shadow: 0px 1px 3px 1px rgba(0, 0, 0, 0.15);\n",
              "      filter: drop-shadow(0px 1px 2px rgba(0, 0, 0, 0.3));\n",
              "      fill: #FFFFFF;\n",
              "    }\n",
              "  </style>\n",
              "\n",
              "      <script>\n",
              "        const buttonEl =\n",
              "          document.querySelector('#df-05a3c714-c995-4dd8-bcf4-276cf05ec202 button.colab-df-convert');\n",
              "        buttonEl.style.display =\n",
              "          google.colab.kernel.accessAllowed ? 'block' : 'none';\n",
              "\n",
              "        async function convertToInteractive(key) {\n",
              "          const element = document.querySelector('#df-05a3c714-c995-4dd8-bcf4-276cf05ec202');\n",
              "          const dataTable =\n",
              "            await google.colab.kernel.invokeFunction('convertToInteractive',\n",
              "                                                     [key], {});\n",
              "          if (!dataTable) return;\n",
              "\n",
              "          const docLinkHtml = 'Like what you see? Visit the ' +\n",
              "            '<a target=\"_blank\" href=https://colab.research.google.com/notebooks/data_table.ipynb>data table notebook</a>'\n",
              "            + ' to learn more about interactive tables.';\n",
              "          element.innerHTML = '';\n",
              "          dataTable['output_type'] = 'display_data';\n",
              "          await google.colab.output.renderOutput(dataTable, element);\n",
              "          const docLink = document.createElement('div');\n",
              "          docLink.innerHTML = docLinkHtml;\n",
              "          element.appendChild(docLink);\n",
              "        }\n",
              "      </script>\n",
              "    </div>\n",
              "  </div>\n",
              "  "
            ]
          },
          "metadata": {},
          "execution_count": 236
        }
      ]
    },
    {
      "cell_type": "markdown",
      "source": [
        "Training and Testing"
      ],
      "metadata": {
        "id": "bjIpW0ubUrFB"
      }
    },
    {
      "cell_type": "code",
      "source": [
        "y = df1.type\n",
        "\n",
        "x = df1.loc[:,['site_url','text_without_stopwords']]\n",
        "x['source'] = x[\"site_url\"].astype(str) +\" \"+ x[\"text_without_stopwords\"] \n",
        "x = x.drop(['site_url','text_without_stopwords'],axis=1)\n",
        "x = x.source"
      ],
      "metadata": {
        "id": "radgaU0MUhbI"
      },
      "execution_count": 237,
      "outputs": []
    },
    {
      "cell_type": "code",
      "source": [
        "y = df1.type\n",
        "\n",
        "x = df1.loc[:,['site_url','text_without_stopwords']]\n",
        "x['source'] = x[\"site_url\"].astype(str) +\" \"+ x[\"text_without_stopwords\"] \n",
        "x = x.drop(['site_url','text_without_stopwords'],axis=1)\n",
        "x = x.source"
      ],
      "metadata": {
        "id": "RdsdDpfYUheQ"
      },
      "execution_count": 238,
      "outputs": []
    },
    {
      "cell_type": "code",
      "source": [
        "!pip install tfidf"
      ],
      "metadata": {
        "colab": {
          "base_uri": "https://localhost:8080/"
        },
        "id": "XNdlArqAbbJt",
        "outputId": "addb9ab3-a62d-4234-9fd8-9f83f1223014"
      },
      "execution_count": 239,
      "outputs": [
        {
          "output_type": "stream",
          "name": "stdout",
          "text": [
            "Looking in indexes: https://pypi.org/simple, https://us-python.pkg.dev/colab-wheels/public/simple/\n",
            "Requirement already satisfied: tfidf in /usr/local/lib/python3.7/dist-packages (0.0.6)\n",
            "Requirement already satisfied: etl-utils>=0.0.9 in /usr/local/lib/python3.7/dist-packages (from tfidf) (0.1.11)\n",
            "Requirement already satisfied: cached-property in /usr/local/lib/python3.7/dist-packages (from etl-utils>=0.0.9->tfidf) (1.5.2)\n",
            "Requirement already satisfied: humanize==0.5.1 in /usr/local/lib/python3.7/dist-packages (from etl-utils>=0.0.9->tfidf) (0.5.1)\n",
            "Requirement already satisfied: progressbar==2.2 in /usr/local/lib/python3.7/dist-packages (from etl-utils>=0.0.9->tfidf) (2.2)\n",
            "Requirement already satisfied: termcolor in /usr/local/lib/python3.7/dist-packages (from etl-utils>=0.0.9->tfidf) (2.1.0)\n",
            "Requirement already satisfied: pysingleton in /usr/local/lib/python3.7/dist-packages (from etl-utils>=0.0.9->tfidf) (0.2.1)\n"
          ]
        }
      ]
    },
    {
      "cell_type": "code",
      "source": [
        "x_train,x_test,y_train,y_test=train_test_split(x,y,test_size=0.30)\n",
        "\n",
        "tfidf_vect = TfidfVectorizer(stop_words = 'english')\n",
        "tfidf_train = tfidf_vect.fit_transform(x_train)\n",
        "tfidf_test = tfidf_vect.transform(x_test)\n",
        "tfidf_df = pd.DataFrame(tfidf_train.A, columns=tfidf_vect.get_feature_names())"
      ],
      "metadata": {
        "colab": {
          "base_uri": "https://localhost:8080/"
        },
        "id": "i8uXPlETmj6a",
        "outputId": "3f4b81fc-5843-4e0b-841c-834ff663577e"
      },
      "execution_count": 243,
      "outputs": [
        {
          "output_type": "stream",
          "name": "stderr",
          "text": [
            "/usr/local/lib/python3.7/dist-packages/sklearn/utils/deprecation.py:87: FutureWarning:\n",
            "\n",
            "Function get_feature_names is deprecated; get_feature_names is deprecated in 1.0 and will be removed in 1.2. Please use get_feature_names_out instead.\n",
            "\n"
          ]
        }
      ]
    },
    {
      "cell_type": "code",
      "source": [
        "tfidf_vect\n",
        "tfidf_train.shape"
      ],
      "metadata": {
        "colab": {
          "base_uri": "https://localhost:8080/"
        },
        "id": "qb4GjQ7gmnRP",
        "outputId": "d5cf7a2a-f34b-46fc-eabc-a2a19e9c2bed"
      },
      "execution_count": 244,
      "outputs": [
        {
          "output_type": "execute_result",
          "data": {
            "text/plain": [
              "(1431, 38980)"
            ]
          },
          "metadata": {},
          "execution_count": 244
        }
      ]
    },
    {
      "cell_type": "markdown",
      "source": [
        "AdaBoost Classifier"
      ],
      "metadata": {
        "id": "Z4Hq_2HGmx3T"
      }
    },
    {
      "cell_type": "code",
      "source": [
        "Adab = AdaBoostClassifier(DecisionTreeClassifier(max_depth=10),n_estimators=5,random_state=1)\n",
        "Adab.fit(tfidf_train, y_train)\n",
        "y_pred3 = Adab.predict(tfidf_test)\n",
        "ABscore = metrics.accuracy_score(y_test,y_pred3)\n",
        "print(\"accuracy: %0.3f\" %ABscore)"
      ],
      "metadata": {
        "id": "5r9dIcEzUhoa",
        "colab": {
          "base_uri": "https://localhost:8080/"
        },
        "outputId": "3cab2356-0c20-41e2-ed22-636079ad9854"
      },
      "execution_count": 245,
      "outputs": [
        {
          "output_type": "stream",
          "name": "stdout",
          "text": [
            "accuracy: 0.961\n"
          ]
        }
      ]
    },
    {
      "cell_type": "markdown",
      "source": [
        "Random forest Classifier"
      ],
      "metadata": {
        "id": "DEogEVzgm2mj"
      }
    },
    {
      "cell_type": "code",
      "source": [
        "Rando = RandomForestClassifier(n_estimators=100,random_state=0)\n",
        "Rando.fit(tfidf_train,y_train)\n",
        "y_pred1 = Rando.predict(tfidf_test)\n",
        "RFscore = metrics.accuracy_score(y_test,y_pred1)\n",
        "print(\"accuracy:  %0.3f\" %RFscore)"
      ],
      "metadata": {
        "id": "gwbCJm4gUObn",
        "colab": {
          "base_uri": "https://localhost:8080/"
        },
        "outputId": "21d5c0e5-4ac7-4cbd-fcc8-5441a8ad47b2"
      },
      "execution_count": 246,
      "outputs": [
        {
          "output_type": "stream",
          "name": "stdout",
          "text": [
            "accuracy:  0.862\n"
          ]
        }
      ]
    }
  ]
}